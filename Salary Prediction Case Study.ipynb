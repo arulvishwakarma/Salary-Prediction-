{
 "cells": [
  {
   "cell_type": "code",
   "execution_count": 3,
   "metadata": {},
   "outputs": [],
   "source": [
    "import numpy as np\n",
    "import pandas as pd\n",
    "import matplotlib.pyplot as plt\n",
    "import seaborn as sns"
   ]
  },
  {
   "cell_type": "code",
   "execution_count": 4,
   "metadata": {},
   "outputs": [],
   "source": [
    "df = pd.read_excel('Admission.xlsx')"
   ]
  },
  {
   "cell_type": "code",
   "execution_count": 5,
   "metadata": {
    "scrolled": false
   },
   "outputs": [
    {
     "data": {
      "text/html": [
       "<div>\n",
       "<style scoped>\n",
       "    .dataframe tbody tr th:only-of-type {\n",
       "        vertical-align: middle;\n",
       "    }\n",
       "\n",
       "    .dataframe tbody tr th {\n",
       "        vertical-align: top;\n",
       "    }\n",
       "\n",
       "    .dataframe thead th {\n",
       "        text-align: right;\n",
       "    }\n",
       "</style>\n",
       "<table border=\"1\" class=\"dataframe\">\n",
       "  <thead>\n",
       "    <tr style=\"text-align: right;\">\n",
       "      <th></th>\n",
       "      <th>SlNo</th>\n",
       "      <th>Gender</th>\n",
       "      <th>Percent_SSC</th>\n",
       "      <th>Board_SSC</th>\n",
       "      <th>Percent_HSC</th>\n",
       "      <th>Board_HSC</th>\n",
       "      <th>Stream_HSC</th>\n",
       "      <th>Percent_Degree</th>\n",
       "      <th>Course_Degree</th>\n",
       "      <th>Experience_Yrs</th>\n",
       "      <th>Entrance_Test</th>\n",
       "      <th>Percentile_ET</th>\n",
       "      <th>Percent_MBA</th>\n",
       "      <th>Specialization_MBA</th>\n",
       "      <th>Marks_Communication</th>\n",
       "      <th>Marks_Projectwork</th>\n",
       "      <th>Marks_BOCA</th>\n",
       "      <th>Placement</th>\n",
       "      <th>Salary</th>\n",
       "    </tr>\n",
       "  </thead>\n",
       "  <tbody>\n",
       "    <tr>\n",
       "      <th>0</th>\n",
       "      <td>1</td>\n",
       "      <td>M</td>\n",
       "      <td>62.00</td>\n",
       "      <td>Others</td>\n",
       "      <td>88.00</td>\n",
       "      <td>Others</td>\n",
       "      <td>Commerce</td>\n",
       "      <td>52.00</td>\n",
       "      <td>Science</td>\n",
       "      <td>0</td>\n",
       "      <td>MAT</td>\n",
       "      <td>55.0</td>\n",
       "      <td>58.80</td>\n",
       "      <td>Marketing &amp; HR</td>\n",
       "      <td>50</td>\n",
       "      <td>65</td>\n",
       "      <td>74</td>\n",
       "      <td>Placed</td>\n",
       "      <td>270000</td>\n",
       "    </tr>\n",
       "    <tr>\n",
       "      <th>1</th>\n",
       "      <td>2</td>\n",
       "      <td>M</td>\n",
       "      <td>76.33</td>\n",
       "      <td>ICSE</td>\n",
       "      <td>75.33</td>\n",
       "      <td>Others</td>\n",
       "      <td>Science</td>\n",
       "      <td>75.48</td>\n",
       "      <td>Computer Applications</td>\n",
       "      <td>1</td>\n",
       "      <td>MAT</td>\n",
       "      <td>86.5</td>\n",
       "      <td>66.28</td>\n",
       "      <td>Marketing &amp; Finance</td>\n",
       "      <td>69</td>\n",
       "      <td>70</td>\n",
       "      <td>75</td>\n",
       "      <td>Placed</td>\n",
       "      <td>200000</td>\n",
       "    </tr>\n",
       "    <tr>\n",
       "      <th>2</th>\n",
       "      <td>3</td>\n",
       "      <td>M</td>\n",
       "      <td>72.00</td>\n",
       "      <td>Others</td>\n",
       "      <td>78.00</td>\n",
       "      <td>Others</td>\n",
       "      <td>Commerce</td>\n",
       "      <td>66.63</td>\n",
       "      <td>Engineering</td>\n",
       "      <td>0</td>\n",
       "      <td>NaN</td>\n",
       "      <td>0.0</td>\n",
       "      <td>52.91</td>\n",
       "      <td>Marketing &amp; Finance</td>\n",
       "      <td>50</td>\n",
       "      <td>61</td>\n",
       "      <td>59</td>\n",
       "      <td>Placed</td>\n",
       "      <td>240000</td>\n",
       "    </tr>\n",
       "    <tr>\n",
       "      <th>3</th>\n",
       "      <td>4</td>\n",
       "      <td>M</td>\n",
       "      <td>60.00</td>\n",
       "      <td>CBSE</td>\n",
       "      <td>63.00</td>\n",
       "      <td>CBSE</td>\n",
       "      <td>Arts</td>\n",
       "      <td>58.00</td>\n",
       "      <td>Management</td>\n",
       "      <td>0</td>\n",
       "      <td>MAT</td>\n",
       "      <td>75.0</td>\n",
       "      <td>57.80</td>\n",
       "      <td>Marketing &amp; Finance</td>\n",
       "      <td>54</td>\n",
       "      <td>66</td>\n",
       "      <td>62</td>\n",
       "      <td>Placed</td>\n",
       "      <td>250000</td>\n",
       "    </tr>\n",
       "    <tr>\n",
       "      <th>4</th>\n",
       "      <td>5</td>\n",
       "      <td>M</td>\n",
       "      <td>61.00</td>\n",
       "      <td>CBSE</td>\n",
       "      <td>55.00</td>\n",
       "      <td>ISC</td>\n",
       "      <td>Science</td>\n",
       "      <td>54.00</td>\n",
       "      <td>Engineering</td>\n",
       "      <td>1</td>\n",
       "      <td>MAT</td>\n",
       "      <td>66.0</td>\n",
       "      <td>59.43</td>\n",
       "      <td>Marketing &amp; HR</td>\n",
       "      <td>52</td>\n",
       "      <td>65</td>\n",
       "      <td>67</td>\n",
       "      <td>Placed</td>\n",
       "      <td>180000</td>\n",
       "    </tr>\n",
       "  </tbody>\n",
       "</table>\n",
       "</div>"
      ],
      "text/plain": [
       "   SlNo Gender  Percent_SSC Board_SSC  Percent_HSC Board_HSC Stream_HSC  \\\n",
       "0     1      M        62.00    Others        88.00    Others   Commerce   \n",
       "1     2      M        76.33      ICSE        75.33    Others    Science   \n",
       "2     3      M        72.00    Others        78.00    Others   Commerce   \n",
       "3     4      M        60.00      CBSE        63.00      CBSE       Arts   \n",
       "4     5      M        61.00      CBSE        55.00       ISC    Science   \n",
       "\n",
       "   Percent_Degree          Course_Degree  Experience_Yrs Entrance_Test  \\\n",
       "0           52.00                Science               0           MAT   \n",
       "1           75.48  Computer Applications               1           MAT   \n",
       "2           66.63            Engineering               0           NaN   \n",
       "3           58.00             Management               0           MAT   \n",
       "4           54.00            Engineering               1           MAT   \n",
       "\n",
       "   Percentile_ET  Percent_MBA   Specialization_MBA  Marks_Communication  \\\n",
       "0           55.0        58.80       Marketing & HR                   50   \n",
       "1           86.5        66.28  Marketing & Finance                   69   \n",
       "2            0.0        52.91  Marketing & Finance                   50   \n",
       "3           75.0        57.80  Marketing & Finance                   54   \n",
       "4           66.0        59.43       Marketing & HR                   52   \n",
       "\n",
       "   Marks_Projectwork  Marks_BOCA Placement  Salary  \n",
       "0                 65          74    Placed  270000  \n",
       "1                 70          75    Placed  200000  \n",
       "2                 61          59    Placed  240000  \n",
       "3                 66          62    Placed  250000  \n",
       "4                 65          67    Placed  180000  "
      ]
     },
     "execution_count": 5,
     "metadata": {},
     "output_type": "execute_result"
    }
   ],
   "source": [
    "df.head()"
   ]
  },
  {
   "cell_type": "code",
   "execution_count": 6,
   "metadata": {},
   "outputs": [],
   "source": [
    "df.drop('SlNo',axis=1,inplace=True)"
   ]
  },
  {
   "cell_type": "code",
   "execution_count": 7,
   "metadata": {},
   "outputs": [
    {
     "name": "stdout",
     "output_type": "stream",
     "text": [
      "<class 'pandas.core.frame.DataFrame'>\n",
      "RangeIndex: 391 entries, 0 to 390\n",
      "Data columns (total 18 columns):\n",
      "Gender                 391 non-null object\n",
      "Percent_SSC            391 non-null float64\n",
      "Board_SSC              391 non-null object\n",
      "Percent_HSC            391 non-null float64\n",
      "Board_HSC              391 non-null object\n",
      "Stream_HSC             391 non-null object\n",
      "Percent_Degree         391 non-null float64\n",
      "Course_Degree          391 non-null object\n",
      "Experience_Yrs         391 non-null int64\n",
      "Entrance_Test          324 non-null object\n",
      "Percentile_ET          391 non-null float64\n",
      "Percent_MBA            391 non-null float64\n",
      "Specialization_MBA     391 non-null object\n",
      "Marks_Communication    391 non-null int64\n",
      "Marks_Projectwork      391 non-null int64\n",
      "Marks_BOCA             391 non-null int64\n",
      "Placement              391 non-null object\n",
      "Salary                 391 non-null int64\n",
      "dtypes: float64(5), int64(5), object(8)\n",
      "memory usage: 55.1+ KB\n"
     ]
    }
   ],
   "source": [
    "df.info()"
   ]
  },
  {
   "cell_type": "code",
   "execution_count": 8,
   "metadata": {},
   "outputs": [
    {
     "data": {
      "text/html": [
       "<div>\n",
       "<style scoped>\n",
       "    .dataframe tbody tr th:only-of-type {\n",
       "        vertical-align: middle;\n",
       "    }\n",
       "\n",
       "    .dataframe tbody tr th {\n",
       "        vertical-align: top;\n",
       "    }\n",
       "\n",
       "    .dataframe thead th {\n",
       "        text-align: right;\n",
       "    }\n",
       "</style>\n",
       "<table border=\"1\" class=\"dataframe\">\n",
       "  <thead>\n",
       "    <tr style=\"text-align: right;\">\n",
       "      <th></th>\n",
       "      <th>Percent_SSC</th>\n",
       "      <th>Percent_HSC</th>\n",
       "      <th>Percent_Degree</th>\n",
       "      <th>Experience_Yrs</th>\n",
       "      <th>Percentile_ET</th>\n",
       "      <th>Percent_MBA</th>\n",
       "      <th>Marks_Communication</th>\n",
       "      <th>Marks_Projectwork</th>\n",
       "      <th>Marks_BOCA</th>\n",
       "      <th>Salary</th>\n",
       "    </tr>\n",
       "  </thead>\n",
       "  <tbody>\n",
       "    <tr>\n",
       "      <th>count</th>\n",
       "      <td>391.000000</td>\n",
       "      <td>391.000000</td>\n",
       "      <td>391.000000</td>\n",
       "      <td>391.000000</td>\n",
       "      <td>391.000000</td>\n",
       "      <td>391.000000</td>\n",
       "      <td>391.000000</td>\n",
       "      <td>391.000000</td>\n",
       "      <td>391.000000</td>\n",
       "      <td>391.000000</td>\n",
       "    </tr>\n",
       "    <tr>\n",
       "      <th>mean</th>\n",
       "      <td>64.652353</td>\n",
       "      <td>63.795294</td>\n",
       "      <td>62.983606</td>\n",
       "      <td>0.478261</td>\n",
       "      <td>54.934962</td>\n",
       "      <td>61.667698</td>\n",
       "      <td>60.539642</td>\n",
       "      <td>68.363171</td>\n",
       "      <td>64.378517</td>\n",
       "      <td>219078.260870</td>\n",
       "    </tr>\n",
       "    <tr>\n",
       "      <th>std</th>\n",
       "      <td>10.960426</td>\n",
       "      <td>11.417726</td>\n",
       "      <td>8.916152</td>\n",
       "      <td>0.667112</td>\n",
       "      <td>31.168264</td>\n",
       "      <td>5.854399</td>\n",
       "      <td>8.824084</td>\n",
       "      <td>7.145095</td>\n",
       "      <td>9.582834</td>\n",
       "      <td>138311.647036</td>\n",
       "    </tr>\n",
       "    <tr>\n",
       "      <th>min</th>\n",
       "      <td>37.000000</td>\n",
       "      <td>40.000000</td>\n",
       "      <td>35.000000</td>\n",
       "      <td>0.000000</td>\n",
       "      <td>0.000000</td>\n",
       "      <td>50.830000</td>\n",
       "      <td>50.000000</td>\n",
       "      <td>50.000000</td>\n",
       "      <td>50.000000</td>\n",
       "      <td>0.000000</td>\n",
       "    </tr>\n",
       "    <tr>\n",
       "      <th>25%</th>\n",
       "      <td>56.000000</td>\n",
       "      <td>54.000000</td>\n",
       "      <td>57.525000</td>\n",
       "      <td>0.000000</td>\n",
       "      <td>41.190000</td>\n",
       "      <td>57.195000</td>\n",
       "      <td>53.000000</td>\n",
       "      <td>64.000000</td>\n",
       "      <td>57.000000</td>\n",
       "      <td>172800.000000</td>\n",
       "    </tr>\n",
       "    <tr>\n",
       "      <th>50%</th>\n",
       "      <td>64.500000</td>\n",
       "      <td>63.000000</td>\n",
       "      <td>63.000000</td>\n",
       "      <td>0.000000</td>\n",
       "      <td>62.000000</td>\n",
       "      <td>61.010000</td>\n",
       "      <td>58.000000</td>\n",
       "      <td>69.000000</td>\n",
       "      <td>63.000000</td>\n",
       "      <td>240000.000000</td>\n",
       "    </tr>\n",
       "    <tr>\n",
       "      <th>75%</th>\n",
       "      <td>74.000000</td>\n",
       "      <td>72.000000</td>\n",
       "      <td>69.000000</td>\n",
       "      <td>1.000000</td>\n",
       "      <td>78.000000</td>\n",
       "      <td>66.020000</td>\n",
       "      <td>67.000000</td>\n",
       "      <td>74.000000</td>\n",
       "      <td>72.500000</td>\n",
       "      <td>300000.000000</td>\n",
       "    </tr>\n",
       "    <tr>\n",
       "      <th>max</th>\n",
       "      <td>87.200000</td>\n",
       "      <td>94.700000</td>\n",
       "      <td>89.000000</td>\n",
       "      <td>3.000000</td>\n",
       "      <td>98.690000</td>\n",
       "      <td>77.890000</td>\n",
       "      <td>88.000000</td>\n",
       "      <td>87.000000</td>\n",
       "      <td>96.000000</td>\n",
       "      <td>940000.000000</td>\n",
       "    </tr>\n",
       "  </tbody>\n",
       "</table>\n",
       "</div>"
      ],
      "text/plain": [
       "       Percent_SSC  Percent_HSC  Percent_Degree  Experience_Yrs  \\\n",
       "count   391.000000   391.000000      391.000000      391.000000   \n",
       "mean     64.652353    63.795294       62.983606        0.478261   \n",
       "std      10.960426    11.417726        8.916152        0.667112   \n",
       "min      37.000000    40.000000       35.000000        0.000000   \n",
       "25%      56.000000    54.000000       57.525000        0.000000   \n",
       "50%      64.500000    63.000000       63.000000        0.000000   \n",
       "75%      74.000000    72.000000       69.000000        1.000000   \n",
       "max      87.200000    94.700000       89.000000        3.000000   \n",
       "\n",
       "       Percentile_ET  Percent_MBA  Marks_Communication  Marks_Projectwork  \\\n",
       "count     391.000000   391.000000           391.000000         391.000000   \n",
       "mean       54.934962    61.667698            60.539642          68.363171   \n",
       "std        31.168264     5.854399             8.824084           7.145095   \n",
       "min         0.000000    50.830000            50.000000          50.000000   \n",
       "25%        41.190000    57.195000            53.000000          64.000000   \n",
       "50%        62.000000    61.010000            58.000000          69.000000   \n",
       "75%        78.000000    66.020000            67.000000          74.000000   \n",
       "max        98.690000    77.890000            88.000000          87.000000   \n",
       "\n",
       "       Marks_BOCA         Salary  \n",
       "count  391.000000     391.000000  \n",
       "mean    64.378517  219078.260870  \n",
       "std      9.582834  138311.647036  \n",
       "min     50.000000       0.000000  \n",
       "25%     57.000000  172800.000000  \n",
       "50%     63.000000  240000.000000  \n",
       "75%     72.500000  300000.000000  \n",
       "max     96.000000  940000.000000  "
      ]
     },
     "execution_count": 8,
     "metadata": {},
     "output_type": "execute_result"
    }
   ],
   "source": [
    "df.describe()"
   ]
  },
  {
   "cell_type": "code",
   "execution_count": 9,
   "metadata": {},
   "outputs": [
    {
     "data": {
      "text/plain": [
       "M    264\n",
       "F    127\n",
       "Name: Gender, dtype: int64"
      ]
     },
     "execution_count": 9,
     "metadata": {},
     "output_type": "execute_result"
    }
   ],
   "source": [
    "df['Gender'].value_counts()"
   ]
  },
  {
   "cell_type": "code",
   "execution_count": 10,
   "metadata": {},
   "outputs": [
    {
     "data": {
      "text/plain": [
       "Others    201\n",
       "CBSE      113\n",
       "ICSE       77\n",
       "Name: Board_SSC, dtype: int64"
      ]
     },
     "execution_count": 10,
     "metadata": {},
     "output_type": "execute_result"
    }
   ],
   "source": [
    "df['Board_SSC'].value_counts()"
   ]
  },
  {
   "cell_type": "code",
   "execution_count": 11,
   "metadata": {},
   "outputs": [
    {
     "data": {
      "text/plain": [
       "Others    247\n",
       "CBSE       96\n",
       "ISC        48\n",
       "Name: Board_HSC, dtype: int64"
      ]
     },
     "execution_count": 11,
     "metadata": {},
     "output_type": "execute_result"
    }
   ],
   "source": [
    "df['Board_HSC'].value_counts()"
   ]
  },
  {
   "cell_type": "code",
   "execution_count": 12,
   "metadata": {},
   "outputs": [
    {
     "data": {
      "text/plain": [
       "Commerce    222\n",
       "Science     151\n",
       "Arts         18\n",
       "Name: Stream_HSC, dtype: int64"
      ]
     },
     "execution_count": 12,
     "metadata": {},
     "output_type": "execute_result"
    }
   ],
   "source": [
    "df['Stream_HSC'].value_counts()"
   ]
  },
  {
   "cell_type": "code",
   "execution_count": 13,
   "metadata": {},
   "outputs": [
    {
     "data": {
      "text/plain": [
       "Management               163\n",
       "Commerce                 117\n",
       "Engineering               37\n",
       "Computer Applications     32\n",
       "Science                   24\n",
       "Arts                      13\n",
       "Others                     5\n",
       "Name: Course_Degree, dtype: int64"
      ]
     },
     "execution_count": 13,
     "metadata": {},
     "output_type": "execute_result"
    }
   ],
   "source": [
    "df['Course_Degree'].value_counts()"
   ]
  },
  {
   "cell_type": "code",
   "execution_count": 14,
   "metadata": {},
   "outputs": [
    {
     "data": {
      "text/plain": [
       "0    238\n",
       "1    123\n",
       "2     26\n",
       "3      4\n",
       "Name: Experience_Yrs, dtype: int64"
      ]
     },
     "execution_count": 14,
     "metadata": {},
     "output_type": "execute_result"
    }
   ],
   "source": [
    "df['Experience_Yrs'].value_counts()"
   ]
  },
  {
   "cell_type": "code",
   "execution_count": 15,
   "metadata": {},
   "outputs": [
    {
     "data": {
      "text/plain": [
       "MAT      265\n",
       "K-MAT     24\n",
       "CAT       22\n",
       "PGCET      8\n",
       "GCET       2\n",
       "G-MAT      1\n",
       "G-SAT      1\n",
       "XAT        1\n",
       "Name: Entrance_Test, dtype: int64"
      ]
     },
     "execution_count": 15,
     "metadata": {},
     "output_type": "execute_result"
    }
   ],
   "source": [
    "df['Entrance_Test'].value_counts()"
   ]
  },
  {
   "cell_type": "code",
   "execution_count": 16,
   "metadata": {},
   "outputs": [
    {
     "data": {
      "text/plain": [
       "Marketing & Finance    222\n",
       "Marketing & HR         156\n",
       "Marketing & IB          13\n",
       "Name: Specialization_MBA, dtype: int64"
      ]
     },
     "execution_count": 16,
     "metadata": {},
     "output_type": "execute_result"
    }
   ],
   "source": [
    "df['Specialization_MBA'].value_counts()"
   ]
  },
  {
   "cell_type": "code",
   "execution_count": 17,
   "metadata": {},
   "outputs": [
    {
     "data": {
      "text/plain": [
       "Placed        312\n",
       "Not Placed     79\n",
       "Name: Placement, dtype: int64"
      ]
     },
     "execution_count": 17,
     "metadata": {},
     "output_type": "execute_result"
    }
   ],
   "source": [
    "df['Placement'].value_counts()"
   ]
  },
  {
   "cell_type": "code",
   "execution_count": 18,
   "metadata": {},
   "outputs": [
    {
     "data": {
      "text/html": [
       "<div>\n",
       "<style scoped>\n",
       "    .dataframe tbody tr th:only-of-type {\n",
       "        vertical-align: middle;\n",
       "    }\n",
       "\n",
       "    .dataframe tbody tr th {\n",
       "        vertical-align: top;\n",
       "    }\n",
       "\n",
       "    .dataframe thead th {\n",
       "        text-align: right;\n",
       "    }\n",
       "</style>\n",
       "<table border=\"1\" class=\"dataframe\">\n",
       "  <thead>\n",
       "    <tr style=\"text-align: right;\">\n",
       "      <th></th>\n",
       "      <th>Percent_SSC</th>\n",
       "      <th>Percent_HSC</th>\n",
       "      <th>Percent_Degree</th>\n",
       "      <th>Experience_Yrs</th>\n",
       "      <th>Percentile_ET</th>\n",
       "      <th>Percent_MBA</th>\n",
       "      <th>Marks_Communication</th>\n",
       "      <th>Marks_Projectwork</th>\n",
       "      <th>Marks_BOCA</th>\n",
       "      <th>Salary</th>\n",
       "    </tr>\n",
       "  </thead>\n",
       "  <tbody>\n",
       "    <tr>\n",
       "      <th>Percent_SSC</th>\n",
       "      <td>1.000000</td>\n",
       "      <td>0.396585</td>\n",
       "      <td>0.413072</td>\n",
       "      <td>-0.015237</td>\n",
       "      <td>0.211517</td>\n",
       "      <td>0.475638</td>\n",
       "      <td>0.476279</td>\n",
       "      <td>0.132496</td>\n",
       "      <td>0.271597</td>\n",
       "      <td>0.205134</td>\n",
       "    </tr>\n",
       "    <tr>\n",
       "      <th>Percent_HSC</th>\n",
       "      <td>0.396585</td>\n",
       "      <td>1.000000</td>\n",
       "      <td>0.338943</td>\n",
       "      <td>-0.042638</td>\n",
       "      <td>0.151457</td>\n",
       "      <td>0.380495</td>\n",
       "      <td>0.321432</td>\n",
       "      <td>0.160446</td>\n",
       "      <td>0.156589</td>\n",
       "      <td>0.095793</td>\n",
       "    </tr>\n",
       "    <tr>\n",
       "      <th>Percent_Degree</th>\n",
       "      <td>0.413072</td>\n",
       "      <td>0.338943</td>\n",
       "      <td>1.000000</td>\n",
       "      <td>-0.029147</td>\n",
       "      <td>0.213127</td>\n",
       "      <td>0.447138</td>\n",
       "      <td>0.412716</td>\n",
       "      <td>0.191756</td>\n",
       "      <td>0.268876</td>\n",
       "      <td>0.098528</td>\n",
       "    </tr>\n",
       "    <tr>\n",
       "      <th>Experience_Yrs</th>\n",
       "      <td>-0.015237</td>\n",
       "      <td>-0.042638</td>\n",
       "      <td>-0.029147</td>\n",
       "      <td>1.000000</td>\n",
       "      <td>-0.009219</td>\n",
       "      <td>0.160725</td>\n",
       "      <td>0.086718</td>\n",
       "      <td>0.142599</td>\n",
       "      <td>0.172957</td>\n",
       "      <td>0.142547</td>\n",
       "    </tr>\n",
       "    <tr>\n",
       "      <th>Percentile_ET</th>\n",
       "      <td>0.211517</td>\n",
       "      <td>0.151457</td>\n",
       "      <td>0.213127</td>\n",
       "      <td>-0.009219</td>\n",
       "      <td>1.000000</td>\n",
       "      <td>0.214161</td>\n",
       "      <td>0.200447</td>\n",
       "      <td>0.146226</td>\n",
       "      <td>0.138224</td>\n",
       "      <td>0.150589</td>\n",
       "    </tr>\n",
       "    <tr>\n",
       "      <th>Percent_MBA</th>\n",
       "      <td>0.475638</td>\n",
       "      <td>0.380495</td>\n",
       "      <td>0.447138</td>\n",
       "      <td>0.160725</td>\n",
       "      <td>0.214161</td>\n",
       "      <td>1.000000</td>\n",
       "      <td>0.706999</td>\n",
       "      <td>0.435558</td>\n",
       "      <td>0.476736</td>\n",
       "      <td>0.176594</td>\n",
       "    </tr>\n",
       "    <tr>\n",
       "      <th>Marks_Communication</th>\n",
       "      <td>0.476279</td>\n",
       "      <td>0.321432</td>\n",
       "      <td>0.412716</td>\n",
       "      <td>0.086718</td>\n",
       "      <td>0.200447</td>\n",
       "      <td>0.706999</td>\n",
       "      <td>1.000000</td>\n",
       "      <td>0.308851</td>\n",
       "      <td>0.210567</td>\n",
       "      <td>0.128061</td>\n",
       "    </tr>\n",
       "    <tr>\n",
       "      <th>Marks_Projectwork</th>\n",
       "      <td>0.132496</td>\n",
       "      <td>0.160446</td>\n",
       "      <td>0.191756</td>\n",
       "      <td>0.142599</td>\n",
       "      <td>0.146226</td>\n",
       "      <td>0.435558</td>\n",
       "      <td>0.308851</td>\n",
       "      <td>1.000000</td>\n",
       "      <td>0.260201</td>\n",
       "      <td>0.155142</td>\n",
       "    </tr>\n",
       "    <tr>\n",
       "      <th>Marks_BOCA</th>\n",
       "      <td>0.271597</td>\n",
       "      <td>0.156589</td>\n",
       "      <td>0.268876</td>\n",
       "      <td>0.172957</td>\n",
       "      <td>0.138224</td>\n",
       "      <td>0.476736</td>\n",
       "      <td>0.210567</td>\n",
       "      <td>0.260201</td>\n",
       "      <td>1.000000</td>\n",
       "      <td>0.134112</td>\n",
       "    </tr>\n",
       "    <tr>\n",
       "      <th>Salary</th>\n",
       "      <td>0.205134</td>\n",
       "      <td>0.095793</td>\n",
       "      <td>0.098528</td>\n",
       "      <td>0.142547</td>\n",
       "      <td>0.150589</td>\n",
       "      <td>0.176594</td>\n",
       "      <td>0.128061</td>\n",
       "      <td>0.155142</td>\n",
       "      <td>0.134112</td>\n",
       "      <td>1.000000</td>\n",
       "    </tr>\n",
       "  </tbody>\n",
       "</table>\n",
       "</div>"
      ],
      "text/plain": [
       "                     Percent_SSC  Percent_HSC  Percent_Degree  Experience_Yrs  \\\n",
       "Percent_SSC             1.000000     0.396585        0.413072       -0.015237   \n",
       "Percent_HSC             0.396585     1.000000        0.338943       -0.042638   \n",
       "Percent_Degree          0.413072     0.338943        1.000000       -0.029147   \n",
       "Experience_Yrs         -0.015237    -0.042638       -0.029147        1.000000   \n",
       "Percentile_ET           0.211517     0.151457        0.213127       -0.009219   \n",
       "Percent_MBA             0.475638     0.380495        0.447138        0.160725   \n",
       "Marks_Communication     0.476279     0.321432        0.412716        0.086718   \n",
       "Marks_Projectwork       0.132496     0.160446        0.191756        0.142599   \n",
       "Marks_BOCA              0.271597     0.156589        0.268876        0.172957   \n",
       "Salary                  0.205134     0.095793        0.098528        0.142547   \n",
       "\n",
       "                     Percentile_ET  Percent_MBA  Marks_Communication  \\\n",
       "Percent_SSC               0.211517     0.475638             0.476279   \n",
       "Percent_HSC               0.151457     0.380495             0.321432   \n",
       "Percent_Degree            0.213127     0.447138             0.412716   \n",
       "Experience_Yrs           -0.009219     0.160725             0.086718   \n",
       "Percentile_ET             1.000000     0.214161             0.200447   \n",
       "Percent_MBA               0.214161     1.000000             0.706999   \n",
       "Marks_Communication       0.200447     0.706999             1.000000   \n",
       "Marks_Projectwork         0.146226     0.435558             0.308851   \n",
       "Marks_BOCA                0.138224     0.476736             0.210567   \n",
       "Salary                    0.150589     0.176594             0.128061   \n",
       "\n",
       "                     Marks_Projectwork  Marks_BOCA    Salary  \n",
       "Percent_SSC                   0.132496    0.271597  0.205134  \n",
       "Percent_HSC                   0.160446    0.156589  0.095793  \n",
       "Percent_Degree                0.191756    0.268876  0.098528  \n",
       "Experience_Yrs                0.142599    0.172957  0.142547  \n",
       "Percentile_ET                 0.146226    0.138224  0.150589  \n",
       "Percent_MBA                   0.435558    0.476736  0.176594  \n",
       "Marks_Communication           0.308851    0.210567  0.128061  \n",
       "Marks_Projectwork             1.000000    0.260201  0.155142  \n",
       "Marks_BOCA                    0.260201    1.000000  0.134112  \n",
       "Salary                        0.155142    0.134112  1.000000  "
      ]
     },
     "execution_count": 18,
     "metadata": {},
     "output_type": "execute_result"
    }
   ],
   "source": [
    "df.corr()"
   ]
  },
  {
   "cell_type": "code",
   "execution_count": 19,
   "metadata": {},
   "outputs": [
    {
     "data": {
      "text/plain": [
       "<matplotlib.axes._subplots.AxesSubplot at 0xf86ded58d0>"
      ]
     },
     "execution_count": 19,
     "metadata": {},
     "output_type": "execute_result"
    },
    {
     "data": {
      "image/png": "[encoded data removed]",
      "text/plain": [
       "<Figure size 1080x720 with 2 Axes>"
      ]
     },
     "metadata": {
      "needs_background": "light"
     },
     "output_type": "display_data"
    }
   ],
   "source": [
    "plt.figure(figsize=(15,10))\n",
    "sns.heatmap(df.corr())"
   ]
  },
  {
   "cell_type": "code",
   "execution_count": 20,
   "metadata": {
    "scrolled": true
   },
   "outputs": [
    {
     "data": {
      "text/plain": [
       "<matplotlib.axes._subplots.AxesSubplot at 0xf86fdee438>"
      ]
     },
     "execution_count": 20,
     "metadata": {},
     "output_type": "execute_result"
    },
    {
     "data": {
      "image/png": "[encoded data removed]",
      "text/plain": [
       "<Figure size 432x288 with 1 Axes>"
      ]
     },
     "metadata": {
      "needs_background": "light"
     },
     "output_type": "display_data"
    }
   ],
   "source": [
    "sns.boxplot(df['Salary'])"
   ]
  },
  {
   "cell_type": "code",
   "execution_count": 21,
   "metadata": {
    "scrolled": true
   },
   "outputs": [
    {
     "data": {
      "text/plain": [
       "<matplotlib.axes._subplots.AxesSubplot at 0xf86fabacc0>"
      ]
     },
     "execution_count": 21,
     "metadata": {},
     "output_type": "execute_result"
    },
    {
     "data": {
      "image/png": "[encoded data removed]",
      "text/plain": [
       "<Figure size 432x288 with 1 Axes>"
      ]
     },
     "metadata": {
      "needs_background": "light"
     },
     "output_type": "display_data"
    }
   ],
   "source": [
    "df['Salary'].groupby(df['Gender']).agg('mean').plot.bar()"
   ]
  },
  {
   "cell_type": "markdown",
   "metadata": {},
   "source": [
    "As the Male Proportion of male is greater than female,the Average Salary of Male is Greater than Female Salary."
   ]
  },
  {
   "cell_type": "code",
   "execution_count": 22,
   "metadata": {},
   "outputs": [
    {
     "data": {
      "text/plain": [
       "<matplotlib.axes._subplots.AxesSubplot at 0xf86fb3b1d0>"
      ]
     },
     "execution_count": 22,
     "metadata": {},
     "output_type": "execute_result"
    },
    {
     "data": {
      "image/png": "[encoded data removed]",
      "text/plain": [
       "<Figure size 432x288 with 1 Axes>"
      ]
     },
     "metadata": {
      "needs_background": "light"
     },
     "output_type": "display_data"
    }
   ],
   "source": [
    "sns.scatterplot(df['Percent_SSC'],df['Salary'])"
   ]
  },
  {
   "cell_type": "code",
   "execution_count": 23,
   "metadata": {},
   "outputs": [
    {
     "data": {
      "text/plain": [
       "<matplotlib.axes._subplots.AxesSubplot at 0xf86fb8eba8>"
      ]
     },
     "execution_count": 23,
     "metadata": {},
     "output_type": "execute_result"
    },
    {
     "data": {
      "image/png": "[encoded data removed]",
      "text/plain": [
       "<Figure size 432x288 with 1 Axes>"
      ]
     },
     "metadata": {
      "needs_background": "light"
     },
     "output_type": "display_data"
    }
   ],
   "source": [
    "df['Salary'].groupby(df['Board_SSC']).agg('mean').plot.bar()"
   ]
  },
  {
   "cell_type": "markdown",
   "metadata": {},
   "source": [
    "The CBSE People has higher Salary than ICSE and Others."
   ]
  },
  {
   "cell_type": "code",
   "execution_count": 24,
   "metadata": {},
   "outputs": [
    {
     "data": {
      "text/plain": [
       "<matplotlib.axes._subplots.AxesSubplot at 0xf86fbdbb38>"
      ]
     },
     "execution_count": 24,
     "metadata": {},
     "output_type": "execute_result"
    },
    {
     "data": {
      "image/png": "[encoded data removed]",
      "text/plain": [
       "<Figure size 432x288 with 1 Axes>"
      ]
     },
     "metadata": {
      "needs_background": "light"
     },
     "output_type": "display_data"
    }
   ],
   "source": [
    "sns.scatterplot(df['Percent_HSC'],df['Salary'])"
   ]
  },
  {
   "cell_type": "code",
   "execution_count": 25,
   "metadata": {},
   "outputs": [
    {
     "data": {
      "text/plain": [
       "<matplotlib.axes._subplots.AxesSubplot at 0xf86fc12828>"
      ]
     },
     "execution_count": 25,
     "metadata": {},
     "output_type": "execute_result"
    },
    {
     "data": {
      "image/png": "[encoded data removed]",
      "text/plain": [
       "<Figure size 432x288 with 1 Axes>"
      ]
     },
     "metadata": {
      "needs_background": "light"
     },
     "output_type": "display_data"
    }
   ],
   "source": [
    "df['Salary'].groupby(df['Board_HSC']).agg('mean').plot.bar()"
   ]
  },
  {
   "cell_type": "code",
   "execution_count": 26,
   "metadata": {},
   "outputs": [
    {
     "data": {
      "text/plain": [
       "<matplotlib.axes._subplots.AxesSubplot at 0xf86fbe8668>"
      ]
     },
     "execution_count": 26,
     "metadata": {},
     "output_type": "execute_result"
    },
    {
     "data": {
      "image/png": "[encoded data removed]",
      "text/plain": [
       "<Figure size 432x288 with 1 Axes>"
      ]
     },
     "metadata": {
      "needs_background": "light"
     },
     "output_type": "display_data"
    }
   ],
   "source": [
    "df['Salary'].groupby(df['Stream_HSC']).agg('mean').plot.bar()"
   ]
  },
  {
   "cell_type": "markdown",
   "metadata": {},
   "source": [
    "The Science Students has higher Salary than Commerce and Arts."
   ]
  },
  {
   "cell_type": "code",
   "execution_count": 27,
   "metadata": {},
   "outputs": [
    {
     "data": {
      "text/plain": [
       "<matplotlib.axes._subplots.AxesSubplot at 0xf86fbf1f98>"
      ]
     },
     "execution_count": 27,
     "metadata": {},
     "output_type": "execute_result"
    },
    {
     "data": {
      "image/png": "[encoded data removed]",
      "text/plain": [
       "<Figure size 432x288 with 1 Axes>"
      ]
     },
     "metadata": {
      "needs_background": "light"
     },
     "output_type": "display_data"
    }
   ],
   "source": [
    "sns.scatterplot(df['Percent_Degree'],df['Salary'],hue=df['Placement'])"
   ]
  },
  {
   "cell_type": "code",
   "execution_count": 28,
   "metadata": {},
   "outputs": [
    {
     "data": {
      "text/plain": [
       "<matplotlib.axes._subplots.AxesSubplot at 0xf86fd40908>"
      ]
     },
     "execution_count": 28,
     "metadata": {},
     "output_type": "execute_result"
    },
    {
     "data": {
      "image/png": "[encoded data removed]",
      "text/plain": [
       "<Figure size 432x288 with 1 Axes>"
      ]
     },
     "metadata": {
      "needs_background": "light"
     },
     "output_type": "display_data"
    }
   ],
   "source": [
    "df['Salary'].groupby(df['Experience_Yrs']).agg('mean').plot.bar()"
   ]
  },
  {
   "cell_type": "markdown",
   "metadata": {},
   "source": [
    "The persons one with Highest Experince has highest average Salary."
   ]
  },
  {
   "cell_type": "code",
   "execution_count": 29,
   "metadata": {},
   "outputs": [
    {
     "data": {
      "text/plain": [
       "<matplotlib.axes._subplots.AxesSubplot at 0xf86fd9bb70>"
      ]
     },
     "execution_count": 29,
     "metadata": {},
     "output_type": "execute_result"
    },
    {
     "data": {
      "image/png": "[encoded data removed]",
      "text/plain": [
       "<Figure size 432x288 with 1 Axes>"
      ]
     },
     "metadata": {
      "needs_background": "light"
     },
     "output_type": "display_data"
    }
   ],
   "source": [
    "df['Salary'].groupby(df['Entrance_Test']).agg('mean').plot.bar()"
   ]
  },
  {
   "cell_type": "markdown",
   "metadata": {},
   "source": [
    "The Persons who has given PGCET Entrance Test has Lowest Salary."
   ]
  },
  {
   "cell_type": "code",
   "execution_count": 30,
   "metadata": {},
   "outputs": [
    {
     "data": {
      "text/plain": [
       "<matplotlib.axes._subplots.AxesSubplot at 0xf87011fc50>"
      ]
     },
     "execution_count": 30,
     "metadata": {},
     "output_type": "execute_result"
    },
    {
     "data": {
      "image/png": "[encoded data removed]",
      "text/plain": [
       "<Figure size 432x288 with 1 Axes>"
      ]
     },
     "metadata": {
      "needs_background": "light"
     },
     "output_type": "display_data"
    }
   ],
   "source": [
    "sns.scatterplot(df['Percentile_ET'],df['Salary'])"
   ]
  },
  {
   "cell_type": "code",
   "execution_count": 31,
   "metadata": {},
   "outputs": [
    {
     "data": {
      "text/plain": [
       "<matplotlib.axes._subplots.AxesSubplot at 0xf87017e048>"
      ]
     },
     "execution_count": 31,
     "metadata": {},
     "output_type": "execute_result"
    },
    {
     "data": {
      "image/png": "[encoded data removed]",
      "text/plain": [
       "<Figure size 432x288 with 1 Axes>"
      ]
     },
     "metadata": {
      "needs_background": "light"
     },
     "output_type": "display_data"
    }
   ],
   "source": [
    "df['Salary'].groupby(df['Specialization_MBA']).agg('mean').plot.bar()"
   ]
  },
  {
   "cell_type": "markdown",
   "metadata": {},
   "source": [
    "##### The Marketing & Finance department Employees are Earning the Highest Salary."
   ]
  },
  {
   "cell_type": "code",
   "execution_count": 32,
   "metadata": {},
   "outputs": [
    {
     "data": {
      "text/plain": [
       "<matplotlib.axes._subplots.AxesSubplot at 0xf8701d8780>"
      ]
     },
     "execution_count": 32,
     "metadata": {},
     "output_type": "execute_result"
    },
    {
     "data": {
      "image/png": "[encoded data removed]",
      "text/plain": [
       "<Figure size 432x288 with 1 Axes>"
      ]
     },
     "metadata": {
      "needs_background": "light"
     },
     "output_type": "display_data"
    }
   ],
   "source": [
    "pd.crosstab(df['Gender'],df['Placement']).plot.bar(stacked=True)"
   ]
  },
  {
   "cell_type": "markdown",
   "metadata": {},
   "source": [
    "##### The Males proportinality are majorly placed."
   ]
  },
  {
   "cell_type": "code",
   "execution_count": 33,
   "metadata": {},
   "outputs": [
    {
     "data": {
      "text/plain": [
       "<matplotlib.axes._subplots.AxesSubplot at 0xf87024a780>"
      ]
     },
     "execution_count": 33,
     "metadata": {},
     "output_type": "execute_result"
    },
    {
     "data": {
      "image/png": "[encoded data removed]",
      "text/plain": [
       "<Figure size 432x288 with 1 Axes>"
      ]
     },
     "metadata": {
      "needs_background": "light"
     },
     "output_type": "display_data"
    }
   ],
   "source": [
    "df['Percent_SSC'].groupby(df['Placement']).agg('mean').plot.bar()"
   ]
  },
  {
   "cell_type": "code",
   "execution_count": 34,
   "metadata": {},
   "outputs": [
    {
     "data": {
      "text/plain": [
       "<matplotlib.axes._subplots.AxesSubplot at 0xf86fd404e0>"
      ]
     },
     "execution_count": 34,
     "metadata": {},
     "output_type": "execute_result"
    },
    {
     "data": {
      "image/png": "[encoded data removed]",
      "text/plain": [
       "<Figure size 432x288 with 1 Axes>"
      ]
     },
     "metadata": {
      "needs_background": "light"
     },
     "output_type": "display_data"
    }
   ],
   "source": [
    "pd.crosstab(df['Board_SSC'],df['Placement']).plot.bar(stacked=True)"
   ]
  },
  {
   "cell_type": "code",
   "execution_count": 35,
   "metadata": {},
   "outputs": [
    {
     "data": {
      "text/plain": [
       "<matplotlib.axes._subplots.AxesSubplot at 0xf870335048>"
      ]
     },
     "execution_count": 35,
     "metadata": {},
     "output_type": "execute_result"
    },
    {
     "data": {
      "image/png": "[encoded data removed]",
      "text/plain": [
       "<Figure size 432x288 with 1 Axes>"
      ]
     },
     "metadata": {
      "needs_background": "light"
     },
     "output_type": "display_data"
    }
   ],
   "source": [
    "pd.crosstab(df['Board_HSC'],df['Placement']).plot.bar(stacked=True)"
   ]
  },
  {
   "cell_type": "code",
   "execution_count": 36,
   "metadata": {},
   "outputs": [
    {
     "data": {
      "text/plain": [
       "<matplotlib.axes._subplots.AxesSubplot at 0xf87039ad68>"
      ]
     },
     "execution_count": 36,
     "metadata": {},
     "output_type": "execute_result"
    },
    {
     "data": {
      "image/png": "[encoded data removed]",
      "text/plain": [
       "<Figure size 432x288 with 1 Axes>"
      ]
     },
     "metadata": {
      "needs_background": "light"
     },
     "output_type": "display_data"
    }
   ],
   "source": [
    "pd.crosstab(df['Stream_HSC'],df['Placement']).plot.bar(stacked=True)"
   ]
  },
  {
   "cell_type": "code",
   "execution_count": 37,
   "metadata": {},
   "outputs": [
    {
     "data": {
      "text/plain": [
       "<matplotlib.axes._subplots.AxesSubplot at 0xf87040e240>"
      ]
     },
     "execution_count": 37,
     "metadata": {},
     "output_type": "execute_result"
    },
    {
     "data": {
      "image/png": "[encoded data removed]",
      "text/plain": [
       "<Figure size 432x288 with 1 Axes>"
      ]
     },
     "metadata": {
      "needs_background": "light"
     },
     "output_type": "display_data"
    }
   ],
   "source": [
    "pd.crosstab(df['Course_Degree'],df['Placement']).plot.bar(stacked=True)"
   ]
  },
  {
   "cell_type": "code",
   "execution_count": 38,
   "metadata": {},
   "outputs": [
    {
     "data": {
      "text/plain": [
       "<matplotlib.axes._subplots.AxesSubplot at 0xf870496940>"
      ]
     },
     "execution_count": 38,
     "metadata": {},
     "output_type": "execute_result"
    },
    {
     "data": {
      "image/png": "[encoded data removed]",
      "text/plain": [
       "<Figure size 432x288 with 1 Axes>"
      ]
     },
     "metadata": {
      "needs_background": "light"
     },
     "output_type": "display_data"
    }
   ],
   "source": [
    "pd.crosstab(df['Specialization_MBA'],df['Placement']).plot.bar(stacked=True)"
   ]
  },
  {
   "cell_type": "code",
   "execution_count": 39,
   "metadata": {},
   "outputs": [],
   "source": [
    "cat_cols = ['Gender','Board_SSC','Board_HSC','Stream_HSC','Course_Degree','Experience_Yrs','Entrance_Test','Specialization_MBA','Placement']\n",
    "df = pd.get_dummies(df,columns=cat_cols,drop_first=True)"
   ]
  },
  {
   "cell_type": "code",
   "execution_count": 40,
   "metadata": {},
   "outputs": [
    {
     "data": {
      "text/html": [
       "<div>\n",
       "<style scoped>\n",
       "    .dataframe tbody tr th:only-of-type {\n",
       "        vertical-align: middle;\n",
       "    }\n",
       "\n",
       "    .dataframe tbody tr th {\n",
       "        vertical-align: top;\n",
       "    }\n",
       "\n",
       "    .dataframe thead th {\n",
       "        text-align: right;\n",
       "    }\n",
       "</style>\n",
       "<table border=\"1\" class=\"dataframe\">\n",
       "  <thead>\n",
       "    <tr style=\"text-align: right;\">\n",
       "      <th></th>\n",
       "      <th>Percent_SSC</th>\n",
       "      <th>Percent_HSC</th>\n",
       "      <th>Percent_Degree</th>\n",
       "      <th>Percentile_ET</th>\n",
       "      <th>Percent_MBA</th>\n",
       "      <th>Marks_Communication</th>\n",
       "      <th>Marks_Projectwork</th>\n",
       "      <th>Marks_BOCA</th>\n",
       "      <th>Salary</th>\n",
       "      <th>Gender_M</th>\n",
       "      <th>...</th>\n",
       "      <th>Entrance_Test_G-MAT</th>\n",
       "      <th>Entrance_Test_G-SAT</th>\n",
       "      <th>Entrance_Test_GCET</th>\n",
       "      <th>Entrance_Test_K-MAT</th>\n",
       "      <th>Entrance_Test_MAT</th>\n",
       "      <th>Entrance_Test_PGCET</th>\n",
       "      <th>Entrance_Test_XAT</th>\n",
       "      <th>Specialization_MBA_Marketing &amp; HR</th>\n",
       "      <th>Specialization_MBA_Marketing &amp; IB</th>\n",
       "      <th>Placement_Placed</th>\n",
       "    </tr>\n",
       "  </thead>\n",
       "  <tbody>\n",
       "    <tr>\n",
       "      <th>0</th>\n",
       "      <td>62.00</td>\n",
       "      <td>88.00</td>\n",
       "      <td>52.00</td>\n",
       "      <td>55.0</td>\n",
       "      <td>58.80</td>\n",
       "      <td>50</td>\n",
       "      <td>65</td>\n",
       "      <td>74</td>\n",
       "      <td>270000</td>\n",
       "      <td>1</td>\n",
       "      <td>...</td>\n",
       "      <td>0</td>\n",
       "      <td>0</td>\n",
       "      <td>0</td>\n",
       "      <td>0</td>\n",
       "      <td>1</td>\n",
       "      <td>0</td>\n",
       "      <td>0</td>\n",
       "      <td>1</td>\n",
       "      <td>0</td>\n",
       "      <td>1</td>\n",
       "    </tr>\n",
       "    <tr>\n",
       "      <th>1</th>\n",
       "      <td>76.33</td>\n",
       "      <td>75.33</td>\n",
       "      <td>75.48</td>\n",
       "      <td>86.5</td>\n",
       "      <td>66.28</td>\n",
       "      <td>69</td>\n",
       "      <td>70</td>\n",
       "      <td>75</td>\n",
       "      <td>200000</td>\n",
       "      <td>1</td>\n",
       "      <td>...</td>\n",
       "      <td>0</td>\n",
       "      <td>0</td>\n",
       "      <td>0</td>\n",
       "      <td>0</td>\n",
       "      <td>1</td>\n",
       "      <td>0</td>\n",
       "      <td>0</td>\n",
       "      <td>0</td>\n",
       "      <td>0</td>\n",
       "      <td>1</td>\n",
       "    </tr>\n",
       "    <tr>\n",
       "      <th>2</th>\n",
       "      <td>72.00</td>\n",
       "      <td>78.00</td>\n",
       "      <td>66.63</td>\n",
       "      <td>0.0</td>\n",
       "      <td>52.91</td>\n",
       "      <td>50</td>\n",
       "      <td>61</td>\n",
       "      <td>59</td>\n",
       "      <td>240000</td>\n",
       "      <td>1</td>\n",
       "      <td>...</td>\n",
       "      <td>0</td>\n",
       "      <td>0</td>\n",
       "      <td>0</td>\n",
       "      <td>0</td>\n",
       "      <td>0</td>\n",
       "      <td>0</td>\n",
       "      <td>0</td>\n",
       "      <td>0</td>\n",
       "      <td>0</td>\n",
       "      <td>1</td>\n",
       "    </tr>\n",
       "    <tr>\n",
       "      <th>3</th>\n",
       "      <td>60.00</td>\n",
       "      <td>63.00</td>\n",
       "      <td>58.00</td>\n",
       "      <td>75.0</td>\n",
       "      <td>57.80</td>\n",
       "      <td>54</td>\n",
       "      <td>66</td>\n",
       "      <td>62</td>\n",
       "      <td>250000</td>\n",
       "      <td>1</td>\n",
       "      <td>...</td>\n",
       "      <td>0</td>\n",
       "      <td>0</td>\n",
       "      <td>0</td>\n",
       "      <td>0</td>\n",
       "      <td>1</td>\n",
       "      <td>0</td>\n",
       "      <td>0</td>\n",
       "      <td>0</td>\n",
       "      <td>0</td>\n",
       "      <td>1</td>\n",
       "    </tr>\n",
       "    <tr>\n",
       "      <th>4</th>\n",
       "      <td>61.00</td>\n",
       "      <td>55.00</td>\n",
       "      <td>54.00</td>\n",
       "      <td>66.0</td>\n",
       "      <td>59.43</td>\n",
       "      <td>52</td>\n",
       "      <td>65</td>\n",
       "      <td>67</td>\n",
       "      <td>180000</td>\n",
       "      <td>1</td>\n",
       "      <td>...</td>\n",
       "      <td>0</td>\n",
       "      <td>0</td>\n",
       "      <td>0</td>\n",
       "      <td>0</td>\n",
       "      <td>1</td>\n",
       "      <td>0</td>\n",
       "      <td>0</td>\n",
       "      <td>1</td>\n",
       "      <td>0</td>\n",
       "      <td>1</td>\n",
       "    </tr>\n",
       "  </tbody>\n",
       "</table>\n",
       "<p>5 rows × 35 columns</p>\n",
       "</div>"
      ],
      "text/plain": [
       "   Percent_SSC  Percent_HSC  Percent_Degree  Percentile_ET  Percent_MBA  \\\n",
       "0        62.00        88.00           52.00           55.0        58.80   \n",
       "1        76.33        75.33           75.48           86.5        66.28   \n",
       "2        72.00        78.00           66.63            0.0        52.91   \n",
       "3        60.00        63.00           58.00           75.0        57.80   \n",
       "4        61.00        55.00           54.00           66.0        59.43   \n",
       "\n",
       "   Marks_Communication  Marks_Projectwork  Marks_BOCA  Salary  Gender_M  ...  \\\n",
       "0                   50                 65          74  270000         1  ...   \n",
       "1                   69                 70          75  200000         1  ...   \n",
       "2                   50                 61          59  240000         1  ...   \n",
       "3                   54                 66          62  250000         1  ...   \n",
       "4                   52                 65          67  180000         1  ...   \n",
       "\n",
       "   Entrance_Test_G-MAT  Entrance_Test_G-SAT  Entrance_Test_GCET  \\\n",
       "0                    0                    0                   0   \n",
       "1                    0                    0                   0   \n",
       "2                    0                    0                   0   \n",
       "3                    0                    0                   0   \n",
       "4                    0                    0                   0   \n",
       "\n",
       "   Entrance_Test_K-MAT  Entrance_Test_MAT  Entrance_Test_PGCET  \\\n",
       "0                    0                  1                    0   \n",
       "1                    0                  1                    0   \n",
       "2                    0                  0                    0   \n",
       "3                    0                  1                    0   \n",
       "4                    0                  1                    0   \n",
       "\n",
       "   Entrance_Test_XAT  Specialization_MBA_Marketing & HR  \\\n",
       "0                  0                                  1   \n",
       "1                  0                                  0   \n",
       "2                  0                                  0   \n",
       "3                  0                                  0   \n",
       "4                  0                                  1   \n",
       "\n",
       "   Specialization_MBA_Marketing & IB  Placement_Placed  \n",
       "0                                  0                 1  \n",
       "1                                  0                 1  \n",
       "2                                  0                 1  \n",
       "3                                  0                 1  \n",
       "4                                  0                 1  \n",
       "\n",
       "[5 rows x 35 columns]"
      ]
     },
     "execution_count": 40,
     "metadata": {},
     "output_type": "execute_result"
    }
   ],
   "source": [
    "df.head()"
   ]
  },
  {
   "cell_type": "code",
   "execution_count": 41,
   "metadata": {},
   "outputs": [],
   "source": [
    "X = df.drop('Salary',axis=1)\n",
    "y = df['Salary']"
   ]
  },
  {
   "cell_type": "code",
   "execution_count": 44,
   "metadata": {},
   "outputs": [
    {
     "data": {
      "text/html": [
       "<table class=\"simpletable\">\n",
       "<caption>OLS Regression Results</caption>\n",
       "<tr>\n",
       "  <th>Dep. Variable:</th>         <td>Salary</td>      <th>  R-squared:         </th> <td>   0.719</td> \n",
       "</tr>\n",
       "<tr>\n",
       "  <th>Model:</th>                   <td>OLS</td>       <th>  Adj. R-squared:    </th> <td>   0.692</td> \n",
       "</tr>\n",
       "<tr>\n",
       "  <th>Method:</th>             <td>Least Squares</td>  <th>  F-statistic:       </th> <td>   26.74</td> \n",
       "</tr>\n",
       "<tr>\n",
       "  <th>Date:</th>             <td>Fri, 07 Feb 2020</td> <th>  Prob (F-statistic):</th> <td>5.11e-78</td> \n",
       "</tr>\n",
       "<tr>\n",
       "  <th>Time:</th>                 <td>16:51:56</td>     <th>  Log-Likelihood:    </th> <td> -4934.8</td> \n",
       "</tr>\n",
       "<tr>\n",
       "  <th>No. Observations:</th>      <td>   391</td>      <th>  AIC:               </th> <td>   9940.</td> \n",
       "</tr>\n",
       "<tr>\n",
       "  <th>Df Residuals:</th>          <td>   356</td>      <th>  BIC:               </th> <td>1.008e+04</td>\n",
       "</tr>\n",
       "<tr>\n",
       "  <th>Df Model:</th>              <td>    34</td>      <th>                     </th>     <td> </td>    \n",
       "</tr>\n",
       "<tr>\n",
       "  <th>Covariance Type:</th>      <td>nonrobust</td>    <th>                     </th>     <td> </td>    \n",
       "</tr>\n",
       "</table>\n",
       "<table class=\"simpletable\">\n",
       "<tr>\n",
       "                   <td></td>                      <th>coef</th>     <th>std err</th>      <th>t</th>      <th>P>|t|</th>  <th>[0.025</th>    <th>0.975]</th>  \n",
       "</tr>\n",
       "<tr>\n",
       "  <th>const</th>                               <td>-1.971e+05</td> <td> 6.16e+04</td> <td>   -3.199</td> <td> 0.002</td> <td>-3.18e+05</td> <td>-7.59e+04</td>\n",
       "</tr>\n",
       "<tr>\n",
       "  <th>Percent_SSC</th>                         <td> -168.9194</td> <td>  500.679</td> <td>   -0.337</td> <td> 0.736</td> <td>-1153.580</td> <td>  815.741</td>\n",
       "</tr>\n",
       "<tr>\n",
       "  <th>Percent_HSC</th>                         <td>   33.7054</td> <td>  466.344</td> <td>    0.072</td> <td> 0.942</td> <td> -883.430</td> <td>  950.841</td>\n",
       "</tr>\n",
       "<tr>\n",
       "  <th>Percent_Degree</th>                      <td>  443.7701</td> <td>  569.364</td> <td>    0.779</td> <td> 0.436</td> <td> -675.969</td> <td> 1563.509</td>\n",
       "</tr>\n",
       "<tr>\n",
       "  <th>Percentile_ET</th>                       <td>  338.6877</td> <td>  216.803</td> <td>    1.562</td> <td> 0.119</td> <td>  -87.687</td> <td>  765.063</td>\n",
       "</tr>\n",
       "<tr>\n",
       "  <th>Percent_MBA</th>                         <td>  953.0869</td> <td> 1181.498</td> <td>    0.807</td> <td> 0.420</td> <td>-1370.505</td> <td> 3276.679</td>\n",
       "</tr>\n",
       "<tr>\n",
       "  <th>Marks_Communication</th>                 <td> 1261.5027</td> <td>  683.895</td> <td>    1.845</td> <td> 0.066</td> <td>  -83.479</td> <td> 2606.484</td>\n",
       "</tr>\n",
       "<tr>\n",
       "  <th>Marks_Projectwork</th>                   <td>   35.1670</td> <td>  638.262</td> <td>    0.055</td> <td> 0.956</td> <td>-1220.072</td> <td> 1290.406</td>\n",
       "</tr>\n",
       "<tr>\n",
       "  <th>Marks_BOCA</th>                          <td>  502.0413</td> <td>  502.930</td> <td>    0.998</td> <td> 0.319</td> <td> -487.045</td> <td> 1491.128</td>\n",
       "</tr>\n",
       "<tr>\n",
       "  <th>Gender_M</th>                            <td> 3.833e+04</td> <td> 9372.834</td> <td>    4.089</td> <td> 0.000</td> <td> 1.99e+04</td> <td> 5.68e+04</td>\n",
       "</tr>\n",
       "<tr>\n",
       "  <th>Board_SSC_ICSE</th>                      <td>-1.681e+04</td> <td> 1.57e+04</td> <td>   -1.074</td> <td> 0.284</td> <td>-4.76e+04</td> <td>  1.4e+04</td>\n",
       "</tr>\n",
       "<tr>\n",
       "  <th>Board_SSC_Others</th>                    <td>-1.243e+04</td> <td> 1.33e+04</td> <td>   -0.931</td> <td> 0.353</td> <td>-3.87e+04</td> <td> 1.38e+04</td>\n",
       "</tr>\n",
       "<tr>\n",
       "  <th>Board_HSC_ISC</th>                       <td> 1.123e+04</td> <td> 1.81e+04</td> <td>    0.620</td> <td> 0.536</td> <td>-2.44e+04</td> <td> 4.69e+04</td>\n",
       "</tr>\n",
       "<tr>\n",
       "  <th>Board_HSC_Others</th>                    <td> 3137.5957</td> <td> 1.35e+04</td> <td>    0.233</td> <td> 0.816</td> <td>-2.33e+04</td> <td> 2.96e+04</td>\n",
       "</tr>\n",
       "<tr>\n",
       "  <th>Stream_HSC_Commerce</th>                 <td> 3.735e+04</td> <td> 2.27e+04</td> <td>    1.648</td> <td> 0.100</td> <td>-7228.745</td> <td> 8.19e+04</td>\n",
       "</tr>\n",
       "<tr>\n",
       "  <th>Stream_HSC_Science</th>                  <td> 3.567e+04</td> <td> 2.41e+04</td> <td>    1.479</td> <td> 0.140</td> <td>-1.18e+04</td> <td> 8.31e+04</td>\n",
       "</tr>\n",
       "<tr>\n",
       "  <th>Course_Degree_Commerce</th>              <td>-3.002e+04</td> <td> 2.73e+04</td> <td>   -1.101</td> <td> 0.271</td> <td>-8.36e+04</td> <td> 2.36e+04</td>\n",
       "</tr>\n",
       "<tr>\n",
       "  <th>Course_Degree_Computer Applications</th> <td>-3.634e+04</td> <td> 2.96e+04</td> <td>   -1.228</td> <td> 0.220</td> <td>-9.45e+04</td> <td> 2.19e+04</td>\n",
       "</tr>\n",
       "<tr>\n",
       "  <th>Course_Degree_Engineering</th>           <td>  169.6246</td> <td> 2.87e+04</td> <td>    0.006</td> <td> 0.995</td> <td>-5.63e+04</td> <td> 5.67e+04</td>\n",
       "</tr>\n",
       "<tr>\n",
       "  <th>Course_Degree_Management</th>            <td>-4.221e+04</td> <td> 2.59e+04</td> <td>   -1.628</td> <td> 0.104</td> <td>-9.32e+04</td> <td> 8767.587</td>\n",
       "</tr>\n",
       "<tr>\n",
       "  <th>Course_Degree_Others</th>                <td>-7.312e+04</td> <td> 4.41e+04</td> <td>   -1.660</td> <td> 0.098</td> <td> -1.6e+05</td> <td> 1.35e+04</td>\n",
       "</tr>\n",
       "<tr>\n",
       "  <th>Course_Degree_Science</th>               <td>-4.581e+04</td> <td> 3.02e+04</td> <td>   -1.515</td> <td> 0.131</td> <td>-1.05e+05</td> <td> 1.37e+04</td>\n",
       "</tr>\n",
       "<tr>\n",
       "  <th>Experience_Yrs_1</th>                    <td>-5325.8917</td> <td> 9026.949</td> <td>   -0.590</td> <td> 0.556</td> <td>-2.31e+04</td> <td> 1.24e+04</td>\n",
       "</tr>\n",
       "<tr>\n",
       "  <th>Experience_Yrs_2</th>                    <td> 6.696e+04</td> <td> 1.72e+04</td> <td>    3.891</td> <td> 0.000</td> <td> 3.31e+04</td> <td> 1.01e+05</td>\n",
       "</tr>\n",
       "<tr>\n",
       "  <th>Experience_Yrs_3</th>                    <td> 3.682e+04</td> <td>    4e+04</td> <td>    0.921</td> <td> 0.358</td> <td>-4.18e+04</td> <td> 1.15e+05</td>\n",
       "</tr>\n",
       "<tr>\n",
       "  <th>Entrance_Test_G-MAT</th>                 <td> 1.232e+04</td> <td> 7.85e+04</td> <td>    0.157</td> <td> 0.875</td> <td>-1.42e+05</td> <td> 1.67e+05</td>\n",
       "</tr>\n",
       "<tr>\n",
       "  <th>Entrance_Test_G-SAT</th>                 <td>-3.296e+04</td> <td> 7.99e+04</td> <td>   -0.412</td> <td> 0.680</td> <td> -1.9e+05</td> <td> 1.24e+05</td>\n",
       "</tr>\n",
       "<tr>\n",
       "  <th>Entrance_Test_GCET</th>                  <td> -4.12e+04</td> <td> 5.83e+04</td> <td>   -0.707</td> <td> 0.480</td> <td>-1.56e+05</td> <td> 7.34e+04</td>\n",
       "</tr>\n",
       "<tr>\n",
       "  <th>Entrance_Test_K-MAT</th>                 <td> 2.219e+04</td> <td> 2.27e+04</td> <td>    0.977</td> <td> 0.329</td> <td>-2.25e+04</td> <td> 6.69e+04</td>\n",
       "</tr>\n",
       "<tr>\n",
       "  <th>Entrance_Test_MAT</th>                   <td>-3.352e+04</td> <td> 1.52e+04</td> <td>   -2.212</td> <td> 0.028</td> <td>-6.33e+04</td> <td>-3723.825</td>\n",
       "</tr>\n",
       "<tr>\n",
       "  <th>Entrance_Test_PGCET</th>                 <td> 2.291e+04</td> <td>    3e+04</td> <td>    0.764</td> <td> 0.446</td> <td>-3.61e+04</td> <td> 8.19e+04</td>\n",
       "</tr>\n",
       "<tr>\n",
       "  <th>Entrance_Test_XAT</th>                   <td> 8174.2896</td> <td> 7.96e+04</td> <td>    0.103</td> <td> 0.918</td> <td>-1.48e+05</td> <td> 1.65e+05</td>\n",
       "</tr>\n",
       "<tr>\n",
       "  <th>Specialization_MBA_Marketing & HR</th>   <td>-2.194e+04</td> <td> 8777.375</td> <td>   -2.500</td> <td> 0.013</td> <td>-3.92e+04</td> <td>-4677.569</td>\n",
       "</tr>\n",
       "<tr>\n",
       "  <th>Specialization_MBA_Marketing & IB</th>   <td>-1.985e+04</td> <td> 2.32e+04</td> <td>   -0.855</td> <td> 0.393</td> <td>-6.55e+04</td> <td> 2.58e+04</td>\n",
       "</tr>\n",
       "<tr>\n",
       "  <th>Placement_Placed</th>                    <td>  2.69e+05</td> <td> 1.02e+04</td> <td>   26.280</td> <td> 0.000</td> <td> 2.49e+05</td> <td> 2.89e+05</td>\n",
       "</tr>\n",
       "</table>\n",
       "<table class=\"simpletable\">\n",
       "<tr>\n",
       "  <th>Omnibus:</th>       <td>223.171</td> <th>  Durbin-Watson:     </th> <td>   1.940</td>\n",
       "</tr>\n",
       "<tr>\n",
       "  <th>Prob(Omnibus):</th> <td> 0.000</td>  <th>  Jarque-Bera (JB):  </th> <td>2844.805</td>\n",
       "</tr>\n",
       "<tr>\n",
       "  <th>Skew:</th>          <td> 2.141</td>  <th>  Prob(JB):          </th> <td>    0.00</td>\n",
       "</tr>\n",
       "<tr>\n",
       "  <th>Kurtosis:</th>      <td>15.501</td>  <th>  Cond. No.          </th> <td>3.71e+03</td>\n",
       "</tr>\n",
       "</table><br/><br/>Warnings:<br/>[1] Standard Errors assume that the covariance matrix of the errors is correctly specified.<br/>[2] The condition number is large, 3.71e+03. This might indicate that there are<br/>strong multicollinearity or other numerical problems."
      ],
      "text/plain": [
       "<class 'statsmodels.iolib.summary.Summary'>\n",
       "\"\"\"\n",
       "                            OLS Regression Results                            \n",
       "==============================================================================\n",
       "Dep. Variable:                 Salary   R-squared:                       0.719\n",
       "Model:                            OLS   Adj. R-squared:                  0.692\n",
       "Method:                 Least Squares   F-statistic:                     26.74\n",
       "Date:                Fri, 07 Feb 2020   Prob (F-statistic):           5.11e-78\n",
       "Time:                        16:51:56   Log-Likelihood:                -4934.8\n",
       "No. Observations:                 391   AIC:                             9940.\n",
       "Df Residuals:                     356   BIC:                         1.008e+04\n",
       "Df Model:                          34                                         \n",
       "Covariance Type:            nonrobust                                         \n",
       "=======================================================================================================\n",
       "                                          coef    std err          t      P>|t|      [0.025      0.975]\n",
       "-------------------------------------------------------------------------------------------------------\n",
       "const                               -1.971e+05   6.16e+04     -3.199      0.002   -3.18e+05   -7.59e+04\n",
       "Percent_SSC                          -168.9194    500.679     -0.337      0.736   -1153.580     815.741\n",
       "Percent_HSC                            33.7054    466.344      0.072      0.942    -883.430     950.841\n",
       "Percent_Degree                        443.7701    569.364      0.779      0.436    -675.969    1563.509\n",
       "Percentile_ET                         338.6877    216.803      1.562      0.119     -87.687     765.063\n",
       "Percent_MBA                           953.0869   1181.498      0.807      0.420   -1370.505    3276.679\n",
       "Marks_Communication                  1261.5027    683.895      1.845      0.066     -83.479    2606.484\n",
       "Marks_Projectwork                      35.1670    638.262      0.055      0.956   -1220.072    1290.406\n",
       "Marks_BOCA                            502.0413    502.930      0.998      0.319    -487.045    1491.128\n",
       "Gender_M                             3.833e+04   9372.834      4.089      0.000    1.99e+04    5.68e+04\n",
       "Board_SSC_ICSE                      -1.681e+04   1.57e+04     -1.074      0.284   -4.76e+04     1.4e+04\n",
       "Board_SSC_Others                    -1.243e+04   1.33e+04     -0.931      0.353   -3.87e+04    1.38e+04\n",
       "Board_HSC_ISC                        1.123e+04   1.81e+04      0.620      0.536   -2.44e+04    4.69e+04\n",
       "Board_HSC_Others                     3137.5957   1.35e+04      0.233      0.816   -2.33e+04    2.96e+04\n",
       "Stream_HSC_Commerce                  3.735e+04   2.27e+04      1.648      0.100   -7228.745    8.19e+04\n",
       "Stream_HSC_Science                   3.567e+04   2.41e+04      1.479      0.140   -1.18e+04    8.31e+04\n",
       "Course_Degree_Commerce              -3.002e+04   2.73e+04     -1.101      0.271   -8.36e+04    2.36e+04\n",
       "Course_Degree_Computer Applications -3.634e+04   2.96e+04     -1.228      0.220   -9.45e+04    2.19e+04\n",
       "Course_Degree_Engineering             169.6246   2.87e+04      0.006      0.995   -5.63e+04    5.67e+04\n",
       "Course_Degree_Management            -4.221e+04   2.59e+04     -1.628      0.104   -9.32e+04    8767.587\n",
       "Course_Degree_Others                -7.312e+04   4.41e+04     -1.660      0.098    -1.6e+05    1.35e+04\n",
       "Course_Degree_Science               -4.581e+04   3.02e+04     -1.515      0.131   -1.05e+05    1.37e+04\n",
       "Experience_Yrs_1                    -5325.8917   9026.949     -0.590      0.556   -2.31e+04    1.24e+04\n",
       "Experience_Yrs_2                     6.696e+04   1.72e+04      3.891      0.000    3.31e+04    1.01e+05\n",
       "Experience_Yrs_3                     3.682e+04      4e+04      0.921      0.358   -4.18e+04    1.15e+05\n",
       "Entrance_Test_G-MAT                  1.232e+04   7.85e+04      0.157      0.875   -1.42e+05    1.67e+05\n",
       "Entrance_Test_G-SAT                 -3.296e+04   7.99e+04     -0.412      0.680    -1.9e+05    1.24e+05\n",
       "Entrance_Test_GCET                   -4.12e+04   5.83e+04     -0.707      0.480   -1.56e+05    7.34e+04\n",
       "Entrance_Test_K-MAT                  2.219e+04   2.27e+04      0.977      0.329   -2.25e+04    6.69e+04\n",
       "Entrance_Test_MAT                   -3.352e+04   1.52e+04     -2.212      0.028   -6.33e+04   -3723.825\n",
       "Entrance_Test_PGCET                  2.291e+04      3e+04      0.764      0.446   -3.61e+04    8.19e+04\n",
       "Entrance_Test_XAT                    8174.2896   7.96e+04      0.103      0.918   -1.48e+05    1.65e+05\n",
       "Specialization_MBA_Marketing & HR   -2.194e+04   8777.375     -2.500      0.013   -3.92e+04   -4677.569\n",
       "Specialization_MBA_Marketing & IB   -1.985e+04   2.32e+04     -0.855      0.393   -6.55e+04    2.58e+04\n",
       "Placement_Placed                      2.69e+05   1.02e+04     26.280      0.000    2.49e+05    2.89e+05\n",
       "==============================================================================\n",
       "Omnibus:                      223.171   Durbin-Watson:                   1.940\n",
       "Prob(Omnibus):                  0.000   Jarque-Bera (JB):             2844.805\n",
       "Skew:                           2.141   Prob(JB):                         0.00\n",
       "Kurtosis:                      15.501   Cond. No.                     3.71e+03\n",
       "==============================================================================\n",
       "\n",
       "Warnings:\n",
       "[1] Standard Errors assume that the covariance matrix of the errors is correctly specified.\n",
       "[2] The condition number is large, 3.71e+03. This might indicate that there are\n",
       "strong multicollinearity or other numerical problems.\n",
       "\"\"\""
      ]
     },
     "execution_count": 44,
     "metadata": {},
     "output_type": "execute_result"
    }
   ],
   "source": [
    "from statsmodels.api import OLS\n",
    "import statsmodels.api as sm\n",
    "X_constant = sm.add_constant(X)\n",
    "model = sm.OLS(y, X_constant)\n",
    "results = model.fit()\n",
    "results.summary()"
   ]
  },
  {
   "cell_type": "code",
   "execution_count": 45,
   "metadata": {},
   "outputs": [
    {
     "name": "stdout",
     "output_type": "stream",
     "text": [
      "['Gender_M', 'Experience_Yrs_2', 'Entrance_Test_MAT', 'Specialization_MBA_Marketing & HR', 'Placement_Placed']\n"
     ]
    }
   ],
   "source": [
    "cols = list(X.columns)\n",
    "pmax = 1\n",
    "while (len(cols)>0):\n",
    "    p= []\n",
    "    model = sm.OLS(y,X_constant).fit()\n",
    "    p = pd.Series(model.pvalues,index = cols)      \n",
    "    pmax = max(p)\n",
    "    feature_with_p_max = p.idxmax()\n",
    "    if(pmax>0.05):\n",
    "        cols.remove(feature_with_p_max)\n",
    "    else:\n",
    "        break\n",
    "selected_features_BE = cols\n",
    "print(selected_features_BE)"
   ]
  },
  {
   "cell_type": "code",
   "execution_count": 46,
   "metadata": {},
   "outputs": [],
   "source": [
    "X = df[['Gender_M', 'Experience_Yrs_2', 'Entrance_Test_MAT', 'Specialization_MBA_Marketing & HR', 'Placement_Placed']]\n",
    "y = df['Salary']"
   ]
  },
  {
   "cell_type": "code",
   "execution_count": 47,
   "metadata": {},
   "outputs": [],
   "source": [
    "import warnings\n",
    "warnings.filterwarnings('ignore')"
   ]
  },
  {
   "cell_type": "code",
   "execution_count": 48,
   "metadata": {},
   "outputs": [
    {
     "data": {
      "text/html": [
       "<table class=\"simpletable\">\n",
       "<caption>OLS Regression Results</caption>\n",
       "<tr>\n",
       "  <th>Dep. Variable:</th>         <td>Salary</td>      <th>  R-squared:         </th> <td>   0.672</td>\n",
       "</tr>\n",
       "<tr>\n",
       "  <th>Model:</th>                   <td>OLS</td>       <th>  Adj. R-squared:    </th> <td>   0.668</td>\n",
       "</tr>\n",
       "<tr>\n",
       "  <th>Method:</th>             <td>Least Squares</td>  <th>  F-statistic:       </th> <td>   157.9</td>\n",
       "</tr>\n",
       "<tr>\n",
       "  <th>Date:</th>             <td>Fri, 07 Feb 2020</td> <th>  Prob (F-statistic):</th> <td>6.47e-91</td>\n",
       "</tr>\n",
       "<tr>\n",
       "  <th>Time:</th>                 <td>16:52:07</td>     <th>  Log-Likelihood:    </th> <td> -4964.6</td>\n",
       "</tr>\n",
       "<tr>\n",
       "  <th>No. Observations:</th>      <td>   391</td>      <th>  AIC:               </th> <td>   9941.</td>\n",
       "</tr>\n",
       "<tr>\n",
       "  <th>Df Residuals:</th>          <td>   385</td>      <th>  BIC:               </th> <td>   9965.</td>\n",
       "</tr>\n",
       "<tr>\n",
       "  <th>Df Model:</th>              <td>     5</td>      <th>                     </th>     <td> </td>   \n",
       "</tr>\n",
       "<tr>\n",
       "  <th>Covariance Type:</th>      <td>nonrobust</td>    <th>                     </th>     <td> </td>   \n",
       "</tr>\n",
       "</table>\n",
       "<table class=\"simpletable\">\n",
       "<tr>\n",
       "                  <td></td>                     <th>coef</th>     <th>std err</th>      <th>t</th>      <th>P>|t|</th>  <th>[0.025</th>    <th>0.975]</th>  \n",
       "</tr>\n",
       "<tr>\n",
       "  <th>const</th>                             <td> 4243.0592</td> <td> 1.25e+04</td> <td>    0.339</td> <td> 0.735</td> <td>-2.03e+04</td> <td> 2.88e+04</td>\n",
       "</tr>\n",
       "<tr>\n",
       "  <th>Gender_M</th>                          <td>  2.41e+04</td> <td> 8688.067</td> <td>    2.774</td> <td> 0.006</td> <td> 7015.785</td> <td> 4.12e+04</td>\n",
       "</tr>\n",
       "<tr>\n",
       "  <th>Experience_Yrs_2</th>                  <td> 6.721e+04</td> <td> 1.62e+04</td> <td>    4.141</td> <td> 0.000</td> <td> 3.53e+04</td> <td> 9.91e+04</td>\n",
       "</tr>\n",
       "<tr>\n",
       "  <th>Entrance_Test_MAT</th>                 <td>-2.284e+04</td> <td> 8635.242</td> <td>   -2.645</td> <td> 0.008</td> <td>-3.98e+04</td> <td>-5864.988</td>\n",
       "</tr>\n",
       "<tr>\n",
       "  <th>Specialization_MBA_Marketing & HR</th> <td>-2.514e+04</td> <td> 8272.069</td> <td>   -3.039</td> <td> 0.003</td> <td>-4.14e+04</td> <td>-8876.900</td>\n",
       "</tr>\n",
       "<tr>\n",
       "  <th>Placement_Placed</th>                  <td> 2.752e+05</td> <td> 1.01e+04</td> <td>   27.338</td> <td> 0.000</td> <td> 2.55e+05</td> <td> 2.95e+05</td>\n",
       "</tr>\n",
       "</table>\n",
       "<table class=\"simpletable\">\n",
       "<tr>\n",
       "  <th>Omnibus:</th>       <td>227.376</td> <th>  Durbin-Watson:     </th> <td>   1.944</td>\n",
       "</tr>\n",
       "<tr>\n",
       "  <th>Prob(Omnibus):</th> <td> 0.000</td>  <th>  Jarque-Bera (JB):  </th> <td>2524.559</td>\n",
       "</tr>\n",
       "<tr>\n",
       "  <th>Skew:</th>          <td> 2.253</td>  <th>  Prob(JB):          </th> <td>    0.00</td>\n",
       "</tr>\n",
       "<tr>\n",
       "  <th>Kurtosis:</th>      <td>14.604</td>  <th>  Cond. No.          </th> <td>    6.97</td>\n",
       "</tr>\n",
       "</table><br/><br/>Warnings:<br/>[1] Standard Errors assume that the covariance matrix of the errors is correctly specified."
      ],
      "text/plain": [
       "<class 'statsmodels.iolib.summary.Summary'>\n",
       "\"\"\"\n",
       "                            OLS Regression Results                            \n",
       "==============================================================================\n",
       "Dep. Variable:                 Salary   R-squared:                       0.672\n",
       "Model:                            OLS   Adj. R-squared:                  0.668\n",
       "Method:                 Least Squares   F-statistic:                     157.9\n",
       "Date:                Fri, 07 Feb 2020   Prob (F-statistic):           6.47e-91\n",
       "Time:                        16:52:07   Log-Likelihood:                -4964.6\n",
       "No. Observations:                 391   AIC:                             9941.\n",
       "Df Residuals:                     385   BIC:                             9965.\n",
       "Df Model:                           5                                         \n",
       "Covariance Type:            nonrobust                                         \n",
       "=====================================================================================================\n",
       "                                        coef    std err          t      P>|t|      [0.025      0.975]\n",
       "-----------------------------------------------------------------------------------------------------\n",
       "const                              4243.0592   1.25e+04      0.339      0.735   -2.03e+04    2.88e+04\n",
       "Gender_M                            2.41e+04   8688.067      2.774      0.006    7015.785    4.12e+04\n",
       "Experience_Yrs_2                   6.721e+04   1.62e+04      4.141      0.000    3.53e+04    9.91e+04\n",
       "Entrance_Test_MAT                 -2.284e+04   8635.242     -2.645      0.008   -3.98e+04   -5864.988\n",
       "Specialization_MBA_Marketing & HR -2.514e+04   8272.069     -3.039      0.003   -4.14e+04   -8876.900\n",
       "Placement_Placed                   2.752e+05   1.01e+04     27.338      0.000    2.55e+05    2.95e+05\n",
       "==============================================================================\n",
       "Omnibus:                      227.376   Durbin-Watson:                   1.944\n",
       "Prob(Omnibus):                  0.000   Jarque-Bera (JB):             2524.559\n",
       "Skew:                           2.253   Prob(JB):                         0.00\n",
       "Kurtosis:                      14.604   Cond. No.                         6.97\n",
       "==============================================================================\n",
       "\n",
       "Warnings:\n",
       "[1] Standard Errors assume that the covariance matrix of the errors is correctly specified.\n",
       "\"\"\""
      ]
     },
     "execution_count": 48,
     "metadata": {},
     "output_type": "execute_result"
    }
   ],
   "source": [
    "from statsmodels.api import OLS\n",
    "import statsmodels.api as sm\n",
    "X_constant = sm.add_constant(X)\n",
    "model = sm.OLS(y, X_constant)\n",
    "results = model.fit()\n",
    "results.summary()"
   ]
  },
  {
   "cell_type": "markdown",
   "metadata": {},
   "source": [
    "### The Feature Selection reduced the R^2 Value."
   ]
  },
  {
   "cell_type": "code",
   "execution_count": 49,
   "metadata": {},
   "outputs": [],
   "source": [
    "X = df.drop('Salary',axis=1)\n",
    "y= df['Salary']\n",
    "from sklearn.model_selection import train_test_split\n",
    "xtrain,xtest,ytrain,ytest = train_test_split(X,y,test_size=0.3,random_state=45)"
   ]
  },
  {
   "cell_type": "code",
   "execution_count": 50,
   "metadata": {},
   "outputs": [
    {
     "data": {
      "text/plain": [
       "LinearRegression(copy_X=True, fit_intercept=True, n_jobs=None, normalize=False)"
      ]
     },
     "execution_count": 50,
     "metadata": {},
     "output_type": "execute_result"
    }
   ],
   "source": [
    "from sklearn.linear_model import LinearRegression\n",
    "lr = LinearRegression()\n",
    "lr.fit(xtrain,ytrain)"
   ]
  },
  {
   "cell_type": "code",
   "execution_count": 51,
   "metadata": {},
   "outputs": [
    {
     "name": "stdout",
     "output_type": "stream",
     "text": [
      "Train R^2\n",
      "0.7715738314889704\n",
      "Test R^2\n",
      "0.5749889650060894\n"
     ]
    }
   ],
   "source": [
    "from sklearn.metrics import r2_score\n",
    "y_train_pred = lr.predict(xtrain)\n",
    "print('Train R^2')\n",
    "print(r2_score(ytrain,y_train_pred))\n",
    "print('Test R^2')\n",
    "y_test_pred = lr.predict(xtest)\n",
    "print(r2_score(ytest,y_test_pred))"
   ]
  },
  {
   "cell_type": "markdown",
   "metadata": {},
   "source": [
    "#### It shows that the model is overfit."
   ]
  },
  {
   "cell_type": "code",
   "execution_count": 52,
   "metadata": {},
   "outputs": [],
   "source": [
    "from sklearn.feature_selection import RFE\n",
    "no_of_cols = len(xtrain.columns)\n",
    "\n",
    "xtrain,xtest,ytrain,ytest = train_test_split(X,y,test_size=0.3,random_state=45)\n",
    "score_list=[]\n",
    "for n in range(no_of_cols):\n",
    "    model = LinearRegression()\n",
    "    rfe = RFE(model,n+1)\n",
    "    xtrain_rfe = rfe.fit_transform(xtrain,ytrain)\n",
    "    model.fit(xtrain_rfe,ytrain)\n",
    "    \n",
    "    xtest_rfe = rfe.transform(xtest)\n",
    "    score = model.score(xtest_rfe,ytest)\n",
    "    \n",
    "    score_list.append(score)"
   ]
  },
  {
   "cell_type": "code",
   "execution_count": 53,
   "metadata": {},
   "outputs": [
    {
     "data": {
      "text/plain": [
       "[<matplotlib.lines.Line2D at 0xf873bc1ac8>]"
      ]
     },
     "execution_count": 53,
     "metadata": {},
     "output_type": "execute_result"
    },
    {
     "data": {
      "image/png": "[encoded data removed]",
      "text/plain": [
       "<Figure size 432x288 with 1 Axes>"
      ]
     },
     "metadata": {
      "needs_background": "light"
     },
     "output_type": "display_data"
    }
   ],
   "source": [
    "import matplotlib.pyplot as plt\n",
    "plt.plot(score_list)"
   ]
  },
  {
   "cell_type": "code",
   "execution_count": 54,
   "metadata": {},
   "outputs": [
    {
     "data": {
      "text/plain": [
       "22"
      ]
     },
     "execution_count": 54,
     "metadata": {},
     "output_type": "execute_result"
    }
   ],
   "source": [
    "np.argmax(score_list)"
   ]
  },
  {
   "cell_type": "code",
   "execution_count": 55,
   "metadata": {},
   "outputs": [
    {
     "data": {
      "text/plain": [
       "RFE(estimator=LinearRegression(copy_X=True, fit_intercept=True, n_jobs=None,\n",
       "                               normalize=False),\n",
       "    n_features_to_select=22, step=1, verbose=0)"
      ]
     },
     "execution_count": 55,
     "metadata": {},
     "output_type": "execute_result"
    }
   ],
   "source": [
    "model = LinearRegression()\n",
    "rfe = RFE(model,22)\n",
    "rfe"
   ]
  },
  {
   "cell_type": "code",
   "execution_count": 56,
   "metadata": {},
   "outputs": [
    {
     "data": {
      "text/plain": [
       "LinearRegression(copy_X=True, fit_intercept=True, n_jobs=None, normalize=False)"
      ]
     },
     "execution_count": 56,
     "metadata": {},
     "output_type": "execute_result"
    }
   ],
   "source": [
    "X_rfe = rfe.fit_transform(xtrain,ytrain)\n",
    "model.fit(X_rfe,ytrain)"
   ]
  },
  {
   "cell_type": "code",
   "execution_count": 57,
   "metadata": {},
   "outputs": [
    {
     "data": {
      "text/plain": [
       "array([ 5, 10,  6, 11,  9,  2,  8,  4,  1,  1,  1,  1,  1,  1,  1,  1,  1,\n",
       "        3,  1,  1,  1,  1,  1,  1, 12,  1, 13,  1,  1,  1,  7,  1,  1,  1])"
      ]
     },
     "execution_count": 57,
     "metadata": {},
     "output_type": "execute_result"
    }
   ],
   "source": [
    "rfe.ranking_"
   ]
  },
  {
   "cell_type": "code",
   "execution_count": 58,
   "metadata": {
    "scrolled": true
   },
   "outputs": [
    {
     "data": {
      "text/html": [
       "<div>\n",
       "<style scoped>\n",
       "    .dataframe tbody tr th:only-of-type {\n",
       "        vertical-align: middle;\n",
       "    }\n",
       "\n",
       "    .dataframe tbody tr th {\n",
       "        vertical-align: top;\n",
       "    }\n",
       "\n",
       "    .dataframe thead th {\n",
       "        text-align: right;\n",
       "    }\n",
       "</style>\n",
       "<table border=\"1\" class=\"dataframe\">\n",
       "  <thead>\n",
       "    <tr style=\"text-align: right;\">\n",
       "      <th></th>\n",
       "      <th>cols</th>\n",
       "      <th>select</th>\n",
       "    </tr>\n",
       "  </thead>\n",
       "  <tbody>\n",
       "    <tr>\n",
       "      <th>0</th>\n",
       "      <td>Percent_SSC</td>\n",
       "      <td>5</td>\n",
       "    </tr>\n",
       "    <tr>\n",
       "      <th>1</th>\n",
       "      <td>Percent_HSC</td>\n",
       "      <td>10</td>\n",
       "    </tr>\n",
       "    <tr>\n",
       "      <th>2</th>\n",
       "      <td>Percent_Degree</td>\n",
       "      <td>6</td>\n",
       "    </tr>\n",
       "    <tr>\n",
       "      <th>3</th>\n",
       "      <td>Percentile_ET</td>\n",
       "      <td>11</td>\n",
       "    </tr>\n",
       "    <tr>\n",
       "      <th>4</th>\n",
       "      <td>Percent_MBA</td>\n",
       "      <td>9</td>\n",
       "    </tr>\n",
       "    <tr>\n",
       "      <th>5</th>\n",
       "      <td>Marks_Communication</td>\n",
       "      <td>2</td>\n",
       "    </tr>\n",
       "    <tr>\n",
       "      <th>6</th>\n",
       "      <td>Marks_Projectwork</td>\n",
       "      <td>8</td>\n",
       "    </tr>\n",
       "    <tr>\n",
       "      <th>7</th>\n",
       "      <td>Marks_BOCA</td>\n",
       "      <td>4</td>\n",
       "    </tr>\n",
       "    <tr>\n",
       "      <th>8</th>\n",
       "      <td>Gender_M</td>\n",
       "      <td>1</td>\n",
       "    </tr>\n",
       "    <tr>\n",
       "      <th>9</th>\n",
       "      <td>Board_SSC_ICSE</td>\n",
       "      <td>1</td>\n",
       "    </tr>\n",
       "    <tr>\n",
       "      <th>10</th>\n",
       "      <td>Board_SSC_Others</td>\n",
       "      <td>1</td>\n",
       "    </tr>\n",
       "    <tr>\n",
       "      <th>11</th>\n",
       "      <td>Board_HSC_ISC</td>\n",
       "      <td>1</td>\n",
       "    </tr>\n",
       "    <tr>\n",
       "      <th>12</th>\n",
       "      <td>Board_HSC_Others</td>\n",
       "      <td>1</td>\n",
       "    </tr>\n",
       "    <tr>\n",
       "      <th>13</th>\n",
       "      <td>Stream_HSC_Commerce</td>\n",
       "      <td>1</td>\n",
       "    </tr>\n",
       "    <tr>\n",
       "      <th>14</th>\n",
       "      <td>Stream_HSC_Science</td>\n",
       "      <td>1</td>\n",
       "    </tr>\n",
       "    <tr>\n",
       "      <th>15</th>\n",
       "      <td>Course_Degree_Commerce</td>\n",
       "      <td>1</td>\n",
       "    </tr>\n",
       "    <tr>\n",
       "      <th>16</th>\n",
       "      <td>Course_Degree_Computer Applications</td>\n",
       "      <td>1</td>\n",
       "    </tr>\n",
       "    <tr>\n",
       "      <th>17</th>\n",
       "      <td>Course_Degree_Engineering</td>\n",
       "      <td>3</td>\n",
       "    </tr>\n",
       "    <tr>\n",
       "      <th>18</th>\n",
       "      <td>Course_Degree_Management</td>\n",
       "      <td>1</td>\n",
       "    </tr>\n",
       "    <tr>\n",
       "      <th>19</th>\n",
       "      <td>Course_Degree_Others</td>\n",
       "      <td>1</td>\n",
       "    </tr>\n",
       "    <tr>\n",
       "      <th>20</th>\n",
       "      <td>Course_Degree_Science</td>\n",
       "      <td>1</td>\n",
       "    </tr>\n",
       "    <tr>\n",
       "      <th>21</th>\n",
       "      <td>Experience_Yrs_1</td>\n",
       "      <td>1</td>\n",
       "    </tr>\n",
       "    <tr>\n",
       "      <th>22</th>\n",
       "      <td>Experience_Yrs_2</td>\n",
       "      <td>1</td>\n",
       "    </tr>\n",
       "    <tr>\n",
       "      <th>23</th>\n",
       "      <td>Experience_Yrs_3</td>\n",
       "      <td>1</td>\n",
       "    </tr>\n",
       "    <tr>\n",
       "      <th>24</th>\n",
       "      <td>Entrance_Test_G-MAT</td>\n",
       "      <td>12</td>\n",
       "    </tr>\n",
       "    <tr>\n",
       "      <th>25</th>\n",
       "      <td>Entrance_Test_G-SAT</td>\n",
       "      <td>1</td>\n",
       "    </tr>\n",
       "    <tr>\n",
       "      <th>26</th>\n",
       "      <td>Entrance_Test_GCET</td>\n",
       "      <td>13</td>\n",
       "    </tr>\n",
       "    <tr>\n",
       "      <th>27</th>\n",
       "      <td>Entrance_Test_K-MAT</td>\n",
       "      <td>1</td>\n",
       "    </tr>\n",
       "    <tr>\n",
       "      <th>28</th>\n",
       "      <td>Entrance_Test_MAT</td>\n",
       "      <td>1</td>\n",
       "    </tr>\n",
       "    <tr>\n",
       "      <th>29</th>\n",
       "      <td>Entrance_Test_PGCET</td>\n",
       "      <td>1</td>\n",
       "    </tr>\n",
       "    <tr>\n",
       "      <th>30</th>\n",
       "      <td>Entrance_Test_XAT</td>\n",
       "      <td>7</td>\n",
       "    </tr>\n",
       "    <tr>\n",
       "      <th>31</th>\n",
       "      <td>Specialization_MBA_Marketing &amp; HR</td>\n",
       "      <td>1</td>\n",
       "    </tr>\n",
       "    <tr>\n",
       "      <th>32</th>\n",
       "      <td>Specialization_MBA_Marketing &amp; IB</td>\n",
       "      <td>1</td>\n",
       "    </tr>\n",
       "    <tr>\n",
       "      <th>33</th>\n",
       "      <td>Placement_Placed</td>\n",
       "      <td>1</td>\n",
       "    </tr>\n",
       "  </tbody>\n",
       "</table>\n",
       "</div>"
      ],
      "text/plain": [
       "                                   cols select\n",
       "0                           Percent_SSC      5\n",
       "1                           Percent_HSC     10\n",
       "2                        Percent_Degree      6\n",
       "3                         Percentile_ET     11\n",
       "4                           Percent_MBA      9\n",
       "5                   Marks_Communication      2\n",
       "6                     Marks_Projectwork      8\n",
       "7                            Marks_BOCA      4\n",
       "8                              Gender_M      1\n",
       "9                        Board_SSC_ICSE      1\n",
       "10                     Board_SSC_Others      1\n",
       "11                        Board_HSC_ISC      1\n",
       "12                     Board_HSC_Others      1\n",
       "13                  Stream_HSC_Commerce      1\n",
       "14                   Stream_HSC_Science      1\n",
       "15               Course_Degree_Commerce      1\n",
       "16  Course_Degree_Computer Applications      1\n",
       "17            Course_Degree_Engineering      3\n",
       "18             Course_Degree_Management      1\n",
       "19                 Course_Degree_Others      1\n",
       "20                Course_Degree_Science      1\n",
       "21                     Experience_Yrs_1      1\n",
       "22                     Experience_Yrs_2      1\n",
       "23                     Experience_Yrs_3      1\n",
       "24                  Entrance_Test_G-MAT     12\n",
       "25                  Entrance_Test_G-SAT      1\n",
       "26                   Entrance_Test_GCET     13\n",
       "27                  Entrance_Test_K-MAT      1\n",
       "28                    Entrance_Test_MAT      1\n",
       "29                  Entrance_Test_PGCET      1\n",
       "30                    Entrance_Test_XAT      7\n",
       "31    Specialization_MBA_Marketing & HR      1\n",
       "32    Specialization_MBA_Marketing & IB      1\n",
       "33                     Placement_Placed      1"
      ]
     },
     "execution_count": 58,
     "metadata": {},
     "output_type": "execute_result"
    }
   ],
   "source": [
    "select = pd.DataFrame([X.columns,rfe.ranking_]).T\n",
    "select.columns = ['cols','select']\n",
    "select"
   ]
  },
  {
   "cell_type": "code",
   "execution_count": 59,
   "metadata": {
    "scrolled": true
   },
   "outputs": [
    {
     "data": {
      "text/html": [
       "<div>\n",
       "<style scoped>\n",
       "    .dataframe tbody tr th:only-of-type {\n",
       "        vertical-align: middle;\n",
       "    }\n",
       "\n",
       "    .dataframe tbody tr th {\n",
       "        vertical-align: top;\n",
       "    }\n",
       "\n",
       "    .dataframe thead th {\n",
       "        text-align: right;\n",
       "    }\n",
       "</style>\n",
       "<table border=\"1\" class=\"dataframe\">\n",
       "  <thead>\n",
       "    <tr style=\"text-align: right;\">\n",
       "      <th></th>\n",
       "      <th>cols</th>\n",
       "      <th>select</th>\n",
       "    </tr>\n",
       "  </thead>\n",
       "  <tbody>\n",
       "    <tr>\n",
       "      <th>8</th>\n",
       "      <td>Gender_M</td>\n",
       "      <td>1</td>\n",
       "    </tr>\n",
       "    <tr>\n",
       "      <th>9</th>\n",
       "      <td>Board_SSC_ICSE</td>\n",
       "      <td>1</td>\n",
       "    </tr>\n",
       "    <tr>\n",
       "      <th>10</th>\n",
       "      <td>Board_SSC_Others</td>\n",
       "      <td>1</td>\n",
       "    </tr>\n",
       "    <tr>\n",
       "      <th>11</th>\n",
       "      <td>Board_HSC_ISC</td>\n",
       "      <td>1</td>\n",
       "    </tr>\n",
       "    <tr>\n",
       "      <th>12</th>\n",
       "      <td>Board_HSC_Others</td>\n",
       "      <td>1</td>\n",
       "    </tr>\n",
       "    <tr>\n",
       "      <th>13</th>\n",
       "      <td>Stream_HSC_Commerce</td>\n",
       "      <td>1</td>\n",
       "    </tr>\n",
       "    <tr>\n",
       "      <th>14</th>\n",
       "      <td>Stream_HSC_Science</td>\n",
       "      <td>1</td>\n",
       "    </tr>\n",
       "    <tr>\n",
       "      <th>15</th>\n",
       "      <td>Course_Degree_Commerce</td>\n",
       "      <td>1</td>\n",
       "    </tr>\n",
       "    <tr>\n",
       "      <th>16</th>\n",
       "      <td>Course_Degree_Computer Applications</td>\n",
       "      <td>1</td>\n",
       "    </tr>\n",
       "    <tr>\n",
       "      <th>18</th>\n",
       "      <td>Course_Degree_Management</td>\n",
       "      <td>1</td>\n",
       "    </tr>\n",
       "    <tr>\n",
       "      <th>19</th>\n",
       "      <td>Course_Degree_Others</td>\n",
       "      <td>1</td>\n",
       "    </tr>\n",
       "    <tr>\n",
       "      <th>20</th>\n",
       "      <td>Course_Degree_Science</td>\n",
       "      <td>1</td>\n",
       "    </tr>\n",
       "    <tr>\n",
       "      <th>21</th>\n",
       "      <td>Experience_Yrs_1</td>\n",
       "      <td>1</td>\n",
       "    </tr>\n",
       "    <tr>\n",
       "      <th>22</th>\n",
       "      <td>Experience_Yrs_2</td>\n",
       "      <td>1</td>\n",
       "    </tr>\n",
       "    <tr>\n",
       "      <th>23</th>\n",
       "      <td>Experience_Yrs_3</td>\n",
       "      <td>1</td>\n",
       "    </tr>\n",
       "    <tr>\n",
       "      <th>25</th>\n",
       "      <td>Entrance_Test_G-SAT</td>\n",
       "      <td>1</td>\n",
       "    </tr>\n",
       "    <tr>\n",
       "      <th>27</th>\n",
       "      <td>Entrance_Test_K-MAT</td>\n",
       "      <td>1</td>\n",
       "    </tr>\n",
       "    <tr>\n",
       "      <th>28</th>\n",
       "      <td>Entrance_Test_MAT</td>\n",
       "      <td>1</td>\n",
       "    </tr>\n",
       "    <tr>\n",
       "      <th>29</th>\n",
       "      <td>Entrance_Test_PGCET</td>\n",
       "      <td>1</td>\n",
       "    </tr>\n",
       "    <tr>\n",
       "      <th>31</th>\n",
       "      <td>Specialization_MBA_Marketing &amp; HR</td>\n",
       "      <td>1</td>\n",
       "    </tr>\n",
       "    <tr>\n",
       "      <th>32</th>\n",
       "      <td>Specialization_MBA_Marketing &amp; IB</td>\n",
       "      <td>1</td>\n",
       "    </tr>\n",
       "    <tr>\n",
       "      <th>33</th>\n",
       "      <td>Placement_Placed</td>\n",
       "      <td>1</td>\n",
       "    </tr>\n",
       "  </tbody>\n",
       "</table>\n",
       "</div>"
      ],
      "text/plain": [
       "                                   cols select\n",
       "8                              Gender_M      1\n",
       "9                        Board_SSC_ICSE      1\n",
       "10                     Board_SSC_Others      1\n",
       "11                        Board_HSC_ISC      1\n",
       "12                     Board_HSC_Others      1\n",
       "13                  Stream_HSC_Commerce      1\n",
       "14                   Stream_HSC_Science      1\n",
       "15               Course_Degree_Commerce      1\n",
       "16  Course_Degree_Computer Applications      1\n",
       "18             Course_Degree_Management      1\n",
       "19                 Course_Degree_Others      1\n",
       "20                Course_Degree_Science      1\n",
       "21                     Experience_Yrs_1      1\n",
       "22                     Experience_Yrs_2      1\n",
       "23                     Experience_Yrs_3      1\n",
       "25                  Entrance_Test_G-SAT      1\n",
       "27                  Entrance_Test_K-MAT      1\n",
       "28                    Entrance_Test_MAT      1\n",
       "29                  Entrance_Test_PGCET      1\n",
       "31    Specialization_MBA_Marketing & HR      1\n",
       "32    Specialization_MBA_Marketing & IB      1\n",
       "33                     Placement_Placed      1"
      ]
     },
     "execution_count": 59,
     "metadata": {},
     "output_type": "execute_result"
    }
   ],
   "source": [
    "sel = select[select['select']==1]\n",
    "sel"
   ]
  },
  {
   "cell_type": "code",
   "execution_count": 60,
   "metadata": {
    "scrolled": true
   },
   "outputs": [
    {
     "data": {
      "text/plain": [
       "['Gender_M',\n",
       " 'Board_SSC_ICSE',\n",
       " 'Board_SSC_Others',\n",
       " 'Board_HSC_ISC',\n",
       " 'Board_HSC_Others',\n",
       " 'Stream_HSC_Commerce',\n",
       " 'Stream_HSC_Science',\n",
       " 'Course_Degree_Commerce',\n",
       " 'Course_Degree_Computer Applications',\n",
       " 'Course_Degree_Management',\n",
       " 'Course_Degree_Others',\n",
       " 'Course_Degree_Science',\n",
       " 'Experience_Yrs_1',\n",
       " 'Experience_Yrs_2',\n",
       " 'Experience_Yrs_3',\n",
       " 'Entrance_Test_G-SAT',\n",
       " 'Entrance_Test_K-MAT',\n",
       " 'Entrance_Test_MAT',\n",
       " 'Entrance_Test_PGCET',\n",
       " 'Specialization_MBA_Marketing & HR',\n",
       " 'Specialization_MBA_Marketing & IB',\n",
       " 'Placement_Placed']"
      ]
     },
     "execution_count": 60,
     "metadata": {},
     "output_type": "execute_result"
    }
   ],
   "source": [
    "selected_cols = sel['cols'].tolist()\n",
    "selected_cols"
   ]
  },
  {
   "cell_type": "code",
   "execution_count": 61,
   "metadata": {},
   "outputs": [
    {
     "data": {
      "text/plain": [
       "LinearRegression(copy_X=True, fit_intercept=True, n_jobs=None, normalize=False)"
      ]
     },
     "execution_count": 61,
     "metadata": {},
     "output_type": "execute_result"
    }
   ],
   "source": [
    "from sklearn.linear_model import LinearRegression\n",
    "lr = LinearRegression()\n",
    "lr.fit(xtrain.loc[:,selected_cols],ytrain)"
   ]
  },
  {
   "cell_type": "code",
   "execution_count": 62,
   "metadata": {},
   "outputs": [
    {
     "name": "stdout",
     "output_type": "stream",
     "text": [
      "Train R^2\n",
      "0.7447160134367966\n",
      "Test R^2\n",
      "0.5810904992292432\n"
     ]
    }
   ],
   "source": [
    "from sklearn.metrics import r2_score\n",
    "y_train_pred = lr.predict(xtrain.loc[:,selected_cols])\n",
    "print('Train R^2')\n",
    "print(r2_score(ytrain,y_train_pred))\n",
    "\n",
    "y_test_pred = lr.predict(xtest.loc[:,selected_cols])\n",
    "print('Test R^2')\n",
    "print(r2_score(ytest,y_test_pred))"
   ]
  },
  {
   "cell_type": "markdown",
   "metadata": {},
   "source": [
    "### It shows that the model is overfit"
   ]
  },
  {
   "cell_type": "markdown",
   "metadata": {},
   "source": [
    "# Classification"
   ]
  },
  {
   "cell_type": "code",
   "execution_count": 63,
   "metadata": {},
   "outputs": [],
   "source": [
    "df = pd.read_excel('Admission.xlsx')"
   ]
  },
  {
   "cell_type": "code",
   "execution_count": 64,
   "metadata": {},
   "outputs": [
    {
     "data": {
      "text/html": [
       "<div>\n",
       "<style scoped>\n",
       "    .dataframe tbody tr th:only-of-type {\n",
       "        vertical-align: middle;\n",
       "    }\n",
       "\n",
       "    .dataframe tbody tr th {\n",
       "        vertical-align: top;\n",
       "    }\n",
       "\n",
       "    .dataframe thead th {\n",
       "        text-align: right;\n",
       "    }\n",
       "</style>\n",
       "<table border=\"1\" class=\"dataframe\">\n",
       "  <thead>\n",
       "    <tr style=\"text-align: right;\">\n",
       "      <th></th>\n",
       "      <th>SlNo</th>\n",
       "      <th>Gender</th>\n",
       "      <th>Percent_SSC</th>\n",
       "      <th>Board_SSC</th>\n",
       "      <th>Percent_HSC</th>\n",
       "      <th>Board_HSC</th>\n",
       "      <th>Stream_HSC</th>\n",
       "      <th>Percent_Degree</th>\n",
       "      <th>Course_Degree</th>\n",
       "      <th>Experience_Yrs</th>\n",
       "      <th>Entrance_Test</th>\n",
       "      <th>Percentile_ET</th>\n",
       "      <th>Percent_MBA</th>\n",
       "      <th>Specialization_MBA</th>\n",
       "      <th>Marks_Communication</th>\n",
       "      <th>Marks_Projectwork</th>\n",
       "      <th>Marks_BOCA</th>\n",
       "      <th>Placement</th>\n",
       "      <th>Salary</th>\n",
       "    </tr>\n",
       "  </thead>\n",
       "  <tbody>\n",
       "    <tr>\n",
       "      <th>0</th>\n",
       "      <td>1</td>\n",
       "      <td>M</td>\n",
       "      <td>62.00</td>\n",
       "      <td>Others</td>\n",
       "      <td>88.00</td>\n",
       "      <td>Others</td>\n",
       "      <td>Commerce</td>\n",
       "      <td>52.00</td>\n",
       "      <td>Science</td>\n",
       "      <td>0</td>\n",
       "      <td>MAT</td>\n",
       "      <td>55.0</td>\n",
       "      <td>58.80</td>\n",
       "      <td>Marketing &amp; HR</td>\n",
       "      <td>50</td>\n",
       "      <td>65</td>\n",
       "      <td>74</td>\n",
       "      <td>Placed</td>\n",
       "      <td>270000</td>\n",
       "    </tr>\n",
       "    <tr>\n",
       "      <th>1</th>\n",
       "      <td>2</td>\n",
       "      <td>M</td>\n",
       "      <td>76.33</td>\n",
       "      <td>ICSE</td>\n",
       "      <td>75.33</td>\n",
       "      <td>Others</td>\n",
       "      <td>Science</td>\n",
       "      <td>75.48</td>\n",
       "      <td>Computer Applications</td>\n",
       "      <td>1</td>\n",
       "      <td>MAT</td>\n",
       "      <td>86.5</td>\n",
       "      <td>66.28</td>\n",
       "      <td>Marketing &amp; Finance</td>\n",
       "      <td>69</td>\n",
       "      <td>70</td>\n",
       "      <td>75</td>\n",
       "      <td>Placed</td>\n",
       "      <td>200000</td>\n",
       "    </tr>\n",
       "    <tr>\n",
       "      <th>2</th>\n",
       "      <td>3</td>\n",
       "      <td>M</td>\n",
       "      <td>72.00</td>\n",
       "      <td>Others</td>\n",
       "      <td>78.00</td>\n",
       "      <td>Others</td>\n",
       "      <td>Commerce</td>\n",
       "      <td>66.63</td>\n",
       "      <td>Engineering</td>\n",
       "      <td>0</td>\n",
       "      <td>NaN</td>\n",
       "      <td>0.0</td>\n",
       "      <td>52.91</td>\n",
       "      <td>Marketing &amp; Finance</td>\n",
       "      <td>50</td>\n",
       "      <td>61</td>\n",
       "      <td>59</td>\n",
       "      <td>Placed</td>\n",
       "      <td>240000</td>\n",
       "    </tr>\n",
       "    <tr>\n",
       "      <th>3</th>\n",
       "      <td>4</td>\n",
       "      <td>M</td>\n",
       "      <td>60.00</td>\n",
       "      <td>CBSE</td>\n",
       "      <td>63.00</td>\n",
       "      <td>CBSE</td>\n",
       "      <td>Arts</td>\n",
       "      <td>58.00</td>\n",
       "      <td>Management</td>\n",
       "      <td>0</td>\n",
       "      <td>MAT</td>\n",
       "      <td>75.0</td>\n",
       "      <td>57.80</td>\n",
       "      <td>Marketing &amp; Finance</td>\n",
       "      <td>54</td>\n",
       "      <td>66</td>\n",
       "      <td>62</td>\n",
       "      <td>Placed</td>\n",
       "      <td>250000</td>\n",
       "    </tr>\n",
       "    <tr>\n",
       "      <th>4</th>\n",
       "      <td>5</td>\n",
       "      <td>M</td>\n",
       "      <td>61.00</td>\n",
       "      <td>CBSE</td>\n",
       "      <td>55.00</td>\n",
       "      <td>ISC</td>\n",
       "      <td>Science</td>\n",
       "      <td>54.00</td>\n",
       "      <td>Engineering</td>\n",
       "      <td>1</td>\n",
       "      <td>MAT</td>\n",
       "      <td>66.0</td>\n",
       "      <td>59.43</td>\n",
       "      <td>Marketing &amp; HR</td>\n",
       "      <td>52</td>\n",
       "      <td>65</td>\n",
       "      <td>67</td>\n",
       "      <td>Placed</td>\n",
       "      <td>180000</td>\n",
       "    </tr>\n",
       "  </tbody>\n",
       "</table>\n",
       "</div>"
      ],
      "text/plain": [
       "   SlNo Gender  Percent_SSC Board_SSC  Percent_HSC Board_HSC Stream_HSC  \\\n",
       "0     1      M        62.00    Others        88.00    Others   Commerce   \n",
       "1     2      M        76.33      ICSE        75.33    Others    Science   \n",
       "2     3      M        72.00    Others        78.00    Others   Commerce   \n",
       "3     4      M        60.00      CBSE        63.00      CBSE       Arts   \n",
       "4     5      M        61.00      CBSE        55.00       ISC    Science   \n",
       "\n",
       "   Percent_Degree          Course_Degree  Experience_Yrs Entrance_Test  \\\n",
       "0           52.00                Science               0           MAT   \n",
       "1           75.48  Computer Applications               1           MAT   \n",
       "2           66.63            Engineering               0           NaN   \n",
       "3           58.00             Management               0           MAT   \n",
       "4           54.00            Engineering               1           MAT   \n",
       "\n",
       "   Percentile_ET  Percent_MBA   Specialization_MBA  Marks_Communication  \\\n",
       "0           55.0        58.80       Marketing & HR                   50   \n",
       "1           86.5        66.28  Marketing & Finance                   69   \n",
       "2            0.0        52.91  Marketing & Finance                   50   \n",
       "3           75.0        57.80  Marketing & Finance                   54   \n",
       "4           66.0        59.43       Marketing & HR                   52   \n",
       "\n",
       "   Marks_Projectwork  Marks_BOCA Placement  Salary  \n",
       "0                 65          74    Placed  270000  \n",
       "1                 70          75    Placed  200000  \n",
       "2                 61          59    Placed  240000  \n",
       "3                 66          62    Placed  250000  \n",
       "4                 65          67    Placed  180000  "
      ]
     },
     "execution_count": 64,
     "metadata": {},
     "output_type": "execute_result"
    }
   ],
   "source": [
    "df.head()"
   ]
  },
  {
   "cell_type": "code",
   "execution_count": 65,
   "metadata": {},
   "outputs": [],
   "source": [
    "df.drop('SlNo',axis=1,inplace=True)"
   ]
  },
  {
   "cell_type": "code",
   "execution_count": 66,
   "metadata": {},
   "outputs": [],
   "source": [
    "df['Placement'].replace({'Placed':0,'Not Placed':1},inplace=True)"
   ]
  },
  {
   "cell_type": "code",
   "execution_count": 67,
   "metadata": {},
   "outputs": [],
   "source": [
    "cat_cols = ['Gender','Board_SSC','Board_HSC','Stream_HSC','Course_Degree','Experience_Yrs','Entrance_Test','Specialization_MBA']\n",
    "df = pd.get_dummies(df,columns=cat_cols,drop_first=True)"
   ]
  },
  {
   "cell_type": "code",
   "execution_count": 68,
   "metadata": {},
   "outputs": [
    {
     "data": {
      "text/plain": [
       "Index(['Percent_SSC', 'Percent_HSC', 'Percent_Degree', 'Percentile_ET',\n",
       "       'Percent_MBA', 'Marks_Communication', 'Marks_Projectwork', 'Marks_BOCA',\n",
       "       'Placement', 'Salary', 'Gender_M', 'Board_SSC_ICSE', 'Board_SSC_Others',\n",
       "       'Board_HSC_ISC', 'Board_HSC_Others', 'Stream_HSC_Commerce',\n",
       "       'Stream_HSC_Science', 'Course_Degree_Commerce',\n",
       "       'Course_Degree_Computer Applications', 'Course_Degree_Engineering',\n",
       "       'Course_Degree_Management', 'Course_Degree_Others',\n",
       "       'Course_Degree_Science', 'Experience_Yrs_1', 'Experience_Yrs_2',\n",
       "       'Experience_Yrs_3', 'Entrance_Test_G-MAT', 'Entrance_Test_G-SAT',\n",
       "       'Entrance_Test_GCET', 'Entrance_Test_K-MAT', 'Entrance_Test_MAT',\n",
       "       'Entrance_Test_PGCET', 'Entrance_Test_XAT',\n",
       "       'Specialization_MBA_Marketing & HR',\n",
       "       'Specialization_MBA_Marketing & IB'],\n",
       "      dtype='object')"
      ]
     },
     "execution_count": 68,
     "metadata": {},
     "output_type": "execute_result"
    }
   ],
   "source": [
    "df.columns"
   ]
  },
  {
   "cell_type": "code",
   "execution_count": 69,
   "metadata": {},
   "outputs": [],
   "source": [
    "X = df.drop(['Placement','Salary'],axis=1)\n",
    "y = df['Placement']"
   ]
  },
  {
   "cell_type": "code",
   "execution_count": 70,
   "metadata": {},
   "outputs": [
    {
     "name": "stdout",
     "output_type": "stream",
     "text": [
      "Warning: Maximum number of iterations has been exceeded.\n",
      "         Current function value: 0.446553\n",
      "         Iterations: 35\n"
     ]
    },
    {
     "data": {
      "text/html": [
       "<table class=\"simpletable\">\n",
       "<caption>Logit Regression Results</caption>\n",
       "<tr>\n",
       "  <th>Dep. Variable:</th>       <td>Placement</td>    <th>  No. Observations:  </th>  <td>   391</td> \n",
       "</tr>\n",
       "<tr>\n",
       "  <th>Model:</th>                 <td>Logit</td>      <th>  Df Residuals:      </th>  <td>   357</td> \n",
       "</tr>\n",
       "<tr>\n",
       "  <th>Method:</th>                 <td>MLE</td>       <th>  Df Model:          </th>  <td>    33</td> \n",
       "</tr>\n",
       "<tr>\n",
       "  <th>Date:</th>            <td>Fri, 07 Feb 2020</td> <th>  Pseudo R-squ.:     </th>  <td>0.1126</td> \n",
       "</tr>\n",
       "<tr>\n",
       "  <th>Time:</th>                <td>16:52:50</td>     <th>  Log-Likelihood:    </th> <td> -174.60</td>\n",
       "</tr>\n",
       "<tr>\n",
       "  <th>converged:</th>             <td>False</td>      <th>  LL-Null:           </th> <td> -196.76</td>\n",
       "</tr>\n",
       "<tr>\n",
       "  <th>Covariance Type:</th>     <td>nonrobust</td>    <th>  LLR p-value:       </th>  <td>0.09016</td>\n",
       "</tr>\n",
       "</table>\n",
       "<table class=\"simpletable\">\n",
       "<tr>\n",
       "                   <td></td>                      <th>coef</th>     <th>std err</th>      <th>z</th>      <th>P>|z|</th>  <th>[0.025</th>    <th>0.975]</th>  \n",
       "</tr>\n",
       "<tr>\n",
       "  <th>const</th>                               <td>    2.9927</td> <td>    2.135</td> <td>    1.402</td> <td> 0.161</td> <td>   -1.192</td> <td>    7.178</td>\n",
       "</tr>\n",
       "<tr>\n",
       "  <th>Percent_SSC</th>                         <td>   -0.0618</td> <td>    0.018</td> <td>   -3.480</td> <td> 0.001</td> <td>   -0.097</td> <td>   -0.027</td>\n",
       "</tr>\n",
       "<tr>\n",
       "  <th>Percent_HSC</th>                         <td>    0.0170</td> <td>    0.016</td> <td>    1.038</td> <td> 0.299</td> <td>   -0.015</td> <td>    0.049</td>\n",
       "</tr>\n",
       "<tr>\n",
       "  <th>Percent_Degree</th>                      <td>    0.0016</td> <td>    0.019</td> <td>    0.082</td> <td> 0.935</td> <td>   -0.037</td> <td>    0.040</td>\n",
       "</tr>\n",
       "<tr>\n",
       "  <th>Percentile_ET</th>                       <td>   -0.0137</td> <td>    0.008</td> <td>   -1.782</td> <td> 0.075</td> <td>   -0.029</td> <td>    0.001</td>\n",
       "</tr>\n",
       "<tr>\n",
       "  <th>Percent_MBA</th>                         <td>   -0.0140</td> <td>    0.040</td> <td>   -0.346</td> <td> 0.730</td> <td>   -0.093</td> <td>    0.065</td>\n",
       "</tr>\n",
       "<tr>\n",
       "  <th>Marks_Communication</th>                 <td>    0.0433</td> <td>    0.024</td> <td>    1.836</td> <td> 0.066</td> <td>   -0.003</td> <td>    0.089</td>\n",
       "</tr>\n",
       "<tr>\n",
       "  <th>Marks_Projectwork</th>                   <td>   -0.0456</td> <td>    0.022</td> <td>   -2.108</td> <td> 0.035</td> <td>   -0.088</td> <td>   -0.003</td>\n",
       "</tr>\n",
       "<tr>\n",
       "  <th>Marks_BOCA</th>                          <td>    0.0009</td> <td>    0.018</td> <td>    0.049</td> <td> 0.961</td> <td>   -0.034</td> <td>    0.035</td>\n",
       "</tr>\n",
       "<tr>\n",
       "  <th>Gender_M</th>                            <td>   -0.5190</td> <td>    0.318</td> <td>   -1.634</td> <td> 0.102</td> <td>   -1.142</td> <td>    0.104</td>\n",
       "</tr>\n",
       "<tr>\n",
       "  <th>Board_SSC_ICSE</th>                      <td>    0.1393</td> <td>    0.535</td> <td>    0.260</td> <td> 0.795</td> <td>   -0.910</td> <td>    1.189</td>\n",
       "</tr>\n",
       "<tr>\n",
       "  <th>Board_SSC_Others</th>                    <td>    0.2707</td> <td>    0.475</td> <td>    0.570</td> <td> 0.569</td> <td>   -0.660</td> <td>    1.201</td>\n",
       "</tr>\n",
       "<tr>\n",
       "  <th>Board_HSC_ISC</th>                       <td>    0.3949</td> <td>    0.617</td> <td>    0.640</td> <td> 0.522</td> <td>   -0.814</td> <td>    1.604</td>\n",
       "</tr>\n",
       "<tr>\n",
       "  <th>Board_HSC_Others</th>                    <td>    0.2772</td> <td>    0.479</td> <td>    0.579</td> <td> 0.563</td> <td>   -0.662</td> <td>    1.216</td>\n",
       "</tr>\n",
       "<tr>\n",
       "  <th>Stream_HSC_Commerce</th>                 <td>    0.5958</td> <td>    0.761</td> <td>    0.782</td> <td> 0.434</td> <td>   -0.897</td> <td>    2.088</td>\n",
       "</tr>\n",
       "<tr>\n",
       "  <th>Stream_HSC_Science</th>                  <td>    0.6777</td> <td>    0.820</td> <td>    0.827</td> <td> 0.408</td> <td>   -0.929</td> <td>    2.284</td>\n",
       "</tr>\n",
       "<tr>\n",
       "  <th>Course_Degree_Commerce</th>              <td>   -0.6648</td> <td>    0.908</td> <td>   -0.732</td> <td> 0.464</td> <td>   -2.445</td> <td>    1.116</td>\n",
       "</tr>\n",
       "<tr>\n",
       "  <th>Course_Degree_Computer Applications</th> <td>    0.0899</td> <td>    0.993</td> <td>    0.091</td> <td> 0.928</td> <td>   -1.856</td> <td>    2.036</td>\n",
       "</tr>\n",
       "<tr>\n",
       "  <th>Course_Degree_Engineering</th>           <td>   -0.2013</td> <td>    0.981</td> <td>   -0.205</td> <td> 0.837</td> <td>   -2.124</td> <td>    1.721</td>\n",
       "</tr>\n",
       "<tr>\n",
       "  <th>Course_Degree_Management</th>            <td>   -0.5637</td> <td>    0.863</td> <td>   -0.653</td> <td> 0.514</td> <td>   -2.256</td> <td>    1.129</td>\n",
       "</tr>\n",
       "<tr>\n",
       "  <th>Course_Degree_Others</th>                <td>   -0.7412</td> <td>    1.526</td> <td>   -0.486</td> <td> 0.627</td> <td>   -3.731</td> <td>    2.249</td>\n",
       "</tr>\n",
       "<tr>\n",
       "  <th>Course_Degree_Science</th>               <td>   -0.8332</td> <td>    1.080</td> <td>   -0.771</td> <td> 0.441</td> <td>   -2.950</td> <td>    1.284</td>\n",
       "</tr>\n",
       "<tr>\n",
       "  <th>Experience_Yrs_1</th>                    <td>   -0.4860</td> <td>    0.330</td> <td>   -1.472</td> <td> 0.141</td> <td>   -1.133</td> <td>    0.161</td>\n",
       "</tr>\n",
       "<tr>\n",
       "  <th>Experience_Yrs_2</th>                    <td>    0.1883</td> <td>    0.569</td> <td>    0.331</td> <td> 0.741</td> <td>   -0.926</td> <td>    1.303</td>\n",
       "</tr>\n",
       "<tr>\n",
       "  <th>Experience_Yrs_3</th>                    <td>  -26.6333</td> <td>  4.9e+05</td> <td>-5.43e-05</td> <td> 1.000</td> <td>-9.61e+05</td> <td> 9.61e+05</td>\n",
       "</tr>\n",
       "<tr>\n",
       "  <th>Entrance_Test_G-MAT</th>                 <td>  -17.8024</td> <td> 1.39e+04</td> <td>   -0.001</td> <td> 0.999</td> <td>-2.73e+04</td> <td> 2.73e+04</td>\n",
       "</tr>\n",
       "<tr>\n",
       "  <th>Entrance_Test_G-SAT</th>                 <td>  -18.7446</td> <td> 1.39e+04</td> <td>   -0.001</td> <td> 0.999</td> <td>-2.73e+04</td> <td> 2.73e+04</td>\n",
       "</tr>\n",
       "<tr>\n",
       "  <th>Entrance_Test_GCET</th>                  <td>  -24.2633</td> <td> 2.76e+05</td> <td> -8.8e-05</td> <td> 1.000</td> <td> -5.4e+05</td> <td>  5.4e+05</td>\n",
       "</tr>\n",
       "<tr>\n",
       "  <th>Entrance_Test_K-MAT</th>                 <td>    0.2625</td> <td>    0.825</td> <td>    0.318</td> <td> 0.750</td> <td>   -1.355</td> <td>    1.880</td>\n",
       "</tr>\n",
       "<tr>\n",
       "  <th>Entrance_Test_MAT</th>                   <td>    0.6023</td> <td>    0.544</td> <td>    1.107</td> <td> 0.268</td> <td>   -0.464</td> <td>    1.669</td>\n",
       "</tr>\n",
       "<tr>\n",
       "  <th>Entrance_Test_PGCET</th>                 <td>    1.8311</td> <td>    0.893</td> <td>    2.052</td> <td> 0.040</td> <td>    0.082</td> <td>    3.580</td>\n",
       "</tr>\n",
       "<tr>\n",
       "  <th>Entrance_Test_XAT</th>                   <td>  -16.0381</td> <td> 1.39e+04</td> <td>   -0.001</td> <td> 0.999</td> <td>-2.72e+04</td> <td> 2.71e+04</td>\n",
       "</tr>\n",
       "<tr>\n",
       "  <th>Specialization_MBA_Marketing & HR</th>   <td>   -0.2780</td> <td>    0.302</td> <td>   -0.922</td> <td> 0.357</td> <td>   -0.869</td> <td>    0.313</td>\n",
       "</tr>\n",
       "<tr>\n",
       "  <th>Specialization_MBA_Marketing & IB</th>   <td>   -0.0725</td> <td>    0.750</td> <td>   -0.097</td> <td> 0.923</td> <td>   -1.542</td> <td>    1.397</td>\n",
       "</tr>\n",
       "</table>"
      ],
      "text/plain": [
       "<class 'statsmodels.iolib.summary.Summary'>\n",
       "\"\"\"\n",
       "                           Logit Regression Results                           \n",
       "==============================================================================\n",
       "Dep. Variable:              Placement   No. Observations:                  391\n",
       "Model:                          Logit   Df Residuals:                      357\n",
       "Method:                           MLE   Df Model:                           33\n",
       "Date:                Fri, 07 Feb 2020   Pseudo R-squ.:                  0.1126\n",
       "Time:                        16:52:50   Log-Likelihood:                -174.60\n",
       "converged:                      False   LL-Null:                       -196.76\n",
       "Covariance Type:            nonrobust   LLR p-value:                   0.09016\n",
       "=======================================================================================================\n",
       "                                          coef    std err          z      P>|z|      [0.025      0.975]\n",
       "-------------------------------------------------------------------------------------------------------\n",
       "const                                   2.9927      2.135      1.402      0.161      -1.192       7.178\n",
       "Percent_SSC                            -0.0618      0.018     -3.480      0.001      -0.097      -0.027\n",
       "Percent_HSC                             0.0170      0.016      1.038      0.299      -0.015       0.049\n",
       "Percent_Degree                          0.0016      0.019      0.082      0.935      -0.037       0.040\n",
       "Percentile_ET                          -0.0137      0.008     -1.782      0.075      -0.029       0.001\n",
       "Percent_MBA                            -0.0140      0.040     -0.346      0.730      -0.093       0.065\n",
       "Marks_Communication                     0.0433      0.024      1.836      0.066      -0.003       0.089\n",
       "Marks_Projectwork                      -0.0456      0.022     -2.108      0.035      -0.088      -0.003\n",
       "Marks_BOCA                              0.0009      0.018      0.049      0.961      -0.034       0.035\n",
       "Gender_M                               -0.5190      0.318     -1.634      0.102      -1.142       0.104\n",
       "Board_SSC_ICSE                          0.1393      0.535      0.260      0.795      -0.910       1.189\n",
       "Board_SSC_Others                        0.2707      0.475      0.570      0.569      -0.660       1.201\n",
       "Board_HSC_ISC                           0.3949      0.617      0.640      0.522      -0.814       1.604\n",
       "Board_HSC_Others                        0.2772      0.479      0.579      0.563      -0.662       1.216\n",
       "Stream_HSC_Commerce                     0.5958      0.761      0.782      0.434      -0.897       2.088\n",
       "Stream_HSC_Science                      0.6777      0.820      0.827      0.408      -0.929       2.284\n",
       "Course_Degree_Commerce                 -0.6648      0.908     -0.732      0.464      -2.445       1.116\n",
       "Course_Degree_Computer Applications     0.0899      0.993      0.091      0.928      -1.856       2.036\n",
       "Course_Degree_Engineering              -0.2013      0.981     -0.205      0.837      -2.124       1.721\n",
       "Course_Degree_Management               -0.5637      0.863     -0.653      0.514      -2.256       1.129\n",
       "Course_Degree_Others                   -0.7412      1.526     -0.486      0.627      -3.731       2.249\n",
       "Course_Degree_Science                  -0.8332      1.080     -0.771      0.441      -2.950       1.284\n",
       "Experience_Yrs_1                       -0.4860      0.330     -1.472      0.141      -1.133       0.161\n",
       "Experience_Yrs_2                        0.1883      0.569      0.331      0.741      -0.926       1.303\n",
       "Experience_Yrs_3                      -26.6333    4.9e+05  -5.43e-05      1.000   -9.61e+05    9.61e+05\n",
       "Entrance_Test_G-MAT                   -17.8024   1.39e+04     -0.001      0.999   -2.73e+04    2.73e+04\n",
       "Entrance_Test_G-SAT                   -18.7446   1.39e+04     -0.001      0.999   -2.73e+04    2.73e+04\n",
       "Entrance_Test_GCET                    -24.2633   2.76e+05   -8.8e-05      1.000    -5.4e+05     5.4e+05\n",
       "Entrance_Test_K-MAT                     0.2625      0.825      0.318      0.750      -1.355       1.880\n",
       "Entrance_Test_MAT                       0.6023      0.544      1.107      0.268      -0.464       1.669\n",
       "Entrance_Test_PGCET                     1.8311      0.893      2.052      0.040       0.082       3.580\n",
       "Entrance_Test_XAT                     -16.0381   1.39e+04     -0.001      0.999   -2.72e+04    2.71e+04\n",
       "Specialization_MBA_Marketing & HR      -0.2780      0.302     -0.922      0.357      -0.869       0.313\n",
       "Specialization_MBA_Marketing & IB      -0.0725      0.750     -0.097      0.923      -1.542       1.397\n",
       "=======================================================================================================\n",
       "\"\"\""
      ]
     },
     "execution_count": 70,
     "metadata": {},
     "output_type": "execute_result"
    }
   ],
   "source": [
    "from statsmodels.api import Logit\n",
    "X_constant = sm.add_constant(X)\n",
    "model = Logit(y,X_constant)\n",
    "result = model.fit()\n",
    "result.summary()"
   ]
  },
  {
   "cell_type": "code",
   "execution_count": 71,
   "metadata": {},
   "outputs": [
    {
     "data": {
      "text/plain": [
       "Index(['const', 'Percent_SSC', 'Percent_HSC', 'Percent_Degree',\n",
       "       'Percentile_ET', 'Percent_MBA', 'Marks_Communication',\n",
       "       'Marks_Projectwork', 'Marks_BOCA', 'Gender_M', 'Board_SSC_ICSE',\n",
       "       'Board_SSC_Others', 'Board_HSC_ISC', 'Board_HSC_Others',\n",
       "       'Stream_HSC_Commerce', 'Stream_HSC_Science', 'Course_Degree_Commerce',\n",
       "       'Course_Degree_Computer Applications', 'Course_Degree_Engineering',\n",
       "       'Course_Degree_Management', 'Course_Degree_Others',\n",
       "       'Course_Degree_Science', 'Experience_Yrs_1', 'Experience_Yrs_2',\n",
       "       'Experience_Yrs_3', 'Entrance_Test_G-MAT', 'Entrance_Test_G-SAT',\n",
       "       'Entrance_Test_GCET', 'Entrance_Test_K-MAT', 'Entrance_Test_MAT',\n",
       "       'Entrance_Test_PGCET', 'Entrance_Test_XAT',\n",
       "       'Specialization_MBA_Marketing & HR',\n",
       "       'Specialization_MBA_Marketing & IB'],\n",
       "      dtype='object')"
      ]
     },
     "execution_count": 71,
     "metadata": {},
     "output_type": "execute_result"
    }
   ],
   "source": [
    "cols = X_constant.columns\n",
    "cols"
   ]
  },
  {
   "cell_type": "code",
   "execution_count": 72,
   "metadata": {},
   "outputs": [],
   "source": [
    "def back_feature_elem (data_frame,dep_var,col_list):\n",
    "    while len(col_list)>0 :\n",
    "        model=sm.Logit(dep_var,data_frame[col_list])\n",
    "        result=model.fit(disp=0)\n",
    "        largest_pvalue=round(result.pvalues,3).nlargest(1)\n",
    "        if largest_pvalue[0]<(0.05):\n",
    "            return result\n",
    "            break\n",
    "        else:\n",
    "            col_list=col_list.drop(largest_pvalue.index)\n",
    "\n",
    "result=back_feature_elem(X_constant,y,cols)"
   ]
  },
  {
   "cell_type": "code",
   "execution_count": 73,
   "metadata": {},
   "outputs": [
    {
     "data": {
      "text/html": [
       "<table class=\"simpletable\">\n",
       "<caption>Logit Regression Results</caption>\n",
       "<tr>\n",
       "  <th>Dep. Variable:</th>       <td>Placement</td>    <th>  No. Observations:  </th>  <td>   391</td>  \n",
       "</tr>\n",
       "<tr>\n",
       "  <th>Model:</th>                 <td>Logit</td>      <th>  Df Residuals:      </th>  <td>   388</td>  \n",
       "</tr>\n",
       "<tr>\n",
       "  <th>Method:</th>                 <td>MLE</td>       <th>  Df Model:          </th>  <td>     2</td>  \n",
       "</tr>\n",
       "<tr>\n",
       "  <th>Date:</th>            <td>Fri, 07 Feb 2020</td> <th>  Pseudo R-squ.:     </th>  <td>0.04370</td> \n",
       "</tr>\n",
       "<tr>\n",
       "  <th>Time:</th>                <td>16:52:51</td>     <th>  Log-Likelihood:    </th> <td> -188.16</td> \n",
       "</tr>\n",
       "<tr>\n",
       "  <th>converged:</th>             <td>True</td>       <th>  LL-Null:           </th> <td> -196.76</td> \n",
       "</tr>\n",
       "<tr>\n",
       "  <th>Covariance Type:</th>     <td>nonrobust</td>    <th>  LLR p-value:       </th> <td>0.0001843</td>\n",
       "</tr>\n",
       "</table>\n",
       "<table class=\"simpletable\">\n",
       "<tr>\n",
       "           <td></td>              <th>coef</th>     <th>std err</th>      <th>z</th>      <th>P>|z|</th>  <th>[0.025</th>    <th>0.975]</th>  \n",
       "</tr>\n",
       "<tr>\n",
       "  <th>Percent_SSC</th>         <td>   -0.0490</td> <td>    0.013</td> <td>   -3.899</td> <td> 0.000</td> <td>   -0.074</td> <td>   -0.024</td>\n",
       "</tr>\n",
       "<tr>\n",
       "  <th>Marks_Communication</th> <td>    0.0279</td> <td>    0.013</td> <td>    2.157</td> <td> 0.031</td> <td>    0.003</td> <td>    0.053</td>\n",
       "</tr>\n",
       "<tr>\n",
       "  <th>Entrance_Test_PGCET</th> <td>    1.4577</td> <td>    0.740</td> <td>    1.969</td> <td> 0.049</td> <td>    0.007</td> <td>    2.909</td>\n",
       "</tr>\n",
       "</table>"
      ],
      "text/plain": [
       "<class 'statsmodels.iolib.summary.Summary'>\n",
       "\"\"\"\n",
       "                           Logit Regression Results                           \n",
       "==============================================================================\n",
       "Dep. Variable:              Placement   No. Observations:                  391\n",
       "Model:                          Logit   Df Residuals:                      388\n",
       "Method:                           MLE   Df Model:                            2\n",
       "Date:                Fri, 07 Feb 2020   Pseudo R-squ.:                 0.04370\n",
       "Time:                        16:52:51   Log-Likelihood:                -188.16\n",
       "converged:                       True   LL-Null:                       -196.76\n",
       "Covariance Type:            nonrobust   LLR p-value:                 0.0001843\n",
       "=======================================================================================\n",
       "                          coef    std err          z      P>|z|      [0.025      0.975]\n",
       "---------------------------------------------------------------------------------------\n",
       "Percent_SSC            -0.0490      0.013     -3.899      0.000      -0.074      -0.024\n",
       "Marks_Communication     0.0279      0.013      2.157      0.031       0.003       0.053\n",
       "Entrance_Test_PGCET     1.4577      0.740      1.969      0.049       0.007       2.909\n",
       "=======================================================================================\n",
       "\"\"\""
      ]
     },
     "execution_count": 73,
     "metadata": {},
     "output_type": "execute_result"
    }
   ],
   "source": [
    "result.summary()"
   ]
  },
  {
   "cell_type": "code",
   "execution_count": 74,
   "metadata": {},
   "outputs": [
    {
     "data": {
      "text/plain": [
       "Percent_SSC            0.952199\n",
       "Marks_Communication    1.028286\n",
       "Entrance_Test_PGCET    4.296207\n",
       "dtype: float64"
      ]
     },
     "execution_count": 74,
     "metadata": {},
     "output_type": "execute_result"
    }
   ],
   "source": [
    "np.exp(result.params)"
   ]
  },
  {
   "cell_type": "code",
   "execution_count": 75,
   "metadata": {},
   "outputs": [
    {
     "data": {
      "text/html": [
       "<div>\n",
       "<style scoped>\n",
       "    .dataframe tbody tr th:only-of-type {\n",
       "        vertical-align: middle;\n",
       "    }\n",
       "\n",
       "    .dataframe tbody tr th {\n",
       "        vertical-align: top;\n",
       "    }\n",
       "\n",
       "    .dataframe thead th {\n",
       "        text-align: right;\n",
       "    }\n",
       "</style>\n",
       "<table border=\"1\" class=\"dataframe\">\n",
       "  <thead>\n",
       "    <tr style=\"text-align: right;\">\n",
       "      <th></th>\n",
       "      <th>Features</th>\n",
       "      <th>vif</th>\n",
       "    </tr>\n",
       "  </thead>\n",
       "  <tbody>\n",
       "    <tr>\n",
       "      <th>0</th>\n",
       "      <td>const</td>\n",
       "      <td>251.526119</td>\n",
       "    </tr>\n",
       "    <tr>\n",
       "      <th>1</th>\n",
       "      <td>Percent_SSC</td>\n",
       "      <td>1.924843</td>\n",
       "    </tr>\n",
       "    <tr>\n",
       "      <th>2</th>\n",
       "      <td>Percent_HSC</td>\n",
       "      <td>1.870614</td>\n",
       "    </tr>\n",
       "    <tr>\n",
       "      <th>3</th>\n",
       "      <td>Percent_Degree</td>\n",
       "      <td>1.704235</td>\n",
       "    </tr>\n",
       "    <tr>\n",
       "      <th>4</th>\n",
       "      <td>Percentile_ET</td>\n",
       "      <td>2.992087</td>\n",
       "    </tr>\n",
       "    <tr>\n",
       "      <th>5</th>\n",
       "      <td>Percent_MBA</td>\n",
       "      <td>3.163170</td>\n",
       "    </tr>\n",
       "    <tr>\n",
       "      <th>6</th>\n",
       "      <td>Marks_Communication</td>\n",
       "      <td>2.387966</td>\n",
       "    </tr>\n",
       "    <tr>\n",
       "      <th>7</th>\n",
       "      <td>Marks_Projectwork</td>\n",
       "      <td>1.359222</td>\n",
       "    </tr>\n",
       "    <tr>\n",
       "      <th>8</th>\n",
       "      <td>Marks_BOCA</td>\n",
       "      <td>1.535981</td>\n",
       "    </tr>\n",
       "    <tr>\n",
       "      <th>9</th>\n",
       "      <td>Gender_M</td>\n",
       "      <td>1.267406</td>\n",
       "    </tr>\n",
       "    <tr>\n",
       "      <th>10</th>\n",
       "      <td>Board_SSC_ICSE</td>\n",
       "      <td>2.569251</td>\n",
       "    </tr>\n",
       "    <tr>\n",
       "      <th>11</th>\n",
       "      <td>Board_SSC_Others</td>\n",
       "      <td>2.949335</td>\n",
       "    </tr>\n",
       "    <tr>\n",
       "      <th>12</th>\n",
       "      <td>Board_HSC_ISC</td>\n",
       "      <td>2.341775</td>\n",
       "    </tr>\n",
       "    <tr>\n",
       "      <th>13</th>\n",
       "      <td>Board_HSC_Others</td>\n",
       "      <td>2.788621</td>\n",
       "    </tr>\n",
       "    <tr>\n",
       "      <th>14</th>\n",
       "      <td>Stream_HSC_Commerce</td>\n",
       "      <td>8.340935</td>\n",
       "    </tr>\n",
       "    <tr>\n",
       "      <th>15</th>\n",
       "      <td>Stream_HSC_Science</td>\n",
       "      <td>9.120700</td>\n",
       "    </tr>\n",
       "    <tr>\n",
       "      <th>16</th>\n",
       "      <td>Course_Degree_Commerce</td>\n",
       "      <td>10.317505</td>\n",
       "    </tr>\n",
       "    <tr>\n",
       "      <th>17</th>\n",
       "      <td>Course_Degree_Computer Applications</td>\n",
       "      <td>4.361681</td>\n",
       "    </tr>\n",
       "    <tr>\n",
       "      <th>18</th>\n",
       "      <td>Course_Degree_Engineering</td>\n",
       "      <td>4.685180</td>\n",
       "    </tr>\n",
       "    <tr>\n",
       "      <th>19</th>\n",
       "      <td>Course_Degree_Management</td>\n",
       "      <td>10.816686</td>\n",
       "    </tr>\n",
       "    <tr>\n",
       "      <th>20</th>\n",
       "      <td>Course_Degree_Others</td>\n",
       "      <td>1.623337</td>\n",
       "    </tr>\n",
       "    <tr>\n",
       "      <th>21</th>\n",
       "      <td>Course_Degree_Science</td>\n",
       "      <td>3.488260</td>\n",
       "    </tr>\n",
       "    <tr>\n",
       "      <th>22</th>\n",
       "      <td>Experience_Yrs_1</td>\n",
       "      <td>1.158670</td>\n",
       "    </tr>\n",
       "    <tr>\n",
       "      <th>23</th>\n",
       "      <td>Experience_Yrs_2</td>\n",
       "      <td>1.218357</td>\n",
       "    </tr>\n",
       "    <tr>\n",
       "      <th>24</th>\n",
       "      <td>Experience_Yrs_3</td>\n",
       "      <td>1.069083</td>\n",
       "    </tr>\n",
       "    <tr>\n",
       "      <th>25</th>\n",
       "      <td>Entrance_Test_G-MAT</td>\n",
       "      <td>1.041255</td>\n",
       "    </tr>\n",
       "    <tr>\n",
       "      <th>26</th>\n",
       "      <td>Entrance_Test_G-SAT</td>\n",
       "      <td>1.077757</td>\n",
       "    </tr>\n",
       "    <tr>\n",
       "      <th>27</th>\n",
       "      <td>Entrance_Test_GCET</td>\n",
       "      <td>1.144103</td>\n",
       "    </tr>\n",
       "    <tr>\n",
       "      <th>28</th>\n",
       "      <td>Entrance_Test_K-MAT</td>\n",
       "      <td>1.969413</td>\n",
       "    </tr>\n",
       "    <tr>\n",
       "      <th>29</th>\n",
       "      <td>Entrance_Test_MAT</td>\n",
       "      <td>3.312514</td>\n",
       "    </tr>\n",
       "    <tr>\n",
       "      <th>30</th>\n",
       "      <td>Entrance_Test_PGCET</td>\n",
       "      <td>1.181122</td>\n",
       "    </tr>\n",
       "    <tr>\n",
       "      <th>31</th>\n",
       "      <td>Entrance_Test_XAT</td>\n",
       "      <td>1.072529</td>\n",
       "    </tr>\n",
       "    <tr>\n",
       "      <th>32</th>\n",
       "      <td>Specialization_MBA_Marketing &amp; HR</td>\n",
       "      <td>1.220548</td>\n",
       "    </tr>\n",
       "    <tr>\n",
       "      <th>33</th>\n",
       "      <td>Specialization_MBA_Marketing &amp; IB</td>\n",
       "      <td>1.147630</td>\n",
       "    </tr>\n",
       "  </tbody>\n",
       "</table>\n",
       "</div>"
      ],
      "text/plain": [
       "                               Features         vif\n",
       "0                                 const  251.526119\n",
       "1                           Percent_SSC    1.924843\n",
       "2                           Percent_HSC    1.870614\n",
       "3                        Percent_Degree    1.704235\n",
       "4                         Percentile_ET    2.992087\n",
       "5                           Percent_MBA    3.163170\n",
       "6                   Marks_Communication    2.387966\n",
       "7                     Marks_Projectwork    1.359222\n",
       "8                            Marks_BOCA    1.535981\n",
       "9                              Gender_M    1.267406\n",
       "10                       Board_SSC_ICSE    2.569251\n",
       "11                     Board_SSC_Others    2.949335\n",
       "12                        Board_HSC_ISC    2.341775\n",
       "13                     Board_HSC_Others    2.788621\n",
       "14                  Stream_HSC_Commerce    8.340935\n",
       "15                   Stream_HSC_Science    9.120700\n",
       "16               Course_Degree_Commerce   10.317505\n",
       "17  Course_Degree_Computer Applications    4.361681\n",
       "18            Course_Degree_Engineering    4.685180\n",
       "19             Course_Degree_Management   10.816686\n",
       "20                 Course_Degree_Others    1.623337\n",
       "21                Course_Degree_Science    3.488260\n",
       "22                     Experience_Yrs_1    1.158670\n",
       "23                     Experience_Yrs_2    1.218357\n",
       "24                     Experience_Yrs_3    1.069083\n",
       "25                  Entrance_Test_G-MAT    1.041255\n",
       "26                  Entrance_Test_G-SAT    1.077757\n",
       "27                   Entrance_Test_GCET    1.144103\n",
       "28                  Entrance_Test_K-MAT    1.969413\n",
       "29                    Entrance_Test_MAT    3.312514\n",
       "30                  Entrance_Test_PGCET    1.181122\n",
       "31                    Entrance_Test_XAT    1.072529\n",
       "32    Specialization_MBA_Marketing & HR    1.220548\n",
       "33    Specialization_MBA_Marketing & IB    1.147630"
      ]
     },
     "execution_count": 75,
     "metadata": {},
     "output_type": "execute_result"
    }
   ],
   "source": [
    "from statsmodels.stats.outliers_influence import variance_inflation_factor\n",
    "vif= pd.DataFrame()\n",
    "vif['Features'] = X_constant.columns\n",
    "vif['vif']=[variance_inflation_factor(X_constant.values,i) for i in range(X_constant.shape[1])]\n",
    "\n",
    "vif"
   ]
  }
 ],
 "metadata": {
  "kernelspec": {
   "display_name": "Python 3",
   "language": "python",
   "name": "python3"
  },
  "language_info": {
   "codemirror_mode": {
    "name": "ipython",
    "version": 3
   },
   "file_extension": ".py",
   "mimetype": "text/x-python",
   "name": "python",
   "nbconvert_exporter": "python",
   "pygments_lexer": "ipython3",
   "version": "3.7.3"
  }
 },
 "nbformat": 4,
 "nbformat_minor": 2
}
