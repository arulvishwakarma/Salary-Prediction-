{
 "cells": [
  {
   "cell_type": "code",
   "execution_count": 1,
   "metadata": {},
   "outputs": [],
   "source": [
    "from sklearn.datasets import load_boston\n",
    "import pandas            as pd\n",
    "import numpy             as np\n",
    "import matplotlib.pyplot as plt\n",
    "import seaborn           as sns\n",
    "import scipy.stats       as stats\n",
    "import math\n",
    "from scipy.stats import ttest_ind\n",
    "import warnings\n",
    "warnings.simplefilter(\"ignore\")\n",
    "import statsmodels.api as sm\n",
    "from statsmodels.tools import add_constant as add_constant\n",
    "from sklearn.metrics import r2_score"
   ]
  },
  {
   "cell_type": "markdown",
   "metadata": {},
   "source": [
    "# Starting with Salary Prediction i.e. Regression model"
   ]
  },
  {
   "cell_type": "code",
   "execution_count": 2,
   "metadata": {},
   "outputs": [],
   "source": [
    "df = pd.read_excel('Admission.xlsx')"
   ]
  },
  {
   "cell_type": "code",
   "execution_count": 3,
   "metadata": {},
   "outputs": [
    {
     "data": {
      "text/html": [
       "<div>\n",
       "<style scoped>\n",
       "    .dataframe tbody tr th:only-of-type {\n",
       "        vertical-align: middle;\n",
       "    }\n",
       "\n",
       "    .dataframe tbody tr th {\n",
       "        vertical-align: top;\n",
       "    }\n",
       "\n",
       "    .dataframe thead th {\n",
       "        text-align: right;\n",
       "    }\n",
       "</style>\n",
       "<table border=\"1\" class=\"dataframe\">\n",
       "  <thead>\n",
       "    <tr style=\"text-align: right;\">\n",
       "      <th></th>\n",
       "      <th>SlNo</th>\n",
       "      <th>Gender</th>\n",
       "      <th>Percent_SSC</th>\n",
       "      <th>Board_SSC</th>\n",
       "      <th>Percent_HSC</th>\n",
       "      <th>Board_HSC</th>\n",
       "      <th>Stream_HSC</th>\n",
       "      <th>Percent_Degree</th>\n",
       "      <th>Course_Degree</th>\n",
       "      <th>Experience_Yrs</th>\n",
       "      <th>Entrance_Test</th>\n",
       "      <th>Percentile_ET</th>\n",
       "      <th>Percent_MBA</th>\n",
       "      <th>Specialization_MBA</th>\n",
       "      <th>Marks_Communication</th>\n",
       "      <th>Marks_Projectwork</th>\n",
       "      <th>Marks_BOCA</th>\n",
       "      <th>Placement</th>\n",
       "      <th>Salary</th>\n",
       "    </tr>\n",
       "  </thead>\n",
       "  <tbody>\n",
       "    <tr>\n",
       "      <th>0</th>\n",
       "      <td>1</td>\n",
       "      <td>M</td>\n",
       "      <td>62.00</td>\n",
       "      <td>Others</td>\n",
       "      <td>88.00</td>\n",
       "      <td>Others</td>\n",
       "      <td>Commerce</td>\n",
       "      <td>52.00</td>\n",
       "      <td>Science</td>\n",
       "      <td>0</td>\n",
       "      <td>MAT</td>\n",
       "      <td>55.0</td>\n",
       "      <td>58.80</td>\n",
       "      <td>Marketing &amp; HR</td>\n",
       "      <td>50</td>\n",
       "      <td>65</td>\n",
       "      <td>74</td>\n",
       "      <td>Placed</td>\n",
       "      <td>270000</td>\n",
       "    </tr>\n",
       "    <tr>\n",
       "      <th>1</th>\n",
       "      <td>2</td>\n",
       "      <td>M</td>\n",
       "      <td>76.33</td>\n",
       "      <td>ICSE</td>\n",
       "      <td>75.33</td>\n",
       "      <td>Others</td>\n",
       "      <td>Science</td>\n",
       "      <td>75.48</td>\n",
       "      <td>Computer Applications</td>\n",
       "      <td>1</td>\n",
       "      <td>MAT</td>\n",
       "      <td>86.5</td>\n",
       "      <td>66.28</td>\n",
       "      <td>Marketing &amp; Finance</td>\n",
       "      <td>69</td>\n",
       "      <td>70</td>\n",
       "      <td>75</td>\n",
       "      <td>Placed</td>\n",
       "      <td>200000</td>\n",
       "    </tr>\n",
       "    <tr>\n",
       "      <th>2</th>\n",
       "      <td>3</td>\n",
       "      <td>M</td>\n",
       "      <td>72.00</td>\n",
       "      <td>Others</td>\n",
       "      <td>78.00</td>\n",
       "      <td>Others</td>\n",
       "      <td>Commerce</td>\n",
       "      <td>66.63</td>\n",
       "      <td>Engineering</td>\n",
       "      <td>0</td>\n",
       "      <td>NaN</td>\n",
       "      <td>0.0</td>\n",
       "      <td>52.91</td>\n",
       "      <td>Marketing &amp; Finance</td>\n",
       "      <td>50</td>\n",
       "      <td>61</td>\n",
       "      <td>59</td>\n",
       "      <td>Placed</td>\n",
       "      <td>240000</td>\n",
       "    </tr>\n",
       "    <tr>\n",
       "      <th>3</th>\n",
       "      <td>4</td>\n",
       "      <td>M</td>\n",
       "      <td>60.00</td>\n",
       "      <td>CBSE</td>\n",
       "      <td>63.00</td>\n",
       "      <td>CBSE</td>\n",
       "      <td>Arts</td>\n",
       "      <td>58.00</td>\n",
       "      <td>Management</td>\n",
       "      <td>0</td>\n",
       "      <td>MAT</td>\n",
       "      <td>75.0</td>\n",
       "      <td>57.80</td>\n",
       "      <td>Marketing &amp; Finance</td>\n",
       "      <td>54</td>\n",
       "      <td>66</td>\n",
       "      <td>62</td>\n",
       "      <td>Placed</td>\n",
       "      <td>250000</td>\n",
       "    </tr>\n",
       "    <tr>\n",
       "      <th>4</th>\n",
       "      <td>5</td>\n",
       "      <td>M</td>\n",
       "      <td>61.00</td>\n",
       "      <td>CBSE</td>\n",
       "      <td>55.00</td>\n",
       "      <td>ISC</td>\n",
       "      <td>Science</td>\n",
       "      <td>54.00</td>\n",
       "      <td>Engineering</td>\n",
       "      <td>1</td>\n",
       "      <td>MAT</td>\n",
       "      <td>66.0</td>\n",
       "      <td>59.43</td>\n",
       "      <td>Marketing &amp; HR</td>\n",
       "      <td>52</td>\n",
       "      <td>65</td>\n",
       "      <td>67</td>\n",
       "      <td>Placed</td>\n",
       "      <td>180000</td>\n",
       "    </tr>\n",
       "  </tbody>\n",
       "</table>\n",
       "</div>"
      ],
      "text/plain": [
       "   SlNo Gender  Percent_SSC Board_SSC  Percent_HSC Board_HSC Stream_HSC  \\\n",
       "0     1      M        62.00    Others        88.00    Others   Commerce   \n",
       "1     2      M        76.33      ICSE        75.33    Others    Science   \n",
       "2     3      M        72.00    Others        78.00    Others   Commerce   \n",
       "3     4      M        60.00      CBSE        63.00      CBSE       Arts   \n",
       "4     5      M        61.00      CBSE        55.00       ISC    Science   \n",
       "\n",
       "   Percent_Degree          Course_Degree  Experience_Yrs Entrance_Test  \\\n",
       "0           52.00                Science               0           MAT   \n",
       "1           75.48  Computer Applications               1           MAT   \n",
       "2           66.63            Engineering               0           NaN   \n",
       "3           58.00             Management               0           MAT   \n",
       "4           54.00            Engineering               1           MAT   \n",
       "\n",
       "   Percentile_ET  Percent_MBA   Specialization_MBA  Marks_Communication  \\\n",
       "0           55.0        58.80       Marketing & HR                   50   \n",
       "1           86.5        66.28  Marketing & Finance                   69   \n",
       "2            0.0        52.91  Marketing & Finance                   50   \n",
       "3           75.0        57.80  Marketing & Finance                   54   \n",
       "4           66.0        59.43       Marketing & HR                   52   \n",
       "\n",
       "   Marks_Projectwork  Marks_BOCA Placement  Salary  \n",
       "0                 65          74    Placed  270000  \n",
       "1                 70          75    Placed  200000  \n",
       "2                 61          59    Placed  240000  \n",
       "3                 66          62    Placed  250000  \n",
       "4                 65          67    Placed  180000  "
      ]
     },
     "execution_count": 3,
     "metadata": {},
     "output_type": "execute_result"
    }
   ],
   "source": [
    "df.head()"
   ]
  },
  {
   "cell_type": "code",
   "execution_count": 4,
   "metadata": {},
   "outputs": [
    {
     "data": {
      "text/plain": [
       "Placed        0.797954\n",
       "Not Placed    0.202046\n",
       "Name: Placement, dtype: float64"
      ]
     },
     "execution_count": 4,
     "metadata": {},
     "output_type": "execute_result"
    }
   ],
   "source": [
    "df['Placement'].value_counts(normalize=True)"
   ]
  },
  {
   "cell_type": "code",
   "execution_count": 174,
   "metadata": {},
   "outputs": [],
   "source": [
    "df.drop(columns=['SlNo','Salary'], axis= 1, inplace =True)"
   ]
  },
  {
   "cell_type": "code",
   "execution_count": 175,
   "metadata": {},
   "outputs": [
    {
     "data": {
      "text/html": [
       "<div>\n",
       "<style scoped>\n",
       "    .dataframe tbody tr th:only-of-type {\n",
       "        vertical-align: middle;\n",
       "    }\n",
       "\n",
       "    .dataframe tbody tr th {\n",
       "        vertical-align: top;\n",
       "    }\n",
       "\n",
       "    .dataframe thead th {\n",
       "        text-align: right;\n",
       "    }\n",
       "</style>\n",
       "<table border=\"1\" class=\"dataframe\">\n",
       "  <thead>\n",
       "    <tr style=\"text-align: right;\">\n",
       "      <th></th>\n",
       "      <th>Percent_SSC</th>\n",
       "      <th>Percent_HSC</th>\n",
       "      <th>Percent_Degree</th>\n",
       "      <th>Experience_Yrs</th>\n",
       "      <th>Percentile_ET</th>\n",
       "      <th>Percent_MBA</th>\n",
       "      <th>Marks_Communication</th>\n",
       "      <th>Marks_Projectwork</th>\n",
       "      <th>Marks_BOCA</th>\n",
       "    </tr>\n",
       "  </thead>\n",
       "  <tbody>\n",
       "    <tr>\n",
       "      <th>count</th>\n",
       "      <td>391.000000</td>\n",
       "      <td>391.000000</td>\n",
       "      <td>391.000000</td>\n",
       "      <td>391.000000</td>\n",
       "      <td>391.000000</td>\n",
       "      <td>391.000000</td>\n",
       "      <td>391.000000</td>\n",
       "      <td>391.000000</td>\n",
       "      <td>391.000000</td>\n",
       "    </tr>\n",
       "    <tr>\n",
       "      <th>mean</th>\n",
       "      <td>64.652353</td>\n",
       "      <td>63.795294</td>\n",
       "      <td>62.983606</td>\n",
       "      <td>0.478261</td>\n",
       "      <td>54.934962</td>\n",
       "      <td>61.667698</td>\n",
       "      <td>60.539642</td>\n",
       "      <td>68.363171</td>\n",
       "      <td>64.378517</td>\n",
       "    </tr>\n",
       "    <tr>\n",
       "      <th>std</th>\n",
       "      <td>10.960426</td>\n",
       "      <td>11.417726</td>\n",
       "      <td>8.916152</td>\n",
       "      <td>0.667112</td>\n",
       "      <td>31.168264</td>\n",
       "      <td>5.854399</td>\n",
       "      <td>8.824084</td>\n",
       "      <td>7.145095</td>\n",
       "      <td>9.582834</td>\n",
       "    </tr>\n",
       "    <tr>\n",
       "      <th>min</th>\n",
       "      <td>37.000000</td>\n",
       "      <td>40.000000</td>\n",
       "      <td>35.000000</td>\n",
       "      <td>0.000000</td>\n",
       "      <td>0.000000</td>\n",
       "      <td>50.830000</td>\n",
       "      <td>50.000000</td>\n",
       "      <td>50.000000</td>\n",
       "      <td>50.000000</td>\n",
       "    </tr>\n",
       "    <tr>\n",
       "      <th>25%</th>\n",
       "      <td>56.000000</td>\n",
       "      <td>54.000000</td>\n",
       "      <td>57.525000</td>\n",
       "      <td>0.000000</td>\n",
       "      <td>41.190000</td>\n",
       "      <td>57.195000</td>\n",
       "      <td>53.000000</td>\n",
       "      <td>64.000000</td>\n",
       "      <td>57.000000</td>\n",
       "    </tr>\n",
       "    <tr>\n",
       "      <th>50%</th>\n",
       "      <td>64.500000</td>\n",
       "      <td>63.000000</td>\n",
       "      <td>63.000000</td>\n",
       "      <td>0.000000</td>\n",
       "      <td>62.000000</td>\n",
       "      <td>61.010000</td>\n",
       "      <td>58.000000</td>\n",
       "      <td>69.000000</td>\n",
       "      <td>63.000000</td>\n",
       "    </tr>\n",
       "    <tr>\n",
       "      <th>75%</th>\n",
       "      <td>74.000000</td>\n",
       "      <td>72.000000</td>\n",
       "      <td>69.000000</td>\n",
       "      <td>1.000000</td>\n",
       "      <td>78.000000</td>\n",
       "      <td>66.020000</td>\n",
       "      <td>67.000000</td>\n",
       "      <td>74.000000</td>\n",
       "      <td>72.500000</td>\n",
       "    </tr>\n",
       "    <tr>\n",
       "      <th>max</th>\n",
       "      <td>87.200000</td>\n",
       "      <td>94.700000</td>\n",
       "      <td>89.000000</td>\n",
       "      <td>3.000000</td>\n",
       "      <td>98.690000</td>\n",
       "      <td>77.890000</td>\n",
       "      <td>88.000000</td>\n",
       "      <td>87.000000</td>\n",
       "      <td>96.000000</td>\n",
       "    </tr>\n",
       "  </tbody>\n",
       "</table>\n",
       "</div>"
      ],
      "text/plain": [
       "       Percent_SSC  Percent_HSC  Percent_Degree  Experience_Yrs  \\\n",
       "count   391.000000   391.000000      391.000000      391.000000   \n",
       "mean     64.652353    63.795294       62.983606        0.478261   \n",
       "std      10.960426    11.417726        8.916152        0.667112   \n",
       "min      37.000000    40.000000       35.000000        0.000000   \n",
       "25%      56.000000    54.000000       57.525000        0.000000   \n",
       "50%      64.500000    63.000000       63.000000        0.000000   \n",
       "75%      74.000000    72.000000       69.000000        1.000000   \n",
       "max      87.200000    94.700000       89.000000        3.000000   \n",
       "\n",
       "       Percentile_ET  Percent_MBA  Marks_Communication  Marks_Projectwork  \\\n",
       "count     391.000000   391.000000           391.000000         391.000000   \n",
       "mean       54.934962    61.667698            60.539642          68.363171   \n",
       "std        31.168264     5.854399             8.824084           7.145095   \n",
       "min         0.000000    50.830000            50.000000          50.000000   \n",
       "25%        41.190000    57.195000            53.000000          64.000000   \n",
       "50%        62.000000    61.010000            58.000000          69.000000   \n",
       "75%        78.000000    66.020000            67.000000          74.000000   \n",
       "max        98.690000    77.890000            88.000000          87.000000   \n",
       "\n",
       "       Marks_BOCA  \n",
       "count  391.000000  \n",
       "mean    64.378517  \n",
       "std      9.582834  \n",
       "min     50.000000  \n",
       "25%     57.000000  \n",
       "50%     63.000000  \n",
       "75%     72.500000  \n",
       "max     96.000000  "
      ]
     },
     "execution_count": 175,
     "metadata": {},
     "output_type": "execute_result"
    }
   ],
   "source": [
    "df.describe()"
   ]
  },
  {
   "cell_type": "code",
   "execution_count": 176,
   "metadata": {
    "scrolled": true
   },
   "outputs": [
    {
     "data": {
      "text/plain": [
       "<matplotlib.axes._subplots.AxesSubplot at 0xc65e5cb390>"
      ]
     },
     "execution_count": 176,
     "metadata": {},
     "output_type": "execute_result"
    },
    {
     "data": {
      "image/png": "[encoded data removed]",
      "text/plain": [
       "<Figure size 432x288 with 1 Axes>"
      ]
     },
     "metadata": {
      "needs_background": "light"
     },
     "output_type": "display_data"
    }
   ],
   "source": [
    "sns.boxplot(df['Percent_SSC'])"
   ]
  },
  {
   "cell_type": "code",
   "execution_count": 177,
   "metadata": {},
   "outputs": [],
   "source": [
    "df['Entrance_Test'].fillna('NA',inplace=True)"
   ]
  },
  {
   "cell_type": "code",
   "execution_count": 178,
   "metadata": {},
   "outputs": [
    {
     "data": {
      "text/plain": [
       "<matplotlib.axes._subplots.AxesSubplot at 0xc65e693550>"
      ]
     },
     "execution_count": 178,
     "metadata": {},
     "output_type": "execute_result"
    },
    {
     "data": {
      "image/png": "[encoded data removed]",
      "text/plain": [
       "<Figure size 432x288 with 1 Axes>"
      ]
     },
     "metadata": {
      "needs_background": "light"
     },
     "output_type": "display_data"
    }
   ],
   "source": [
    "sns.boxplot(x = 'Placement', y = 'Percent_SSC', data=df)"
   ]
  },
  {
   "cell_type": "code",
   "execution_count": 179,
   "metadata": {},
   "outputs": [
    {
     "data": {
      "text/plain": [
       "<matplotlib.axes._subplots.AxesSubplot at 0xc652ef7630>"
      ]
     },
     "execution_count": 179,
     "metadata": {},
     "output_type": "execute_result"
    },
    {
     "data": {
      "image/png": "[encoded data removed]",
      "text/plain": [
       "<Figure size 432x288 with 1 Axes>"
      ]
     },
     "metadata": {
      "needs_background": "light"
     },
     "output_type": "display_data"
    }
   ],
   "source": [
    "pd.crosstab(df['Gender'], df['Placement'], normalize = 0).plot.bar(stacked=True)"
   ]
  },
  {
   "cell_type": "code",
   "execution_count": 180,
   "metadata": {},
   "outputs": [],
   "source": [
    "from scipy.stats             import ttest_1samp,ttest_ind, wilcoxon\n",
    "from statsmodels.stats.power import ttest_power\n",
    "import matplotlib.pyplot     as     plt"
   ]
  },
  {
   "cell_type": "code",
   "execution_count": 181,
   "metadata": {},
   "outputs": [],
   "source": [
    "df2=df.loc[:,['Percent_SSC','Percent_HSC','Percent_Degree','Percentile_ET','Percent_MBA','Marks_Communication','Marks_Projectwork','Marks_BOCA']]"
   ]
  },
  {
   "cell_type": "code",
   "execution_count": 182,
   "metadata": {},
   "outputs": [
    {
     "data": {
      "text/html": [
       "<div>\n",
       "<style scoped>\n",
       "    .dataframe tbody tr th:only-of-type {\n",
       "        vertical-align: middle;\n",
       "    }\n",
       "\n",
       "    .dataframe tbody tr th {\n",
       "        vertical-align: top;\n",
       "    }\n",
       "\n",
       "    .dataframe thead th {\n",
       "        text-align: right;\n",
       "    }\n",
       "</style>\n",
       "<table border=\"1\" class=\"dataframe\">\n",
       "  <thead>\n",
       "    <tr style=\"text-align: right;\">\n",
       "      <th></th>\n",
       "      <th>Gender</th>\n",
       "      <th>Percent_SSC</th>\n",
       "      <th>Board_SSC</th>\n",
       "      <th>Percent_HSC</th>\n",
       "      <th>Board_HSC</th>\n",
       "      <th>Stream_HSC</th>\n",
       "      <th>Percent_Degree</th>\n",
       "      <th>Course_Degree</th>\n",
       "      <th>Experience_Yrs</th>\n",
       "      <th>Entrance_Test</th>\n",
       "      <th>Percentile_ET</th>\n",
       "      <th>Percent_MBA</th>\n",
       "      <th>Specialization_MBA</th>\n",
       "      <th>Marks_Communication</th>\n",
       "      <th>Marks_Projectwork</th>\n",
       "      <th>Marks_BOCA</th>\n",
       "      <th>Placement</th>\n",
       "    </tr>\n",
       "  </thead>\n",
       "  <tbody>\n",
       "    <tr>\n",
       "      <th>0</th>\n",
       "      <td>M</td>\n",
       "      <td>62.00</td>\n",
       "      <td>Others</td>\n",
       "      <td>88.00</td>\n",
       "      <td>Others</td>\n",
       "      <td>Commerce</td>\n",
       "      <td>52.00</td>\n",
       "      <td>Science</td>\n",
       "      <td>0</td>\n",
       "      <td>MAT</td>\n",
       "      <td>55.0</td>\n",
       "      <td>58.80</td>\n",
       "      <td>Marketing &amp; HR</td>\n",
       "      <td>50</td>\n",
       "      <td>65</td>\n",
       "      <td>74</td>\n",
       "      <td>Placed</td>\n",
       "    </tr>\n",
       "    <tr>\n",
       "      <th>1</th>\n",
       "      <td>M</td>\n",
       "      <td>76.33</td>\n",
       "      <td>ICSE</td>\n",
       "      <td>75.33</td>\n",
       "      <td>Others</td>\n",
       "      <td>Science</td>\n",
       "      <td>75.48</td>\n",
       "      <td>Computer Applications</td>\n",
       "      <td>1</td>\n",
       "      <td>MAT</td>\n",
       "      <td>86.5</td>\n",
       "      <td>66.28</td>\n",
       "      <td>Marketing &amp; Finance</td>\n",
       "      <td>69</td>\n",
       "      <td>70</td>\n",
       "      <td>75</td>\n",
       "      <td>Placed</td>\n",
       "    </tr>\n",
       "    <tr>\n",
       "      <th>2</th>\n",
       "      <td>M</td>\n",
       "      <td>72.00</td>\n",
       "      <td>Others</td>\n",
       "      <td>78.00</td>\n",
       "      <td>Others</td>\n",
       "      <td>Commerce</td>\n",
       "      <td>66.63</td>\n",
       "      <td>Engineering</td>\n",
       "      <td>0</td>\n",
       "      <td>NA</td>\n",
       "      <td>0.0</td>\n",
       "      <td>52.91</td>\n",
       "      <td>Marketing &amp; Finance</td>\n",
       "      <td>50</td>\n",
       "      <td>61</td>\n",
       "      <td>59</td>\n",
       "      <td>Placed</td>\n",
       "    </tr>\n",
       "    <tr>\n",
       "      <th>3</th>\n",
       "      <td>M</td>\n",
       "      <td>60.00</td>\n",
       "      <td>CBSE</td>\n",
       "      <td>63.00</td>\n",
       "      <td>CBSE</td>\n",
       "      <td>Arts</td>\n",
       "      <td>58.00</td>\n",
       "      <td>Management</td>\n",
       "      <td>0</td>\n",
       "      <td>MAT</td>\n",
       "      <td>75.0</td>\n",
       "      <td>57.80</td>\n",
       "      <td>Marketing &amp; Finance</td>\n",
       "      <td>54</td>\n",
       "      <td>66</td>\n",
       "      <td>62</td>\n",
       "      <td>Placed</td>\n",
       "    </tr>\n",
       "    <tr>\n",
       "      <th>4</th>\n",
       "      <td>M</td>\n",
       "      <td>61.00</td>\n",
       "      <td>CBSE</td>\n",
       "      <td>55.00</td>\n",
       "      <td>ISC</td>\n",
       "      <td>Science</td>\n",
       "      <td>54.00</td>\n",
       "      <td>Engineering</td>\n",
       "      <td>1</td>\n",
       "      <td>MAT</td>\n",
       "      <td>66.0</td>\n",
       "      <td>59.43</td>\n",
       "      <td>Marketing &amp; HR</td>\n",
       "      <td>52</td>\n",
       "      <td>65</td>\n",
       "      <td>67</td>\n",
       "      <td>Placed</td>\n",
       "    </tr>\n",
       "  </tbody>\n",
       "</table>\n",
       "</div>"
      ],
      "text/plain": [
       "  Gender  Percent_SSC Board_SSC  Percent_HSC Board_HSC Stream_HSC  \\\n",
       "0      M        62.00    Others        88.00    Others   Commerce   \n",
       "1      M        76.33      ICSE        75.33    Others    Science   \n",
       "2      M        72.00    Others        78.00    Others   Commerce   \n",
       "3      M        60.00      CBSE        63.00      CBSE       Arts   \n",
       "4      M        61.00      CBSE        55.00       ISC    Science   \n",
       "\n",
       "   Percent_Degree          Course_Degree  Experience_Yrs Entrance_Test  \\\n",
       "0           52.00                Science               0           MAT   \n",
       "1           75.48  Computer Applications               1           MAT   \n",
       "2           66.63            Engineering               0            NA   \n",
       "3           58.00             Management               0           MAT   \n",
       "4           54.00            Engineering               1           MAT   \n",
       "\n",
       "   Percentile_ET  Percent_MBA   Specialization_MBA  Marks_Communication  \\\n",
       "0           55.0        58.80       Marketing & HR                   50   \n",
       "1           86.5        66.28  Marketing & Finance                   69   \n",
       "2            0.0        52.91  Marketing & Finance                   50   \n",
       "3           75.0        57.80  Marketing & Finance                   54   \n",
       "4           66.0        59.43       Marketing & HR                   52   \n",
       "\n",
       "   Marks_Projectwork  Marks_BOCA Placement  \n",
       "0                 65          74    Placed  \n",
       "1                 70          75    Placed  \n",
       "2                 61          59    Placed  \n",
       "3                 66          62    Placed  \n",
       "4                 65          67    Placed  "
      ]
     },
     "execution_count": 182,
     "metadata": {},
     "output_type": "execute_result"
    }
   ],
   "source": [
    "df.head()"
   ]
  },
  {
   "cell_type": "code",
   "execution_count": 183,
   "metadata": {
    "scrolled": false
   },
   "outputs": [
    {
     "data": {
      "text/html": [
       "<div>\n",
       "<style scoped>\n",
       "    .dataframe tbody tr th:only-of-type {\n",
       "        vertical-align: middle;\n",
       "    }\n",
       "\n",
       "    .dataframe tbody tr th {\n",
       "        vertical-align: top;\n",
       "    }\n",
       "\n",
       "    .dataframe thead th {\n",
       "        text-align: right;\n",
       "    }\n",
       "</style>\n",
       "<table border=\"1\" class=\"dataframe\">\n",
       "  <thead>\n",
       "    <tr style=\"text-align: right;\">\n",
       "      <th></th>\n",
       "      <th>Percent_SSC</th>\n",
       "      <th>Percent_HSC</th>\n",
       "      <th>Percent_Degree</th>\n",
       "      <th>Percentile_ET</th>\n",
       "      <th>Percent_MBA</th>\n",
       "      <th>Marks_Communication</th>\n",
       "      <th>Marks_Projectwork</th>\n",
       "      <th>Marks_BOCA</th>\n",
       "    </tr>\n",
       "  </thead>\n",
       "  <tbody>\n",
       "    <tr>\n",
       "      <th>0</th>\n",
       "      <td>62.00</td>\n",
       "      <td>88.00</td>\n",
       "      <td>52.00</td>\n",
       "      <td>55.0</td>\n",
       "      <td>58.80</td>\n",
       "      <td>50</td>\n",
       "      <td>65</td>\n",
       "      <td>74</td>\n",
       "    </tr>\n",
       "    <tr>\n",
       "      <th>1</th>\n",
       "      <td>76.33</td>\n",
       "      <td>75.33</td>\n",
       "      <td>75.48</td>\n",
       "      <td>86.5</td>\n",
       "      <td>66.28</td>\n",
       "      <td>69</td>\n",
       "      <td>70</td>\n",
       "      <td>75</td>\n",
       "    </tr>\n",
       "    <tr>\n",
       "      <th>2</th>\n",
       "      <td>72.00</td>\n",
       "      <td>78.00</td>\n",
       "      <td>66.63</td>\n",
       "      <td>0.0</td>\n",
       "      <td>52.91</td>\n",
       "      <td>50</td>\n",
       "      <td>61</td>\n",
       "      <td>59</td>\n",
       "    </tr>\n",
       "    <tr>\n",
       "      <th>3</th>\n",
       "      <td>60.00</td>\n",
       "      <td>63.00</td>\n",
       "      <td>58.00</td>\n",
       "      <td>75.0</td>\n",
       "      <td>57.80</td>\n",
       "      <td>54</td>\n",
       "      <td>66</td>\n",
       "      <td>62</td>\n",
       "    </tr>\n",
       "    <tr>\n",
       "      <th>4</th>\n",
       "      <td>61.00</td>\n",
       "      <td>55.00</td>\n",
       "      <td>54.00</td>\n",
       "      <td>66.0</td>\n",
       "      <td>59.43</td>\n",
       "      <td>52</td>\n",
       "      <td>65</td>\n",
       "      <td>67</td>\n",
       "    </tr>\n",
       "  </tbody>\n",
       "</table>\n",
       "</div>"
      ],
      "text/plain": [
       "   Percent_SSC  Percent_HSC  Percent_Degree  Percentile_ET  Percent_MBA  \\\n",
       "0        62.00        88.00           52.00           55.0        58.80   \n",
       "1        76.33        75.33           75.48           86.5        66.28   \n",
       "2        72.00        78.00           66.63            0.0        52.91   \n",
       "3        60.00        63.00           58.00           75.0        57.80   \n",
       "4        61.00        55.00           54.00           66.0        59.43   \n",
       "\n",
       "   Marks_Communication  Marks_Projectwork  Marks_BOCA  \n",
       "0                   50                 65          74  \n",
       "1                   69                 70          75  \n",
       "2                   50                 61          59  \n",
       "3                   54                 66          62  \n",
       "4                   52                 65          67  "
      ]
     },
     "execution_count": 183,
     "metadata": {},
     "output_type": "execute_result"
    }
   ],
   "source": [
    "df2.head()"
   ]
  },
  {
   "cell_type": "code",
   "execution_count": 184,
   "metadata": {},
   "outputs": [],
   "source": [
    "from sklearn.preprocessing import StandardScaler\n",
    "from sklearn.model_selection import GridSearchCV, cross_val_score, train_test_split, KFold, cross_val_predict\n",
    "from sklearn.linear_model import LogisticRegression\n",
    "from sklearn.tree import DecisionTreeClassifier\n",
    "from sklearn.ensemble import RandomForestClassifier, bagging,BaggingClassifier\n",
    "from sklearn.decomposition import PCA\n",
    "from sklearn.metrics import confusion_matrix, roc_auc_score, roc_curve, explained_variance_score\n",
    "from statsmodels.stats.outliers_influence import variance_inflation_factor\n",
    "from sklearn import model_selection\n",
    "from sklearn.metrics import accuracy_score\n",
    "from sklearn import metrics"
   ]
  },
  {
   "cell_type": "code",
   "execution_count": 185,
   "metadata": {},
   "outputs": [],
   "source": [
    "ss = StandardScaler()\n",
    "df2 = ss.fit_transform(df2)\n",
    "df2 = pd.DataFrame(df2, columns = ['Percent_SSC','Percent_HSC','Percent_Degree','Percentile_ET','Percent_MBA','Marks_Communication','Marks_Projectwork','Marks_BOCA'] )"
   ]
  },
  {
   "cell_type": "code",
   "execution_count": 186,
   "metadata": {
    "scrolled": true
   },
   "outputs": [
    {
     "data": {
      "text/html": [
       "<div>\n",
       "<style scoped>\n",
       "    .dataframe tbody tr th:only-of-type {\n",
       "        vertical-align: middle;\n",
       "    }\n",
       "\n",
       "    .dataframe tbody tr th {\n",
       "        vertical-align: top;\n",
       "    }\n",
       "\n",
       "    .dataframe thead th {\n",
       "        text-align: right;\n",
       "    }\n",
       "</style>\n",
       "<table border=\"1\" class=\"dataframe\">\n",
       "  <thead>\n",
       "    <tr style=\"text-align: right;\">\n",
       "      <th></th>\n",
       "      <th>Gender</th>\n",
       "      <th>Percent_SSC</th>\n",
       "      <th>Board_SSC</th>\n",
       "      <th>Percent_HSC</th>\n",
       "      <th>Board_HSC</th>\n",
       "      <th>Stream_HSC</th>\n",
       "      <th>Percent_Degree</th>\n",
       "      <th>Course_Degree</th>\n",
       "      <th>Experience_Yrs</th>\n",
       "      <th>Entrance_Test</th>\n",
       "      <th>Percentile_ET</th>\n",
       "      <th>Percent_MBA</th>\n",
       "      <th>Specialization_MBA</th>\n",
       "      <th>Marks_Communication</th>\n",
       "      <th>Marks_Projectwork</th>\n",
       "      <th>Marks_BOCA</th>\n",
       "      <th>Placement</th>\n",
       "    </tr>\n",
       "  </thead>\n",
       "  <tbody>\n",
       "    <tr>\n",
       "      <th>0</th>\n",
       "      <td>M</td>\n",
       "      <td>62.00</td>\n",
       "      <td>Others</td>\n",
       "      <td>88.00</td>\n",
       "      <td>Others</td>\n",
       "      <td>Commerce</td>\n",
       "      <td>52.00</td>\n",
       "      <td>Science</td>\n",
       "      <td>0</td>\n",
       "      <td>MAT</td>\n",
       "      <td>55.0</td>\n",
       "      <td>58.80</td>\n",
       "      <td>Marketing &amp; HR</td>\n",
       "      <td>50</td>\n",
       "      <td>65</td>\n",
       "      <td>74</td>\n",
       "      <td>Placed</td>\n",
       "    </tr>\n",
       "    <tr>\n",
       "      <th>1</th>\n",
       "      <td>M</td>\n",
       "      <td>76.33</td>\n",
       "      <td>ICSE</td>\n",
       "      <td>75.33</td>\n",
       "      <td>Others</td>\n",
       "      <td>Science</td>\n",
       "      <td>75.48</td>\n",
       "      <td>Computer Applications</td>\n",
       "      <td>1</td>\n",
       "      <td>MAT</td>\n",
       "      <td>86.5</td>\n",
       "      <td>66.28</td>\n",
       "      <td>Marketing &amp; Finance</td>\n",
       "      <td>69</td>\n",
       "      <td>70</td>\n",
       "      <td>75</td>\n",
       "      <td>Placed</td>\n",
       "    </tr>\n",
       "    <tr>\n",
       "      <th>2</th>\n",
       "      <td>M</td>\n",
       "      <td>72.00</td>\n",
       "      <td>Others</td>\n",
       "      <td>78.00</td>\n",
       "      <td>Others</td>\n",
       "      <td>Commerce</td>\n",
       "      <td>66.63</td>\n",
       "      <td>Engineering</td>\n",
       "      <td>0</td>\n",
       "      <td>NA</td>\n",
       "      <td>0.0</td>\n",
       "      <td>52.91</td>\n",
       "      <td>Marketing &amp; Finance</td>\n",
       "      <td>50</td>\n",
       "      <td>61</td>\n",
       "      <td>59</td>\n",
       "      <td>Placed</td>\n",
       "    </tr>\n",
       "    <tr>\n",
       "      <th>3</th>\n",
       "      <td>M</td>\n",
       "      <td>60.00</td>\n",
       "      <td>CBSE</td>\n",
       "      <td>63.00</td>\n",
       "      <td>CBSE</td>\n",
       "      <td>Arts</td>\n",
       "      <td>58.00</td>\n",
       "      <td>Management</td>\n",
       "      <td>0</td>\n",
       "      <td>MAT</td>\n",
       "      <td>75.0</td>\n",
       "      <td>57.80</td>\n",
       "      <td>Marketing &amp; Finance</td>\n",
       "      <td>54</td>\n",
       "      <td>66</td>\n",
       "      <td>62</td>\n",
       "      <td>Placed</td>\n",
       "    </tr>\n",
       "    <tr>\n",
       "      <th>4</th>\n",
       "      <td>M</td>\n",
       "      <td>61.00</td>\n",
       "      <td>CBSE</td>\n",
       "      <td>55.00</td>\n",
       "      <td>ISC</td>\n",
       "      <td>Science</td>\n",
       "      <td>54.00</td>\n",
       "      <td>Engineering</td>\n",
       "      <td>1</td>\n",
       "      <td>MAT</td>\n",
       "      <td>66.0</td>\n",
       "      <td>59.43</td>\n",
       "      <td>Marketing &amp; HR</td>\n",
       "      <td>52</td>\n",
       "      <td>65</td>\n",
       "      <td>67</td>\n",
       "      <td>Placed</td>\n",
       "    </tr>\n",
       "  </tbody>\n",
       "</table>\n",
       "</div>"
      ],
      "text/plain": [
       "  Gender  Percent_SSC Board_SSC  Percent_HSC Board_HSC Stream_HSC  \\\n",
       "0      M        62.00    Others        88.00    Others   Commerce   \n",
       "1      M        76.33      ICSE        75.33    Others    Science   \n",
       "2      M        72.00    Others        78.00    Others   Commerce   \n",
       "3      M        60.00      CBSE        63.00      CBSE       Arts   \n",
       "4      M        61.00      CBSE        55.00       ISC    Science   \n",
       "\n",
       "   Percent_Degree          Course_Degree  Experience_Yrs Entrance_Test  \\\n",
       "0           52.00                Science               0           MAT   \n",
       "1           75.48  Computer Applications               1           MAT   \n",
       "2           66.63            Engineering               0            NA   \n",
       "3           58.00             Management               0           MAT   \n",
       "4           54.00            Engineering               1           MAT   \n",
       "\n",
       "   Percentile_ET  Percent_MBA   Specialization_MBA  Marks_Communication  \\\n",
       "0           55.0        58.80       Marketing & HR                   50   \n",
       "1           86.5        66.28  Marketing & Finance                   69   \n",
       "2            0.0        52.91  Marketing & Finance                   50   \n",
       "3           75.0        57.80  Marketing & Finance                   54   \n",
       "4           66.0        59.43       Marketing & HR                   52   \n",
       "\n",
       "   Marks_Projectwork  Marks_BOCA Placement  \n",
       "0                 65          74    Placed  \n",
       "1                 70          75    Placed  \n",
       "2                 61          59    Placed  \n",
       "3                 66          62    Placed  \n",
       "4                 65          67    Placed  "
      ]
     },
     "execution_count": 186,
     "metadata": {},
     "output_type": "execute_result"
    }
   ],
   "source": [
    "df.head()"
   ]
  },
  {
   "cell_type": "code",
   "execution_count": 187,
   "metadata": {},
   "outputs": [
    {
     "data": {
      "text/plain": [
       "(391, 8)"
      ]
     },
     "execution_count": 187,
     "metadata": {},
     "output_type": "execute_result"
    }
   ],
   "source": [
    "df2.shape"
   ]
  },
  {
   "cell_type": "code",
   "execution_count": 188,
   "metadata": {},
   "outputs": [
    {
     "data": {
      "text/plain": [
       "(391, 17)"
      ]
     },
     "execution_count": 188,
     "metadata": {},
     "output_type": "execute_result"
    }
   ],
   "source": [
    "df.shape"
   ]
  },
  {
   "cell_type": "code",
   "execution_count": 189,
   "metadata": {},
   "outputs": [],
   "source": [
    "df.loc[:,['Percent_SSC','Percent_HSC','Percent_Degree','Percentile_ET','Percent_MBA','Marks_Communication','Marks_Projectwork','Marks_BOCA']] = df2.loc[:,['Percent_SSC','Percent_HSC','Percent_Degree','Percentile_ET','Percent_MBA','Marks_Communication','Marks_Projectwork','Marks_BOCA']] "
   ]
  },
  {
   "cell_type": "code",
   "execution_count": 190,
   "metadata": {},
   "outputs": [
    {
     "data": {
      "text/plain": [
       "(391, 17)"
      ]
     },
     "execution_count": 190,
     "metadata": {},
     "output_type": "execute_result"
    }
   ],
   "source": [
    "df.shape"
   ]
  },
  {
   "cell_type": "code",
   "execution_count": 191,
   "metadata": {},
   "outputs": [],
   "source": [
    "cat_cols = ['Gender', 'Board_SSC', 'Entrance_Test','Board_HSC','Stream_HSC','Course_Degree','Experience_Yrs','Specialization_MBA','Placement']\n",
    "df = pd.get_dummies(df, columns= cat_cols, drop_first = True)"
   ]
  },
  {
   "cell_type": "code",
   "execution_count": 192,
   "metadata": {},
   "outputs": [
    {
     "data": {
      "text/html": [
       "<div>\n",
       "<style scoped>\n",
       "    .dataframe tbody tr th:only-of-type {\n",
       "        vertical-align: middle;\n",
       "    }\n",
       "\n",
       "    .dataframe tbody tr th {\n",
       "        vertical-align: top;\n",
       "    }\n",
       "\n",
       "    .dataframe thead th {\n",
       "        text-align: right;\n",
       "    }\n",
       "</style>\n",
       "<table border=\"1\" class=\"dataframe\">\n",
       "  <thead>\n",
       "    <tr style=\"text-align: right;\">\n",
       "      <th></th>\n",
       "      <th>Percent_SSC</th>\n",
       "      <th>Percent_HSC</th>\n",
       "      <th>Percent_Degree</th>\n",
       "      <th>Percentile_ET</th>\n",
       "      <th>Percent_MBA</th>\n",
       "      <th>Marks_Communication</th>\n",
       "      <th>Marks_Projectwork</th>\n",
       "      <th>Marks_BOCA</th>\n",
       "      <th>Gender_M</th>\n",
       "      <th>Board_SSC_ICSE</th>\n",
       "      <th>...</th>\n",
       "      <th>Course_Degree_Engineering</th>\n",
       "      <th>Course_Degree_Management</th>\n",
       "      <th>Course_Degree_Others</th>\n",
       "      <th>Course_Degree_Science</th>\n",
       "      <th>Experience_Yrs_1</th>\n",
       "      <th>Experience_Yrs_2</th>\n",
       "      <th>Experience_Yrs_3</th>\n",
       "      <th>Specialization_MBA_Marketing &amp; HR</th>\n",
       "      <th>Specialization_MBA_Marketing &amp; IB</th>\n",
       "      <th>Placement_Placed</th>\n",
       "    </tr>\n",
       "  </thead>\n",
       "  <tbody>\n",
       "    <tr>\n",
       "      <th>0</th>\n",
       "      <td>-0.242304</td>\n",
       "      <td>2.122640</td>\n",
       "      <td>-1.233456</td>\n",
       "      <td>0.002089</td>\n",
       "      <td>-0.490464</td>\n",
       "      <td>-1.195948</td>\n",
       "      <td>-0.471300</td>\n",
       "      <td>1.005320</td>\n",
       "      <td>1</td>\n",
       "      <td>0</td>\n",
       "      <td>...</td>\n",
       "      <td>0</td>\n",
       "      <td>0</td>\n",
       "      <td>0</td>\n",
       "      <td>1</td>\n",
       "      <td>0</td>\n",
       "      <td>0</td>\n",
       "      <td>0</td>\n",
       "      <td>1</td>\n",
       "      <td>0</td>\n",
       "      <td>1</td>\n",
       "    </tr>\n",
       "    <tr>\n",
       "      <th>1</th>\n",
       "      <td>1.066802</td>\n",
       "      <td>1.011540</td>\n",
       "      <td>1.403341</td>\n",
       "      <td>1.014028</td>\n",
       "      <td>0.788845</td>\n",
       "      <td>0.960009</td>\n",
       "      <td>0.229378</td>\n",
       "      <td>1.109806</td>\n",
       "      <td>1</td>\n",
       "      <td>1</td>\n",
       "      <td>...</td>\n",
       "      <td>0</td>\n",
       "      <td>0</td>\n",
       "      <td>0</td>\n",
       "      <td>0</td>\n",
       "      <td>1</td>\n",
       "      <td>0</td>\n",
       "      <td>0</td>\n",
       "      <td>0</td>\n",
       "      <td>0</td>\n",
       "      <td>1</td>\n",
       "    </tr>\n",
       "    <tr>\n",
       "      <th>2</th>\n",
       "      <td>0.671239</td>\n",
       "      <td>1.245686</td>\n",
       "      <td>0.409489</td>\n",
       "      <td>-1.764787</td>\n",
       "      <td>-1.497834</td>\n",
       "      <td>-1.195948</td>\n",
       "      <td>-1.031841</td>\n",
       "      <td>-0.561985</td>\n",
       "      <td>1</td>\n",
       "      <td>0</td>\n",
       "      <td>...</td>\n",
       "      <td>1</td>\n",
       "      <td>0</td>\n",
       "      <td>0</td>\n",
       "      <td>0</td>\n",
       "      <td>0</td>\n",
       "      <td>0</td>\n",
       "      <td>0</td>\n",
       "      <td>0</td>\n",
       "      <td>0</td>\n",
       "      <td>1</td>\n",
       "    </tr>\n",
       "    <tr>\n",
       "      <th>3</th>\n",
       "      <td>-0.425012</td>\n",
       "      <td>-0.069744</td>\n",
       "      <td>-0.559657</td>\n",
       "      <td>0.644590</td>\n",
       "      <td>-0.661495</td>\n",
       "      <td>-0.742062</td>\n",
       "      <td>-0.331164</td>\n",
       "      <td>-0.248524</td>\n",
       "      <td>1</td>\n",
       "      <td>0</td>\n",
       "      <td>...</td>\n",
       "      <td>0</td>\n",
       "      <td>1</td>\n",
       "      <td>0</td>\n",
       "      <td>0</td>\n",
       "      <td>0</td>\n",
       "      <td>0</td>\n",
       "      <td>0</td>\n",
       "      <td>0</td>\n",
       "      <td>0</td>\n",
       "      <td>1</td>\n",
       "    </tr>\n",
       "    <tr>\n",
       "      <th>4</th>\n",
       "      <td>-0.333658</td>\n",
       "      <td>-0.771306</td>\n",
       "      <td>-1.008856</td>\n",
       "      <td>0.355465</td>\n",
       "      <td>-0.382715</td>\n",
       "      <td>-0.969005</td>\n",
       "      <td>-0.471300</td>\n",
       "      <td>0.273911</td>\n",
       "      <td>1</td>\n",
       "      <td>0</td>\n",
       "      <td>...</td>\n",
       "      <td>1</td>\n",
       "      <td>0</td>\n",
       "      <td>0</td>\n",
       "      <td>0</td>\n",
       "      <td>1</td>\n",
       "      <td>0</td>\n",
       "      <td>0</td>\n",
       "      <td>1</td>\n",
       "      <td>0</td>\n",
       "      <td>1</td>\n",
       "    </tr>\n",
       "  </tbody>\n",
       "</table>\n",
       "<p>5 rows × 35 columns</p>\n",
       "</div>"
      ],
      "text/plain": [
       "   Percent_SSC  Percent_HSC  Percent_Degree  Percentile_ET  Percent_MBA  \\\n",
       "0    -0.242304     2.122640       -1.233456       0.002089    -0.490464   \n",
       "1     1.066802     1.011540        1.403341       1.014028     0.788845   \n",
       "2     0.671239     1.245686        0.409489      -1.764787    -1.497834   \n",
       "3    -0.425012    -0.069744       -0.559657       0.644590    -0.661495   \n",
       "4    -0.333658    -0.771306       -1.008856       0.355465    -0.382715   \n",
       "\n",
       "   Marks_Communication  Marks_Projectwork  Marks_BOCA  Gender_M  \\\n",
       "0            -1.195948          -0.471300    1.005320         1   \n",
       "1             0.960009           0.229378    1.109806         1   \n",
       "2            -1.195948          -1.031841   -0.561985         1   \n",
       "3            -0.742062          -0.331164   -0.248524         1   \n",
       "4            -0.969005          -0.471300    0.273911         1   \n",
       "\n",
       "   Board_SSC_ICSE  ...  Course_Degree_Engineering  Course_Degree_Management  \\\n",
       "0               0  ...                          0                         0   \n",
       "1               1  ...                          0                         0   \n",
       "2               0  ...                          1                         0   \n",
       "3               0  ...                          0                         1   \n",
       "4               0  ...                          1                         0   \n",
       "\n",
       "   Course_Degree_Others  Course_Degree_Science  Experience_Yrs_1  \\\n",
       "0                     0                      1                 0   \n",
       "1                     0                      0                 1   \n",
       "2                     0                      0                 0   \n",
       "3                     0                      0                 0   \n",
       "4                     0                      0                 1   \n",
       "\n",
       "   Experience_Yrs_2  Experience_Yrs_3  Specialization_MBA_Marketing & HR  \\\n",
       "0                 0                 0                                  1   \n",
       "1                 0                 0                                  0   \n",
       "2                 0                 0                                  0   \n",
       "3                 0                 0                                  0   \n",
       "4                 0                 0                                  1   \n",
       "\n",
       "   Specialization_MBA_Marketing & IB  Placement_Placed  \n",
       "0                                  0                 1  \n",
       "1                                  0                 1  \n",
       "2                                  0                 1  \n",
       "3                                  0                 1  \n",
       "4                                  0                 1  \n",
       "\n",
       "[5 rows x 35 columns]"
      ]
     },
     "execution_count": 192,
     "metadata": {},
     "output_type": "execute_result"
    }
   ],
   "source": [
    "df.head()"
   ]
  },
  {
   "cell_type": "markdown",
   "metadata": {},
   "source": [
    "By Vif Value"
   ]
  },
  {
   "cell_type": "code",
   "execution_count": 193,
   "metadata": {
    "scrolled": false
   },
   "outputs": [
    {
     "data": {
      "text/html": [
       "<div>\n",
       "<style scoped>\n",
       "    .dataframe tbody tr th:only-of-type {\n",
       "        vertical-align: middle;\n",
       "    }\n",
       "\n",
       "    .dataframe tbody tr th {\n",
       "        vertical-align: top;\n",
       "    }\n",
       "\n",
       "    .dataframe thead th {\n",
       "        text-align: right;\n",
       "    }\n",
       "</style>\n",
       "<table border=\"1\" class=\"dataframe\">\n",
       "  <thead>\n",
       "    <tr style=\"text-align: right;\">\n",
       "      <th></th>\n",
       "      <th>Percent_SSC</th>\n",
       "      <th>Percent_HSC</th>\n",
       "      <th>Percent_Degree</th>\n",
       "      <th>Percentile_ET</th>\n",
       "      <th>Percent_MBA</th>\n",
       "      <th>Marks_Communication</th>\n",
       "      <th>Marks_Projectwork</th>\n",
       "      <th>Marks_BOCA</th>\n",
       "      <th>Gender_M</th>\n",
       "      <th>Board_SSC_ICSE</th>\n",
       "      <th>...</th>\n",
       "      <th>Course_Degree_Engineering</th>\n",
       "      <th>Course_Degree_Management</th>\n",
       "      <th>Course_Degree_Others</th>\n",
       "      <th>Course_Degree_Science</th>\n",
       "      <th>Experience_Yrs_1</th>\n",
       "      <th>Experience_Yrs_2</th>\n",
       "      <th>Experience_Yrs_3</th>\n",
       "      <th>Specialization_MBA_Marketing &amp; HR</th>\n",
       "      <th>Specialization_MBA_Marketing &amp; IB</th>\n",
       "      <th>Placement_Placed</th>\n",
       "    </tr>\n",
       "  </thead>\n",
       "  <tbody>\n",
       "    <tr>\n",
       "      <th>0</th>\n",
       "      <td>-0.242304</td>\n",
       "      <td>2.122640</td>\n",
       "      <td>-1.233456</td>\n",
       "      <td>0.002089</td>\n",
       "      <td>-0.490464</td>\n",
       "      <td>-1.195948</td>\n",
       "      <td>-0.471300</td>\n",
       "      <td>1.005320</td>\n",
       "      <td>1</td>\n",
       "      <td>0</td>\n",
       "      <td>...</td>\n",
       "      <td>0</td>\n",
       "      <td>0</td>\n",
       "      <td>0</td>\n",
       "      <td>1</td>\n",
       "      <td>0</td>\n",
       "      <td>0</td>\n",
       "      <td>0</td>\n",
       "      <td>1</td>\n",
       "      <td>0</td>\n",
       "      <td>1</td>\n",
       "    </tr>\n",
       "    <tr>\n",
       "      <th>1</th>\n",
       "      <td>1.066802</td>\n",
       "      <td>1.011540</td>\n",
       "      <td>1.403341</td>\n",
       "      <td>1.014028</td>\n",
       "      <td>0.788845</td>\n",
       "      <td>0.960009</td>\n",
       "      <td>0.229378</td>\n",
       "      <td>1.109806</td>\n",
       "      <td>1</td>\n",
       "      <td>1</td>\n",
       "      <td>...</td>\n",
       "      <td>0</td>\n",
       "      <td>0</td>\n",
       "      <td>0</td>\n",
       "      <td>0</td>\n",
       "      <td>1</td>\n",
       "      <td>0</td>\n",
       "      <td>0</td>\n",
       "      <td>0</td>\n",
       "      <td>0</td>\n",
       "      <td>1</td>\n",
       "    </tr>\n",
       "    <tr>\n",
       "      <th>2</th>\n",
       "      <td>0.671239</td>\n",
       "      <td>1.245686</td>\n",
       "      <td>0.409489</td>\n",
       "      <td>-1.764787</td>\n",
       "      <td>-1.497834</td>\n",
       "      <td>-1.195948</td>\n",
       "      <td>-1.031841</td>\n",
       "      <td>-0.561985</td>\n",
       "      <td>1</td>\n",
       "      <td>0</td>\n",
       "      <td>...</td>\n",
       "      <td>1</td>\n",
       "      <td>0</td>\n",
       "      <td>0</td>\n",
       "      <td>0</td>\n",
       "      <td>0</td>\n",
       "      <td>0</td>\n",
       "      <td>0</td>\n",
       "      <td>0</td>\n",
       "      <td>0</td>\n",
       "      <td>1</td>\n",
       "    </tr>\n",
       "    <tr>\n",
       "      <th>3</th>\n",
       "      <td>-0.425012</td>\n",
       "      <td>-0.069744</td>\n",
       "      <td>-0.559657</td>\n",
       "      <td>0.644590</td>\n",
       "      <td>-0.661495</td>\n",
       "      <td>-0.742062</td>\n",
       "      <td>-0.331164</td>\n",
       "      <td>-0.248524</td>\n",
       "      <td>1</td>\n",
       "      <td>0</td>\n",
       "      <td>...</td>\n",
       "      <td>0</td>\n",
       "      <td>1</td>\n",
       "      <td>0</td>\n",
       "      <td>0</td>\n",
       "      <td>0</td>\n",
       "      <td>0</td>\n",
       "      <td>0</td>\n",
       "      <td>0</td>\n",
       "      <td>0</td>\n",
       "      <td>1</td>\n",
       "    </tr>\n",
       "    <tr>\n",
       "      <th>4</th>\n",
       "      <td>-0.333658</td>\n",
       "      <td>-0.771306</td>\n",
       "      <td>-1.008856</td>\n",
       "      <td>0.355465</td>\n",
       "      <td>-0.382715</td>\n",
       "      <td>-0.969005</td>\n",
       "      <td>-0.471300</td>\n",
       "      <td>0.273911</td>\n",
       "      <td>1</td>\n",
       "      <td>0</td>\n",
       "      <td>...</td>\n",
       "      <td>1</td>\n",
       "      <td>0</td>\n",
       "      <td>0</td>\n",
       "      <td>0</td>\n",
       "      <td>1</td>\n",
       "      <td>0</td>\n",
       "      <td>0</td>\n",
       "      <td>1</td>\n",
       "      <td>0</td>\n",
       "      <td>1</td>\n",
       "    </tr>\n",
       "  </tbody>\n",
       "</table>\n",
       "<p>5 rows × 35 columns</p>\n",
       "</div>"
      ],
      "text/plain": [
       "   Percent_SSC  Percent_HSC  Percent_Degree  Percentile_ET  Percent_MBA  \\\n",
       "0    -0.242304     2.122640       -1.233456       0.002089    -0.490464   \n",
       "1     1.066802     1.011540        1.403341       1.014028     0.788845   \n",
       "2     0.671239     1.245686        0.409489      -1.764787    -1.497834   \n",
       "3    -0.425012    -0.069744       -0.559657       0.644590    -0.661495   \n",
       "4    -0.333658    -0.771306       -1.008856       0.355465    -0.382715   \n",
       "\n",
       "   Marks_Communication  Marks_Projectwork  Marks_BOCA  Gender_M  \\\n",
       "0            -1.195948          -0.471300    1.005320         1   \n",
       "1             0.960009           0.229378    1.109806         1   \n",
       "2            -1.195948          -1.031841   -0.561985         1   \n",
       "3            -0.742062          -0.331164   -0.248524         1   \n",
       "4            -0.969005          -0.471300    0.273911         1   \n",
       "\n",
       "   Board_SSC_ICSE  ...  Course_Degree_Engineering  Course_Degree_Management  \\\n",
       "0               0  ...                          0                         0   \n",
       "1               1  ...                          0                         0   \n",
       "2               0  ...                          1                         0   \n",
       "3               0  ...                          0                         1   \n",
       "4               0  ...                          1                         0   \n",
       "\n",
       "   Course_Degree_Others  Course_Degree_Science  Experience_Yrs_1  \\\n",
       "0                     0                      1                 0   \n",
       "1                     0                      0                 1   \n",
       "2                     0                      0                 0   \n",
       "3                     0                      0                 0   \n",
       "4                     0                      0                 1   \n",
       "\n",
       "   Experience_Yrs_2  Experience_Yrs_3  Specialization_MBA_Marketing & HR  \\\n",
       "0                 0                 0                                  1   \n",
       "1                 0                 0                                  0   \n",
       "2                 0                 0                                  0   \n",
       "3                 0                 0                                  0   \n",
       "4                 0                 0                                  1   \n",
       "\n",
       "   Specialization_MBA_Marketing & IB  Placement_Placed  \n",
       "0                                  0                 1  \n",
       "1                                  0                 1  \n",
       "2                                  0                 1  \n",
       "3                                  0                 1  \n",
       "4                                  0                 1  \n",
       "\n",
       "[5 rows x 35 columns]"
      ]
     },
     "execution_count": 193,
     "metadata": {},
     "output_type": "execute_result"
    }
   ],
   "source": [
    "df.head()"
   ]
  },
  {
   "cell_type": "code",
   "execution_count": 194,
   "metadata": {
    "scrolled": true
   },
   "outputs": [],
   "source": [
    "df.drop(columns = ['Entrance_Test_GCET','Board_HSC_Others','Entrance_Test_MAT','Experience_Yrs_3','Course_Degree_Commerce','Course_Degree_Management','Stream_HSC_Science'], axis=1, inplace=True)\n",
    "## dropping by vif value"
   ]
  },
  {
   "cell_type": "code",
   "execution_count": 26,
   "metadata": {},
   "outputs": [],
   "source": [
    "X = df.drop('Placement_Placed', axis=1 )\n",
    "y= df['Placement_Placed']"
   ]
  },
  {
   "cell_type": "code",
   "execution_count": 27,
   "metadata": {},
   "outputs": [],
   "source": [
    "vif = pd.DataFrame()\n",
    "vif['vif'] = [variance_inflation_factor(X.values,i) for i in range (X.shape[1])]\n",
    "vif['features'] = X.columns"
   ]
  },
  {
   "cell_type": "code",
   "execution_count": 28,
   "metadata": {},
   "outputs": [
    {
     "data": {
      "text/html": [
       "<div>\n",
       "<style scoped>\n",
       "    .dataframe tbody tr th:only-of-type {\n",
       "        vertical-align: middle;\n",
       "    }\n",
       "\n",
       "    .dataframe tbody tr th {\n",
       "        vertical-align: top;\n",
       "    }\n",
       "\n",
       "    .dataframe thead th {\n",
       "        text-align: right;\n",
       "    }\n",
       "</style>\n",
       "<table border=\"1\" class=\"dataframe\">\n",
       "  <thead>\n",
       "    <tr style=\"text-align: right;\">\n",
       "      <th></th>\n",
       "      <th>vif</th>\n",
       "      <th>features</th>\n",
       "    </tr>\n",
       "  </thead>\n",
       "  <tbody>\n",
       "    <tr>\n",
       "      <th>0</th>\n",
       "      <td>1.769404</td>\n",
       "      <td>Percent_SSC</td>\n",
       "    </tr>\n",
       "    <tr>\n",
       "      <th>1</th>\n",
       "      <td>1.682423</td>\n",
       "      <td>Percent_HSC</td>\n",
       "    </tr>\n",
       "    <tr>\n",
       "      <th>2</th>\n",
       "      <td>1.573939</td>\n",
       "      <td>Percent_Degree</td>\n",
       "    </tr>\n",
       "    <tr>\n",
       "      <th>3</th>\n",
       "      <td>3.941313</td>\n",
       "      <td>Percentile_ET</td>\n",
       "    </tr>\n",
       "    <tr>\n",
       "      <th>4</th>\n",
       "      <td>3.126926</td>\n",
       "      <td>Percent_MBA</td>\n",
       "    </tr>\n",
       "    <tr>\n",
       "      <th>5</th>\n",
       "      <td>2.359270</td>\n",
       "      <td>Marks_Communication</td>\n",
       "    </tr>\n",
       "    <tr>\n",
       "      <th>6</th>\n",
       "      <td>1.336227</td>\n",
       "      <td>Marks_Projectwork</td>\n",
       "    </tr>\n",
       "    <tr>\n",
       "      <th>7</th>\n",
       "      <td>1.534333</td>\n",
       "      <td>Marks_BOCA</td>\n",
       "    </tr>\n",
       "    <tr>\n",
       "      <th>8</th>\n",
       "      <td>3.262077</td>\n",
       "      <td>Gender_M</td>\n",
       "    </tr>\n",
       "    <tr>\n",
       "      <th>9</th>\n",
       "      <td>2.281646</td>\n",
       "      <td>Board_SSC_ICSE</td>\n",
       "    </tr>\n",
       "    <tr>\n",
       "      <th>10</th>\n",
       "      <td>2.530855</td>\n",
       "      <td>Board_SSC_Others</td>\n",
       "    </tr>\n",
       "    <tr>\n",
       "      <th>11</th>\n",
       "      <td>1.076092</td>\n",
       "      <td>Entrance_Test_G-MAT</td>\n",
       "    </tr>\n",
       "    <tr>\n",
       "      <th>12</th>\n",
       "      <td>1.110668</td>\n",
       "      <td>Entrance_Test_G-SAT</td>\n",
       "    </tr>\n",
       "    <tr>\n",
       "      <th>13</th>\n",
       "      <td>1.171278</td>\n",
       "      <td>Entrance_Test_K-MAT</td>\n",
       "    </tr>\n",
       "    <tr>\n",
       "      <th>14</th>\n",
       "      <td>4.179803</td>\n",
       "      <td>Entrance_Test_NA</td>\n",
       "    </tr>\n",
       "    <tr>\n",
       "      <th>15</th>\n",
       "      <td>1.286719</td>\n",
       "      <td>Entrance_Test_PGCET</td>\n",
       "    </tr>\n",
       "    <tr>\n",
       "      <th>16</th>\n",
       "      <td>1.037843</td>\n",
       "      <td>Entrance_Test_XAT</td>\n",
       "    </tr>\n",
       "    <tr>\n",
       "      <th>17</th>\n",
       "      <td>1.800370</td>\n",
       "      <td>Board_HSC_ISC</td>\n",
       "    </tr>\n",
       "    <tr>\n",
       "      <th>18</th>\n",
       "      <td>2.981940</td>\n",
       "      <td>Stream_HSC_Commerce</td>\n",
       "    </tr>\n",
       "    <tr>\n",
       "      <th>19</th>\n",
       "      <td>1.435953</td>\n",
       "      <td>Course_Degree_Computer Applications</td>\n",
       "    </tr>\n",
       "    <tr>\n",
       "      <th>20</th>\n",
       "      <td>1.449634</td>\n",
       "      <td>Course_Degree_Engineering</td>\n",
       "    </tr>\n",
       "    <tr>\n",
       "      <th>21</th>\n",
       "      <td>1.112725</td>\n",
       "      <td>Course_Degree_Others</td>\n",
       "    </tr>\n",
       "    <tr>\n",
       "      <th>22</th>\n",
       "      <td>1.271354</td>\n",
       "      <td>Course_Degree_Science</td>\n",
       "    </tr>\n",
       "    <tr>\n",
       "      <th>23</th>\n",
       "      <td>1.596857</td>\n",
       "      <td>Experience_Yrs_1</td>\n",
       "    </tr>\n",
       "    <tr>\n",
       "      <th>24</th>\n",
       "      <td>1.236698</td>\n",
       "      <td>Experience_Yrs_2</td>\n",
       "    </tr>\n",
       "    <tr>\n",
       "      <th>25</th>\n",
       "      <td>1.591907</td>\n",
       "      <td>Specialization_MBA_Marketing &amp; HR</td>\n",
       "    </tr>\n",
       "    <tr>\n",
       "      <th>26</th>\n",
       "      <td>1.161670</td>\n",
       "      <td>Specialization_MBA_Marketing &amp; IB</td>\n",
       "    </tr>\n",
       "  </tbody>\n",
       "</table>\n",
       "</div>"
      ],
      "text/plain": [
       "         vif                             features\n",
       "0   1.769404                          Percent_SSC\n",
       "1   1.682423                          Percent_HSC\n",
       "2   1.573939                       Percent_Degree\n",
       "3   3.941313                        Percentile_ET\n",
       "4   3.126926                          Percent_MBA\n",
       "5   2.359270                  Marks_Communication\n",
       "6   1.336227                    Marks_Projectwork\n",
       "7   1.534333                           Marks_BOCA\n",
       "8   3.262077                             Gender_M\n",
       "9   2.281646                       Board_SSC_ICSE\n",
       "10  2.530855                     Board_SSC_Others\n",
       "11  1.076092                  Entrance_Test_G-MAT\n",
       "12  1.110668                  Entrance_Test_G-SAT\n",
       "13  1.171278                  Entrance_Test_K-MAT\n",
       "14  4.179803                     Entrance_Test_NA\n",
       "15  1.286719                  Entrance_Test_PGCET\n",
       "16  1.037843                    Entrance_Test_XAT\n",
       "17  1.800370                        Board_HSC_ISC\n",
       "18  2.981940                  Stream_HSC_Commerce\n",
       "19  1.435953  Course_Degree_Computer Applications\n",
       "20  1.449634            Course_Degree_Engineering\n",
       "21  1.112725                 Course_Degree_Others\n",
       "22  1.271354                Course_Degree_Science\n",
       "23  1.596857                     Experience_Yrs_1\n",
       "24  1.236698                     Experience_Yrs_2\n",
       "25  1.591907    Specialization_MBA_Marketing & HR\n",
       "26  1.161670    Specialization_MBA_Marketing & IB"
      ]
     },
     "execution_count": 28,
     "metadata": {},
     "output_type": "execute_result"
    }
   ],
   "source": [
    "vif"
   ]
  },
  {
   "cell_type": "markdown",
   "metadata": {},
   "source": []
  },
  {
   "cell_type": "code",
   "execution_count": null,
   "metadata": {},
   "outputs": [],
   "source": []
  },
  {
   "cell_type": "markdown",
   "metadata": {},
   "source": [
    "# Checking the approach"
   ]
  },
  {
   "cell_type": "code",
   "execution_count": 29,
   "metadata": {},
   "outputs": [
    {
     "name": "stdout",
     "output_type": "stream",
     "text": [
      "Warning: Maximum number of iterations has been exceeded.\n",
      "         Current function value: 2.826075\n",
      "         Iterations: 35\n"
     ]
    },
    {
     "name": "stderr",
     "output_type": "stream",
     "text": [
      "C:\\Users\\arul\\Anaconda3\\lib\\site-packages\\numpy\\core\\fromnumeric.py:2495: FutureWarning: Method .ptp is deprecated and will be removed in a future version. Use numpy.ptp instead.\n",
      "  return ptp(axis=axis, out=out, **kwargs)\n",
      "C:\\Users\\arul\\Anaconda3\\lib\\site-packages\\statsmodels\\base\\model.py:512: ConvergenceWarning: Maximum Likelihood optimization failed to converge. Check mle_retvals\n",
      "  \"Check mle_retvals\", ConvergenceWarning)\n",
      "C:\\Users\\arul\\Anaconda3\\lib\\site-packages\\statsmodels\\base\\model.py:492: HessianInversionWarning: Inverting hessian failed, no bse or cov_params available\n",
      "  'available', HessianInversionWarning)\n",
      "C:\\Users\\arul\\Anaconda3\\lib\\site-packages\\statsmodels\\base\\model.py:492: HessianInversionWarning: Inverting hessian failed, no bse or cov_params available\n",
      "  'available', HessianInversionWarning)\n",
      "C:\\Users\\arul\\Anaconda3\\lib\\site-packages\\statsmodels\\discrete\\discrete_model.py:3390: RuntimeWarning: divide by zero encountered in double_scalars\n",
      "  return 1 - self.llf/self.llnull\n"
     ]
    },
    {
     "data": {
      "text/html": [
       "<table class=\"simpletable\">\n",
       "<caption>Logit Regression Results</caption>\n",
       "<tr>\n",
       "  <th>Dep. Variable:</th>   <td>Placement_Placed</td> <th>  No. Observations:  </th>  <td>   391</td> \n",
       "</tr>\n",
       "<tr>\n",
       "  <th>Model:</th>                 <td>Logit</td>      <th>  Df Residuals:      </th>  <td>   363</td> \n",
       "</tr>\n",
       "<tr>\n",
       "  <th>Method:</th>                 <td>MLE</td>       <th>  Df Model:          </th>  <td>    27</td> \n",
       "</tr>\n",
       "<tr>\n",
       "  <th>Date:</th>            <td>Sun, 10 Nov 2019</td> <th>  Pseudo R-squ.:     </th>  <td>   inf</td> \n",
       "</tr>\n",
       "<tr>\n",
       "  <th>Time:</th>                <td>11:12:56</td>     <th>  Log-Likelihood:    </th> <td> -1105.0</td>\n",
       "</tr>\n",
       "<tr>\n",
       "  <th>converged:</th>             <td>False</td>      <th>  LL-Null:           </th> <td>  0.0000</td>\n",
       "</tr>\n",
       "<tr>\n",
       "  <th>Covariance Type:</th>     <td>nonrobust</td>    <th>  LLR p-value:       </th>  <td> 1.000</td> \n",
       "</tr>\n",
       "</table>\n",
       "<table class=\"simpletable\">\n",
       "<tr>\n",
       "                   <td></td>                      <th>coef</th>     <th>std err</th>      <th>z</th>      <th>P>|z|</th>  <th>[0.025</th>    <th>0.975]</th>  \n",
       "</tr>\n",
       "<tr>\n",
       "  <th>const</th>                               <td>    1.1342</td> <td>    0.469</td> <td>    2.418</td> <td> 0.016</td> <td>    0.215</td> <td>    2.053</td>\n",
       "</tr>\n",
       "<tr>\n",
       "  <th>Percent_SSC</th>                         <td>    0.6323</td> <td>    0.184</td> <td>    3.436</td> <td> 0.001</td> <td>    0.272</td> <td>    0.993</td>\n",
       "</tr>\n",
       "<tr>\n",
       "  <th>Percent_HSC</th>                         <td>   -0.1552</td> <td>    0.174</td> <td>   -0.892</td> <td> 0.372</td> <td>   -0.496</td> <td>    0.186</td>\n",
       "</tr>\n",
       "<tr>\n",
       "  <th>Percent_Degree</th>                      <td>   -0.0288</td> <td>    0.166</td> <td>   -0.173</td> <td> 0.862</td> <td>   -0.354</td> <td>    0.296</td>\n",
       "</tr>\n",
       "<tr>\n",
       "  <th>Percentile_ET</th>                       <td>    0.5200</td> <td>    0.268</td> <td>    1.942</td> <td> 0.052</td> <td>   -0.005</td> <td>    1.045</td>\n",
       "</tr>\n",
       "<tr>\n",
       "  <th>Percent_MBA</th>                         <td>    0.1200</td> <td>    0.236</td> <td>    0.509</td> <td> 0.611</td> <td>   -0.342</td> <td>    0.582</td>\n",
       "</tr>\n",
       "<tr>\n",
       "  <th>Marks_Communication</th>                 <td>   -0.3894</td> <td>    0.206</td> <td>   -1.895</td> <td> 0.058</td> <td>   -0.792</td> <td>    0.013</td>\n",
       "</tr>\n",
       "<tr>\n",
       "  <th>Marks_Projectwork</th>                   <td>    0.3562</td> <td>    0.155</td> <td>    2.302</td> <td> 0.021</td> <td>    0.053</td> <td>    0.659</td>\n",
       "</tr>\n",
       "<tr>\n",
       "  <th>Marks_BOCA</th>                          <td>   -0.0153</td> <td>    0.166</td> <td>   -0.092</td> <td> 0.926</td> <td>   -0.341</td> <td>    0.310</td>\n",
       "</tr>\n",
       "<tr>\n",
       "  <th>Gender_M</th>                            <td>    0.5466</td> <td>    0.312</td> <td>    1.753</td> <td> 0.080</td> <td>   -0.065</td> <td>    1.158</td>\n",
       "</tr>\n",
       "<tr>\n",
       "  <th>Board_SSC_ICSE</th>                      <td>   -0.2008</td> <td>    0.479</td> <td>   -0.419</td> <td> 0.675</td> <td>   -1.140</td> <td>    0.738</td>\n",
       "</tr>\n",
       "<tr>\n",
       "  <th>Board_SSC_Others</th>                    <td>   -0.3797</td> <td>    0.340</td> <td>   -1.118</td> <td> 0.264</td> <td>   -1.045</td> <td>    0.286</td>\n",
       "</tr>\n",
       "<tr>\n",
       "  <th>Entrance_Test_G-MAT</th>                 <td>   18.5329</td> <td> 1.39e+04</td> <td>    0.001</td> <td> 0.999</td> <td>-2.73e+04</td> <td> 2.73e+04</td>\n",
       "</tr>\n",
       "<tr>\n",
       "  <th>Entrance_Test_G-SAT</th>                 <td>   19.3989</td> <td>  1.4e+04</td> <td>    0.001</td> <td> 0.999</td> <td>-2.74e+04</td> <td> 2.74e+04</td>\n",
       "</tr>\n",
       "<tr>\n",
       "  <th>Entrance_Test_K-MAT</th>                 <td>    0.3192</td> <td>    0.618</td> <td>    0.517</td> <td> 0.605</td> <td>   -0.891</td> <td>    1.530</td>\n",
       "</tr>\n",
       "<tr>\n",
       "  <th>Entrance_Test_NA</th>                    <td>    0.8993</td> <td>    0.644</td> <td>    1.396</td> <td> 0.163</td> <td>   -0.364</td> <td>    2.162</td>\n",
       "</tr>\n",
       "<tr>\n",
       "  <th>Entrance_Test_PGCET</th>                 <td>   -0.9556</td> <td>    0.943</td> <td>   -1.013</td> <td> 0.311</td> <td>   -2.804</td> <td>    0.893</td>\n",
       "</tr>\n",
       "<tr>\n",
       "  <th>Entrance_Test_XAT</th>                   <td>   16.6311</td> <td> 1.39e+04</td> <td>    0.001</td> <td> 0.999</td> <td>-2.72e+04</td> <td> 2.72e+04</td>\n",
       "</tr>\n",
       "<tr>\n",
       "  <th>Board_HSC_ISC</th>                       <td>   -0.1980</td> <td>    0.501</td> <td>   -0.395</td> <td> 0.693</td> <td>   -1.180</td> <td>    0.784</td>\n",
       "</tr>\n",
       "<tr>\n",
       "  <th>Stream_HSC_Commerce</th>                 <td>    0.0180</td> <td>    0.368</td> <td>    0.049</td> <td> 0.961</td> <td>   -0.703</td> <td>    0.739</td>\n",
       "</tr>\n",
       "<tr>\n",
       "  <th>Course_Degree_Computer Applications</th> <td>   -0.6335</td> <td>    0.541</td> <td>   -1.170</td> <td> 0.242</td> <td>   -1.695</td> <td>    0.428</td>\n",
       "</tr>\n",
       "<tr>\n",
       "  <th>Course_Degree_Engineering</th>           <td>   -0.4051</td> <td>    0.562</td> <td>   -0.720</td> <td> 0.471</td> <td>   -1.507</td> <td>    0.697</td>\n",
       "</tr>\n",
       "<tr>\n",
       "  <th>Course_Degree_Others</th>                <td>    0.1695</td> <td>    1.261</td> <td>    0.134</td> <td> 0.893</td> <td>   -2.302</td> <td>    2.641</td>\n",
       "</tr>\n",
       "<tr>\n",
       "  <th>Course_Degree_Science</th>               <td>    0.1339</td> <td>    0.711</td> <td>    0.188</td> <td> 0.851</td> <td>   -1.260</td> <td>    1.528</td>\n",
       "</tr>\n",
       "<tr>\n",
       "  <th>Experience_Yrs_1</th>                    <td>    0.4256</td> <td>    0.326</td> <td>    1.304</td> <td> 0.192</td> <td>   -0.214</td> <td>    1.065</td>\n",
       "</tr>\n",
       "<tr>\n",
       "  <th>Experience_Yrs_2</th>                    <td>   -0.0991</td> <td>    0.558</td> <td>   -0.178</td> <td> 0.859</td> <td>   -1.193</td> <td>    0.995</td>\n",
       "</tr>\n",
       "<tr>\n",
       "  <th>Specialization_MBA_Marketing & HR</th>   <td>    0.2301</td> <td>    0.293</td> <td>    0.785</td> <td> 0.432</td> <td>   -0.344</td> <td>    0.804</td>\n",
       "</tr>\n",
       "<tr>\n",
       "  <th>Specialization_MBA_Marketing & IB</th>   <td>    0.0353</td> <td>    0.742</td> <td>    0.048</td> <td> 0.962</td> <td>   -1.419</td> <td>    1.490</td>\n",
       "</tr>\n",
       "</table>"
      ],
      "text/plain": [
       "<class 'statsmodels.iolib.summary.Summary'>\n",
       "\"\"\"\n",
       "                           Logit Regression Results                           \n",
       "==============================================================================\n",
       "Dep. Variable:       Placement_Placed   No. Observations:                  391\n",
       "Model:                          Logit   Df Residuals:                      363\n",
       "Method:                           MLE   Df Model:                           27\n",
       "Date:                Sun, 10 Nov 2019   Pseudo R-squ.:                     inf\n",
       "Time:                        11:12:56   Log-Likelihood:                -1105.0\n",
       "converged:                      False   LL-Null:                        0.0000\n",
       "Covariance Type:            nonrobust   LLR p-value:                     1.000\n",
       "=======================================================================================================\n",
       "                                          coef    std err          z      P>|z|      [0.025      0.975]\n",
       "-------------------------------------------------------------------------------------------------------\n",
       "const                                   1.1342      0.469      2.418      0.016       0.215       2.053\n",
       "Percent_SSC                             0.6323      0.184      3.436      0.001       0.272       0.993\n",
       "Percent_HSC                            -0.1552      0.174     -0.892      0.372      -0.496       0.186\n",
       "Percent_Degree                         -0.0288      0.166     -0.173      0.862      -0.354       0.296\n",
       "Percentile_ET                           0.5200      0.268      1.942      0.052      -0.005       1.045\n",
       "Percent_MBA                             0.1200      0.236      0.509      0.611      -0.342       0.582\n",
       "Marks_Communication                    -0.3894      0.206     -1.895      0.058      -0.792       0.013\n",
       "Marks_Projectwork                       0.3562      0.155      2.302      0.021       0.053       0.659\n",
       "Marks_BOCA                             -0.0153      0.166     -0.092      0.926      -0.341       0.310\n",
       "Gender_M                                0.5466      0.312      1.753      0.080      -0.065       1.158\n",
       "Board_SSC_ICSE                         -0.2008      0.479     -0.419      0.675      -1.140       0.738\n",
       "Board_SSC_Others                       -0.3797      0.340     -1.118      0.264      -1.045       0.286\n",
       "Entrance_Test_G-MAT                    18.5329   1.39e+04      0.001      0.999   -2.73e+04    2.73e+04\n",
       "Entrance_Test_G-SAT                    19.3989    1.4e+04      0.001      0.999   -2.74e+04    2.74e+04\n",
       "Entrance_Test_K-MAT                     0.3192      0.618      0.517      0.605      -0.891       1.530\n",
       "Entrance_Test_NA                        0.8993      0.644      1.396      0.163      -0.364       2.162\n",
       "Entrance_Test_PGCET                    -0.9556      0.943     -1.013      0.311      -2.804       0.893\n",
       "Entrance_Test_XAT                      16.6311   1.39e+04      0.001      0.999   -2.72e+04    2.72e+04\n",
       "Board_HSC_ISC                          -0.1980      0.501     -0.395      0.693      -1.180       0.784\n",
       "Stream_HSC_Commerce                     0.0180      0.368      0.049      0.961      -0.703       0.739\n",
       "Course_Degree_Computer Applications    -0.6335      0.541     -1.170      0.242      -1.695       0.428\n",
       "Course_Degree_Engineering              -0.4051      0.562     -0.720      0.471      -1.507       0.697\n",
       "Course_Degree_Others                    0.1695      1.261      0.134      0.893      -2.302       2.641\n",
       "Course_Degree_Science                   0.1339      0.711      0.188      0.851      -1.260       1.528\n",
       "Experience_Yrs_1                        0.4256      0.326      1.304      0.192      -0.214       1.065\n",
       "Experience_Yrs_2                       -0.0991      0.558     -0.178      0.859      -1.193       0.995\n",
       "Specialization_MBA_Marketing & HR       0.2301      0.293      0.785      0.432      -0.344       0.804\n",
       "Specialization_MBA_Marketing & IB       0.0353      0.742      0.048      0.962      -1.419       1.490\n",
       "=======================================================================================================\n",
       "\"\"\""
      ]
     },
     "execution_count": 29,
     "metadata": {},
     "output_type": "execute_result"
    }
   ],
   "source": [
    "import statsmodels.api as sm\n",
    "Xc = sm.add_constant(X)\n",
    "logit_model = sm.Logit(y,Xc)\n",
    "result = logit_model.fit()\n",
    "result.summary()"
   ]
  },
  {
   "cell_type": "markdown",
   "metadata": {},
   "source": [
    "# dropping collumns with P-value score"
   ]
  },
  {
   "cell_type": "code",
   "execution_count": 30,
   "metadata": {},
   "outputs": [
    {
     "name": "stdout",
     "output_type": "stream",
     "text": [
      "Warning: Maximum number of iterations has been exceeded.\n",
      "         Current function value: 2.826075\n",
      "         Iterations: 35\n"
     ]
    },
    {
     "name": "stderr",
     "output_type": "stream",
     "text": [
      "C:\\Users\\arul\\Anaconda3\\lib\\site-packages\\numpy\\core\\fromnumeric.py:2495: FutureWarning: Method .ptp is deprecated and will be removed in a future version. Use numpy.ptp instead.\n",
      "  return ptp(axis=axis, out=out, **kwargs)\n",
      "C:\\Users\\arul\\Anaconda3\\lib\\site-packages\\statsmodels\\base\\model.py:512: ConvergenceWarning: Maximum Likelihood optimization failed to converge. Check mle_retvals\n",
      "  \"Check mle_retvals\", ConvergenceWarning)\n",
      "C:\\Users\\arul\\Anaconda3\\lib\\site-packages\\statsmodels\\base\\model.py:492: HessianInversionWarning: Inverting hessian failed, no bse or cov_params available\n",
      "  'available', HessianInversionWarning)\n",
      "C:\\Users\\arul\\Anaconda3\\lib\\site-packages\\statsmodels\\base\\model.py:492: HessianInversionWarning: Inverting hessian failed, no bse or cov_params available\n",
      "  'available', HessianInversionWarning)\n",
      "C:\\Users\\arul\\Anaconda3\\lib\\site-packages\\statsmodels\\discrete\\discrete_model.py:3390: RuntimeWarning: divide by zero encountered in double_scalars\n",
      "  return 1 - self.llf/self.llnull\n"
     ]
    },
    {
     "data": {
      "text/html": [
       "<table class=\"simpletable\">\n",
       "<caption>Logit Regression Results</caption>\n",
       "<tr>\n",
       "  <th>Dep. Variable:</th>   <td>Placement_Placed</td> <th>  No. Observations:  </th>  <td>   391</td> \n",
       "</tr>\n",
       "<tr>\n",
       "  <th>Model:</th>                 <td>Logit</td>      <th>  Df Residuals:      </th>  <td>   363</td> \n",
       "</tr>\n",
       "<tr>\n",
       "  <th>Method:</th>                 <td>MLE</td>       <th>  Df Model:          </th>  <td>    27</td> \n",
       "</tr>\n",
       "<tr>\n",
       "  <th>Date:</th>            <td>Sun, 10 Nov 2019</td> <th>  Pseudo R-squ.:     </th>  <td>   inf</td> \n",
       "</tr>\n",
       "<tr>\n",
       "  <th>Time:</th>                <td>11:12:56</td>     <th>  Log-Likelihood:    </th> <td> -1105.0</td>\n",
       "</tr>\n",
       "<tr>\n",
       "  <th>converged:</th>             <td>False</td>      <th>  LL-Null:           </th> <td>  0.0000</td>\n",
       "</tr>\n",
       "<tr>\n",
       "  <th>Covariance Type:</th>     <td>nonrobust</td>    <th>  LLR p-value:       </th>  <td> 1.000</td> \n",
       "</tr>\n",
       "</table>\n",
       "<table class=\"simpletable\">\n",
       "<tr>\n",
       "                   <td></td>                      <th>coef</th>     <th>std err</th>      <th>z</th>      <th>P>|z|</th>  <th>[0.025</th>    <th>0.975]</th>  \n",
       "</tr>\n",
       "<tr>\n",
       "  <th>const</th>                               <td>    1.1342</td> <td>    0.469</td> <td>    2.418</td> <td> 0.016</td> <td>    0.215</td> <td>    2.053</td>\n",
       "</tr>\n",
       "<tr>\n",
       "  <th>Percent_SSC</th>                         <td>    0.6323</td> <td>    0.184</td> <td>    3.436</td> <td> 0.001</td> <td>    0.272</td> <td>    0.993</td>\n",
       "</tr>\n",
       "<tr>\n",
       "  <th>Percent_HSC</th>                         <td>   -0.1552</td> <td>    0.174</td> <td>   -0.892</td> <td> 0.372</td> <td>   -0.496</td> <td>    0.186</td>\n",
       "</tr>\n",
       "<tr>\n",
       "  <th>Percent_Degree</th>                      <td>   -0.0288</td> <td>    0.166</td> <td>   -0.173</td> <td> 0.862</td> <td>   -0.354</td> <td>    0.296</td>\n",
       "</tr>\n",
       "<tr>\n",
       "  <th>Percentile_ET</th>                       <td>    0.5200</td> <td>    0.268</td> <td>    1.942</td> <td> 0.052</td> <td>   -0.005</td> <td>    1.045</td>\n",
       "</tr>\n",
       "<tr>\n",
       "  <th>Percent_MBA</th>                         <td>    0.1200</td> <td>    0.236</td> <td>    0.509</td> <td> 0.611</td> <td>   -0.342</td> <td>    0.582</td>\n",
       "</tr>\n",
       "<tr>\n",
       "  <th>Marks_Communication</th>                 <td>   -0.3894</td> <td>    0.206</td> <td>   -1.895</td> <td> 0.058</td> <td>   -0.792</td> <td>    0.013</td>\n",
       "</tr>\n",
       "<tr>\n",
       "  <th>Marks_Projectwork</th>                   <td>    0.3562</td> <td>    0.155</td> <td>    2.302</td> <td> 0.021</td> <td>    0.053</td> <td>    0.659</td>\n",
       "</tr>\n",
       "<tr>\n",
       "  <th>Marks_BOCA</th>                          <td>   -0.0153</td> <td>    0.166</td> <td>   -0.092</td> <td> 0.926</td> <td>   -0.341</td> <td>    0.310</td>\n",
       "</tr>\n",
       "<tr>\n",
       "  <th>Gender_M</th>                            <td>    0.5466</td> <td>    0.312</td> <td>    1.753</td> <td> 0.080</td> <td>   -0.065</td> <td>    1.158</td>\n",
       "</tr>\n",
       "<tr>\n",
       "  <th>Board_SSC_ICSE</th>                      <td>   -0.2008</td> <td>    0.479</td> <td>   -0.419</td> <td> 0.675</td> <td>   -1.140</td> <td>    0.738</td>\n",
       "</tr>\n",
       "<tr>\n",
       "  <th>Board_SSC_Others</th>                    <td>   -0.3797</td> <td>    0.340</td> <td>   -1.118</td> <td> 0.264</td> <td>   -1.045</td> <td>    0.286</td>\n",
       "</tr>\n",
       "<tr>\n",
       "  <th>Entrance_Test_G-MAT</th>                 <td>   18.5329</td> <td> 1.39e+04</td> <td>    0.001</td> <td> 0.999</td> <td>-2.73e+04</td> <td> 2.73e+04</td>\n",
       "</tr>\n",
       "<tr>\n",
       "  <th>Entrance_Test_G-SAT</th>                 <td>   19.3989</td> <td>  1.4e+04</td> <td>    0.001</td> <td> 0.999</td> <td>-2.74e+04</td> <td> 2.74e+04</td>\n",
       "</tr>\n",
       "<tr>\n",
       "  <th>Entrance_Test_K-MAT</th>                 <td>    0.3192</td> <td>    0.618</td> <td>    0.517</td> <td> 0.605</td> <td>   -0.891</td> <td>    1.530</td>\n",
       "</tr>\n",
       "<tr>\n",
       "  <th>Entrance_Test_NA</th>                    <td>    0.8993</td> <td>    0.644</td> <td>    1.396</td> <td> 0.163</td> <td>   -0.364</td> <td>    2.162</td>\n",
       "</tr>\n",
       "<tr>\n",
       "  <th>Entrance_Test_PGCET</th>                 <td>   -0.9556</td> <td>    0.943</td> <td>   -1.013</td> <td> 0.311</td> <td>   -2.804</td> <td>    0.893</td>\n",
       "</tr>\n",
       "<tr>\n",
       "  <th>Entrance_Test_XAT</th>                   <td>   16.6311</td> <td> 1.39e+04</td> <td>    0.001</td> <td> 0.999</td> <td>-2.72e+04</td> <td> 2.72e+04</td>\n",
       "</tr>\n",
       "<tr>\n",
       "  <th>Board_HSC_ISC</th>                       <td>   -0.1980</td> <td>    0.501</td> <td>   -0.395</td> <td> 0.693</td> <td>   -1.180</td> <td>    0.784</td>\n",
       "</tr>\n",
       "<tr>\n",
       "  <th>Stream_HSC_Commerce</th>                 <td>    0.0180</td> <td>    0.368</td> <td>    0.049</td> <td> 0.961</td> <td>   -0.703</td> <td>    0.739</td>\n",
       "</tr>\n",
       "<tr>\n",
       "  <th>Course_Degree_Computer Applications</th> <td>   -0.6335</td> <td>    0.541</td> <td>   -1.170</td> <td> 0.242</td> <td>   -1.695</td> <td>    0.428</td>\n",
       "</tr>\n",
       "<tr>\n",
       "  <th>Course_Degree_Engineering</th>           <td>   -0.4051</td> <td>    0.562</td> <td>   -0.720</td> <td> 0.471</td> <td>   -1.507</td> <td>    0.697</td>\n",
       "</tr>\n",
       "<tr>\n",
       "  <th>Course_Degree_Others</th>                <td>    0.1695</td> <td>    1.261</td> <td>    0.134</td> <td> 0.893</td> <td>   -2.302</td> <td>    2.641</td>\n",
       "</tr>\n",
       "<tr>\n",
       "  <th>Course_Degree_Science</th>               <td>    0.1339</td> <td>    0.711</td> <td>    0.188</td> <td> 0.851</td> <td>   -1.260</td> <td>    1.528</td>\n",
       "</tr>\n",
       "<tr>\n",
       "  <th>Experience_Yrs_1</th>                    <td>    0.4256</td> <td>    0.326</td> <td>    1.304</td> <td> 0.192</td> <td>   -0.214</td> <td>    1.065</td>\n",
       "</tr>\n",
       "<tr>\n",
       "  <th>Experience_Yrs_2</th>                    <td>   -0.0991</td> <td>    0.558</td> <td>   -0.178</td> <td> 0.859</td> <td>   -1.193</td> <td>    0.995</td>\n",
       "</tr>\n",
       "<tr>\n",
       "  <th>Specialization_MBA_Marketing & HR</th>   <td>    0.2301</td> <td>    0.293</td> <td>    0.785</td> <td> 0.432</td> <td>   -0.344</td> <td>    0.804</td>\n",
       "</tr>\n",
       "<tr>\n",
       "  <th>Specialization_MBA_Marketing & IB</th>   <td>    0.0353</td> <td>    0.742</td> <td>    0.048</td> <td> 0.962</td> <td>   -1.419</td> <td>    1.490</td>\n",
       "</tr>\n",
       "</table>"
      ],
      "text/plain": [
       "<class 'statsmodels.iolib.summary.Summary'>\n",
       "\"\"\"\n",
       "                           Logit Regression Results                           \n",
       "==============================================================================\n",
       "Dep. Variable:       Placement_Placed   No. Observations:                  391\n",
       "Model:                          Logit   Df Residuals:                      363\n",
       "Method:                           MLE   Df Model:                           27\n",
       "Date:                Sun, 10 Nov 2019   Pseudo R-squ.:                     inf\n",
       "Time:                        11:12:56   Log-Likelihood:                -1105.0\n",
       "converged:                      False   LL-Null:                        0.0000\n",
       "Covariance Type:            nonrobust   LLR p-value:                     1.000\n",
       "=======================================================================================================\n",
       "                                          coef    std err          z      P>|z|      [0.025      0.975]\n",
       "-------------------------------------------------------------------------------------------------------\n",
       "const                                   1.1342      0.469      2.418      0.016       0.215       2.053\n",
       "Percent_SSC                             0.6323      0.184      3.436      0.001       0.272       0.993\n",
       "Percent_HSC                            -0.1552      0.174     -0.892      0.372      -0.496       0.186\n",
       "Percent_Degree                         -0.0288      0.166     -0.173      0.862      -0.354       0.296\n",
       "Percentile_ET                           0.5200      0.268      1.942      0.052      -0.005       1.045\n",
       "Percent_MBA                             0.1200      0.236      0.509      0.611      -0.342       0.582\n",
       "Marks_Communication                    -0.3894      0.206     -1.895      0.058      -0.792       0.013\n",
       "Marks_Projectwork                       0.3562      0.155      2.302      0.021       0.053       0.659\n",
       "Marks_BOCA                             -0.0153      0.166     -0.092      0.926      -0.341       0.310\n",
       "Gender_M                                0.5466      0.312      1.753      0.080      -0.065       1.158\n",
       "Board_SSC_ICSE                         -0.2008      0.479     -0.419      0.675      -1.140       0.738\n",
       "Board_SSC_Others                       -0.3797      0.340     -1.118      0.264      -1.045       0.286\n",
       "Entrance_Test_G-MAT                    18.5329   1.39e+04      0.001      0.999   -2.73e+04    2.73e+04\n",
       "Entrance_Test_G-SAT                    19.3989    1.4e+04      0.001      0.999   -2.74e+04    2.74e+04\n",
       "Entrance_Test_K-MAT                     0.3192      0.618      0.517      0.605      -0.891       1.530\n",
       "Entrance_Test_NA                        0.8993      0.644      1.396      0.163      -0.364       2.162\n",
       "Entrance_Test_PGCET                    -0.9556      0.943     -1.013      0.311      -2.804       0.893\n",
       "Entrance_Test_XAT                      16.6311   1.39e+04      0.001      0.999   -2.72e+04    2.72e+04\n",
       "Board_HSC_ISC                          -0.1980      0.501     -0.395      0.693      -1.180       0.784\n",
       "Stream_HSC_Commerce                     0.0180      0.368      0.049      0.961      -0.703       0.739\n",
       "Course_Degree_Computer Applications    -0.6335      0.541     -1.170      0.242      -1.695       0.428\n",
       "Course_Degree_Engineering              -0.4051      0.562     -0.720      0.471      -1.507       0.697\n",
       "Course_Degree_Others                    0.1695      1.261      0.134      0.893      -2.302       2.641\n",
       "Course_Degree_Science                   0.1339      0.711      0.188      0.851      -1.260       1.528\n",
       "Experience_Yrs_1                        0.4256      0.326      1.304      0.192      -0.214       1.065\n",
       "Experience_Yrs_2                       -0.0991      0.558     -0.178      0.859      -1.193       0.995\n",
       "Specialization_MBA_Marketing & HR       0.2301      0.293      0.785      0.432      -0.344       0.804\n",
       "Specialization_MBA_Marketing & IB       0.0353      0.742      0.048      0.962      -1.419       1.490\n",
       "=======================================================================================================\n",
       "\"\"\""
      ]
     },
     "execution_count": 30,
     "metadata": {},
     "output_type": "execute_result"
    }
   ],
   "source": [
    "import statsmodels.api as sm\n",
    "Xc = sm.add_constant(X)\n",
    "logit_model = sm.Logit(y,Xc)\n",
    "result = logit_model.fit()\n",
    "result.summary()"
   ]
  },
  {
   "cell_type": "code",
   "execution_count": 31,
   "metadata": {},
   "outputs": [],
   "source": [
    "X_train, X_test, y_train, y_test = train_test_split(X, y, test_size=0.30, stratify=y, random_state=0)"
   ]
  },
  {
   "cell_type": "code",
   "execution_count": 32,
   "metadata": {},
   "outputs": [
    {
     "data": {
      "text/plain": [
       "(273, 27)"
      ]
     },
     "execution_count": 32,
     "metadata": {},
     "output_type": "execute_result"
    }
   ],
   "source": [
    "X_train.shape"
   ]
  },
  {
   "cell_type": "code",
   "execution_count": 33,
   "metadata": {},
   "outputs": [
    {
     "data": {
      "text/plain": [
       "(273,)"
      ]
     },
     "execution_count": 33,
     "metadata": {},
     "output_type": "execute_result"
    }
   ],
   "source": [
    "y_train.shape"
   ]
  },
  {
   "cell_type": "code",
   "execution_count": 34,
   "metadata": {},
   "outputs": [
    {
     "data": {
      "text/plain": [
       "1    218\n",
       "0     55\n",
       "Name: Placement_Placed, dtype: int64"
      ]
     },
     "execution_count": 34,
     "metadata": {},
     "output_type": "execute_result"
    }
   ],
   "source": [
    "y_train.value_counts()"
   ]
  },
  {
   "cell_type": "code",
   "execution_count": 35,
   "metadata": {},
   "outputs": [
    {
     "data": {
      "text/plain": [
       "(118, 27)"
      ]
     },
     "execution_count": 35,
     "metadata": {},
     "output_type": "execute_result"
    }
   ],
   "source": [
    "X_test.shape"
   ]
  },
  {
   "cell_type": "code",
   "execution_count": 36,
   "metadata": {},
   "outputs": [
    {
     "data": {
      "text/plain": [
       "(118,)"
      ]
     },
     "execution_count": 36,
     "metadata": {},
     "output_type": "execute_result"
    }
   ],
   "source": [
    "y_test.shape"
   ]
  },
  {
   "cell_type": "code",
   "execution_count": 37,
   "metadata": {},
   "outputs": [
    {
     "data": {
      "text/plain": [
       "1    94\n",
       "0    24\n",
       "Name: Placement_Placed, dtype: int64"
      ]
     },
     "execution_count": 37,
     "metadata": {},
     "output_type": "execute_result"
    }
   ],
   "source": [
    "y_test.value_counts()"
   ]
  },
  {
   "cell_type": "code",
   "execution_count": 38,
   "metadata": {},
   "outputs": [
    {
     "data": {
      "text/plain": [
       "210    1\n",
       "146    1\n",
       "40     1\n",
       "332    1\n",
       "26     1\n",
       "Name: Placement_Placed, dtype: uint8"
      ]
     },
     "execution_count": 38,
     "metadata": {},
     "output_type": "execute_result"
    }
   ],
   "source": [
    "y_test.head()"
   ]
  },
  {
   "cell_type": "code",
   "execution_count": 39,
   "metadata": {},
   "outputs": [],
   "source": [
    "def model_fit(algo, X_train, y_train, X_test, y_test):\n",
    "    #for train Data\n",
    "    \n",
    "    algo.fit(X_train, y_train)\n",
    "    y_train_pred = algo.predict(X_train)\n",
    "    y_train_prob = algo.predict_proba(X_train)[:,1]\n",
    "    print('AUC score of Train:', roc_auc_score(y_train, y_train_prob))\n",
    "    fpr, tpr, threshold = roc_curve(y_train, y_train_prob)\n",
    "    print(confusion_matrix(y_train, y_train_pred))\n",
    "    \n",
    "    #For test Data\n",
    "    \n",
    "    y_test_pred = algo.predict(X_test)\n",
    "    y_test_prob = algo.predict_proba(X_test)[:,1]\n",
    "    print('AUC score of Test:', roc_auc_score(y_test, y_test_prob))\n",
    "    fpr, tpr, threshold = roc_curve(y_test, y_test_prob)\n",
    "    print(confusion_matrix(y_test, y_test_pred))\n",
    "    \n",
    "    \n",
    "    plt.plot(fpr,tpr,'r')\n",
    "    plt.plot(fpr,fpr)\n",
    "    plt.xlabel('FPR')\n",
    "    plt.ylabel('TPR')\n",
    "    plt.show()\n",
    "    optimal_idx = np.argmax(tpr-fpr)\n",
    "    print(optimal_idx)\n",
    "    \n",
    "    "
   ]
  },
  {
   "cell_type": "markdown",
   "metadata": {},
   "source": [
    "# Logistic Regression Classification"
   ]
  },
  {
   "cell_type": "code",
   "execution_count": 123,
   "metadata": {},
   "outputs": [
    {
     "data": {
      "text/plain": [
       "LogisticRegression(C=1.0, class_weight=None, dual=False, fit_intercept=True,\n",
       "                   intercept_scaling=1, l1_ratio=None, max_iter=100,\n",
       "                   multi_class='warn', n_jobs=None, penalty='l2',\n",
       "                   random_state=0, solver='warn', tol=0.0001, verbose=0,\n",
       "                   warm_start=False)"
      ]
     },
     "execution_count": 123,
     "metadata": {},
     "output_type": "execute_result"
    }
   ],
   "source": [
    "lr =LogisticRegression(penalty = 'l2',random_state=0)\n",
    "lr.fit(X_train, y_train)"
   ]
  },
  {
   "cell_type": "code",
   "execution_count": 134,
   "metadata": {
    "scrolled": true
   },
   "outputs": [
    {
     "name": "stdout",
     "output_type": "stream",
     "text": [
      "AUC score of Train: 0.7037531276063386\n",
      "[[  2  53]\n",
      " [  2 216]]\n",
      "AUC score of Test: 0.6759751773049646\n",
      "[[ 0 24]\n",
      " [ 0 94]]\n"
     ]
    },
    {
     "data": {
      "image/png": "[encoded data removed]",
      "text/plain": [
       "<Figure size 432x288 with 1 Axes>"
      ]
     },
     "metadata": {
      "needs_background": "light"
     },
     "output_type": "display_data"
    },
    {
     "name": "stdout",
     "output_type": "stream",
     "text": [
      "12\n"
     ]
    }
   ],
   "source": [
    "model_fit(lr, X_train, y_train, X_test, y_test)"
   ]
  },
  {
   "cell_type": "code",
   "execution_count": 135,
   "metadata": {},
   "outputs": [],
   "source": [
    "y_prob = result.predict(Xc)"
   ]
  },
  {
   "cell_type": "code",
   "execution_count": null,
   "metadata": {},
   "outputs": [],
   "source": []
  },
  {
   "cell_type": "code",
   "execution_count": null,
   "metadata": {},
   "outputs": [],
   "source": [
    "print(np.mean(cv_results))"
   ]
  },
  {
   "cell_type": "code",
   "execution_count": 137,
   "metadata": {},
   "outputs": [
    {
     "data": {
      "text/plain": [
       "[<matplotlib.lines.Line2D at 0xc65e71b978>]"
      ]
     },
     "execution_count": 137,
     "metadata": {},
     "output_type": "execute_result"
    },
    {
     "data": {
      "image/png": "[encoded data removed]",
      "text/plain": [
       "<Figure size 432x288 with 1 Axes>"
      ]
     },
     "metadata": {
      "needs_background": "light"
     },
     "output_type": "display_data"
    }
   ],
   "source": [
    "plt.plot(cv_results)"
   ]
  },
  {
   "cell_type": "markdown",
   "metadata": {},
   "source": [
    "# Random Forest Classification Modelling"
   ]
  },
  {
   "cell_type": "code",
   "execution_count": 138,
   "metadata": {
    "scrolled": false
   },
   "outputs": [
    {
     "name": "stdout",
     "output_type": "stream",
     "text": [
      "AUC score of Train: 0.9994995829858215\n",
      "[[ 51   4]\n",
      " [  0 218]]\n",
      "AUC score of Test: 0.6245567375886525\n",
      "[[ 7 17]\n",
      " [10 84]]\n"
     ]
    },
    {
     "data": {
      "image/png": "[encoded data removed]",
      "text/plain": [
       "<Figure size 432x288 with 1 Axes>"
      ]
     },
     "metadata": {
      "needs_background": "light"
     },
     "output_type": "display_data"
    },
    {
     "name": "stdout",
     "output_type": "stream",
     "text": [
      "3\n"
     ]
    }
   ],
   "source": [
    "rf = RandomForestClassifier(random_state =0)\n",
    "model_fit(rf, X_train, y_train, X_test, y_test )"
   ]
  },
  {
   "cell_type": "code",
   "execution_count": 139,
   "metadata": {},
   "outputs": [],
   "source": [
    "\n",
    "Xy_train0 = Xy_train.loc[Xy_train['Placement_Placed']==0]\n",
    "Xy_train1 = Xy_train.loc[Xy_train['Placement_Placed']==1]"
   ]
  },
  {
   "cell_type": "code",
   "execution_count": 140,
   "metadata": {},
   "outputs": [],
   "source": [
    "len1 = len(Xy_train1)\n",
    "len0 = len(Xy_train0)"
   ]
  },
  {
   "cell_type": "code",
   "execution_count": 141,
   "metadata": {},
   "outputs": [],
   "source": [
    "\n",
    "Xy_train1_us = Xy_train1.sample(len0)\n",
    "\n"
   ]
  },
  {
   "cell_type": "code",
   "execution_count": 142,
   "metadata": {},
   "outputs": [],
   "source": [
    "\n",
    "Xy_train_us= pd.concat([Xy_train1_us, Xy_train1], axis=0)\n",
    "\n",
    "y_train_us =  Xy_train_us['Placement_Placed']\n",
    "X_train_us = Xy_train_us.drop('Placement_Placed', axis=1)"
   ]
  },
  {
   "cell_type": "code",
   "execution_count": 143,
   "metadata": {},
   "outputs": [
    {
     "name": "stdout",
     "output_type": "stream",
     "text": [
      "(273, 27)\n",
      "1    273\n",
      "Name: Placement_Placed, dtype: int64\n"
     ]
    }
   ],
   "source": [
    "print(X_train_us.shape)\n",
    "print(y_train_us.value_counts())"
   ]
  },
  {
   "cell_type": "code",
   "execution_count": 144,
   "metadata": {},
   "outputs": [
    {
     "ename": "ValueError",
     "evalue": "This solver needs samples of at least 2 classes in the data, but the data contains only one class: 1",
     "output_type": "error",
     "traceback": [
      "\u001b[1;31m---------------------------------------------------------------------------\u001b[0m",
      "\u001b[1;31mValueError\u001b[0m                                Traceback (most recent call last)",
      "\u001b[1;32m<ipython-input-144-9c3727621e17>\u001b[0m in \u001b[0;36m<module>\u001b[1;34m\u001b[0m\n\u001b[1;32m----> 1\u001b[1;33m \u001b[0mmodel_fit\u001b[0m\u001b[1;33m(\u001b[0m\u001b[0mlr\u001b[0m\u001b[1;33m,\u001b[0m \u001b[0mX_train_us\u001b[0m\u001b[1;33m,\u001b[0m \u001b[0my_train_us\u001b[0m\u001b[1;33m,\u001b[0m \u001b[0mX_test\u001b[0m\u001b[1;33m,\u001b[0m \u001b[0my_test\u001b[0m\u001b[1;33m)\u001b[0m\u001b[1;33m\u001b[0m\u001b[1;33m\u001b[0m\u001b[0m\n\u001b[0m",
      "\u001b[1;32m<ipython-input-39-3dbabacbe167>\u001b[0m in \u001b[0;36mmodel_fit\u001b[1;34m(algo, X_train, y_train, X_test, y_test)\u001b[0m\n\u001b[0;32m      2\u001b[0m     \u001b[1;31m#for train Data\u001b[0m\u001b[1;33m\u001b[0m\u001b[1;33m\u001b[0m\u001b[1;33m\u001b[0m\u001b[0m\n\u001b[0;32m      3\u001b[0m \u001b[1;33m\u001b[0m\u001b[0m\n\u001b[1;32m----> 4\u001b[1;33m     \u001b[0malgo\u001b[0m\u001b[1;33m.\u001b[0m\u001b[0mfit\u001b[0m\u001b[1;33m(\u001b[0m\u001b[0mX_train\u001b[0m\u001b[1;33m,\u001b[0m \u001b[0my_train\u001b[0m\u001b[1;33m)\u001b[0m\u001b[1;33m\u001b[0m\u001b[1;33m\u001b[0m\u001b[0m\n\u001b[0m\u001b[0;32m      5\u001b[0m     \u001b[0my_train_pred\u001b[0m \u001b[1;33m=\u001b[0m \u001b[0malgo\u001b[0m\u001b[1;33m.\u001b[0m\u001b[0mpredict\u001b[0m\u001b[1;33m(\u001b[0m\u001b[0mX_train\u001b[0m\u001b[1;33m)\u001b[0m\u001b[1;33m\u001b[0m\u001b[1;33m\u001b[0m\u001b[0m\n\u001b[0;32m      6\u001b[0m     \u001b[0my_train_prob\u001b[0m \u001b[1;33m=\u001b[0m \u001b[0malgo\u001b[0m\u001b[1;33m.\u001b[0m\u001b[0mpredict_proba\u001b[0m\u001b[1;33m(\u001b[0m\u001b[0mX_train\u001b[0m\u001b[1;33m)\u001b[0m\u001b[1;33m[\u001b[0m\u001b[1;33m:\u001b[0m\u001b[1;33m,\u001b[0m\u001b[1;36m1\u001b[0m\u001b[1;33m]\u001b[0m\u001b[1;33m\u001b[0m\u001b[1;33m\u001b[0m\u001b[0m\n",
      "\u001b[1;32m~\\Anaconda3\\lib\\site-packages\\sklearn\\linear_model\\logistic.py\u001b[0m in \u001b[0;36mfit\u001b[1;34m(self, X, y, sample_weight)\u001b[0m\n\u001b[0;32m   1547\u001b[0m                 \u001b[0mself\u001b[0m\u001b[1;33m.\u001b[0m\u001b[0mclass_weight\u001b[0m\u001b[1;33m,\u001b[0m \u001b[0mself\u001b[0m\u001b[1;33m.\u001b[0m\u001b[0mpenalty\u001b[0m\u001b[1;33m,\u001b[0m \u001b[0mself\u001b[0m\u001b[1;33m.\u001b[0m\u001b[0mdual\u001b[0m\u001b[1;33m,\u001b[0m \u001b[0mself\u001b[0m\u001b[1;33m.\u001b[0m\u001b[0mverbose\u001b[0m\u001b[1;33m,\u001b[0m\u001b[1;33m\u001b[0m\u001b[1;33m\u001b[0m\u001b[0m\n\u001b[0;32m   1548\u001b[0m                 \u001b[0mself\u001b[0m\u001b[1;33m.\u001b[0m\u001b[0mmax_iter\u001b[0m\u001b[1;33m,\u001b[0m \u001b[0mself\u001b[0m\u001b[1;33m.\u001b[0m\u001b[0mtol\u001b[0m\u001b[1;33m,\u001b[0m \u001b[0mself\u001b[0m\u001b[1;33m.\u001b[0m\u001b[0mrandom_state\u001b[0m\u001b[1;33m,\u001b[0m\u001b[1;33m\u001b[0m\u001b[1;33m\u001b[0m\u001b[0m\n\u001b[1;32m-> 1549\u001b[1;33m                 sample_weight=sample_weight)\n\u001b[0m\u001b[0;32m   1550\u001b[0m             \u001b[0mself\u001b[0m\u001b[1;33m.\u001b[0m\u001b[0mn_iter_\u001b[0m \u001b[1;33m=\u001b[0m \u001b[0mnp\u001b[0m\u001b[1;33m.\u001b[0m\u001b[0marray\u001b[0m\u001b[1;33m(\u001b[0m\u001b[1;33m[\u001b[0m\u001b[0mn_iter_\u001b[0m\u001b[1;33m]\u001b[0m\u001b[1;33m)\u001b[0m\u001b[1;33m\u001b[0m\u001b[1;33m\u001b[0m\u001b[0m\n\u001b[0;32m   1551\u001b[0m             \u001b[1;32mreturn\u001b[0m \u001b[0mself\u001b[0m\u001b[1;33m\u001b[0m\u001b[1;33m\u001b[0m\u001b[0m\n",
      "\u001b[1;32m~\\Anaconda3\\lib\\site-packages\\sklearn\\svm\\base.py\u001b[0m in \u001b[0;36m_fit_liblinear\u001b[1;34m(X, y, C, fit_intercept, intercept_scaling, class_weight, penalty, dual, verbose, max_iter, tol, random_state, multi_class, loss, epsilon, sample_weight)\u001b[0m\n\u001b[0;32m    877\u001b[0m             raise ValueError(\"This solver needs samples of at least 2 classes\"\n\u001b[0;32m    878\u001b[0m                              \u001b[1;34m\" in the data, but the data contains only one\"\u001b[0m\u001b[1;33m\u001b[0m\u001b[1;33m\u001b[0m\u001b[0m\n\u001b[1;32m--> 879\u001b[1;33m                              \" class: %r\" % classes_[0])\n\u001b[0m\u001b[0;32m    880\u001b[0m \u001b[1;33m\u001b[0m\u001b[0m\n\u001b[0;32m    881\u001b[0m         \u001b[0mclass_weight_\u001b[0m \u001b[1;33m=\u001b[0m \u001b[0mcompute_class_weight\u001b[0m\u001b[1;33m(\u001b[0m\u001b[0mclass_weight\u001b[0m\u001b[1;33m,\u001b[0m \u001b[0mclasses_\u001b[0m\u001b[1;33m,\u001b[0m \u001b[0my\u001b[0m\u001b[1;33m)\u001b[0m\u001b[1;33m\u001b[0m\u001b[1;33m\u001b[0m\u001b[0m\n",
      "\u001b[1;31mValueError\u001b[0m: This solver needs samples of at least 2 classes in the data, but the data contains only one class: 1"
     ]
    }
   ],
   "source": [
    "model_fit(lr, X_train_us, y_train_us, X_test, y_test)"
   ]
  },
  {
   "cell_type": "code",
   "execution_count": null,
   "metadata": {},
   "outputs": [],
   "source": []
  },
  {
   "cell_type": "code",
   "execution_count": null,
   "metadata": {},
   "outputs": [],
   "source": []
  },
  {
   "cell_type": "code",
   "execution_count": null,
   "metadata": {},
   "outputs": [],
   "source": []
  },
  {
   "cell_type": "code",
   "execution_count": null,
   "metadata": {},
   "outputs": [],
   "source": []
  },
  {
   "cell_type": "code",
   "execution_count": null,
   "metadata": {},
   "outputs": [],
   "source": []
  },
  {
   "cell_type": "markdown",
   "metadata": {},
   "source": [
    "# Regression Modelling"
   ]
  },
  {
   "cell_type": "code",
   "execution_count": 364,
   "metadata": {},
   "outputs": [],
   "source": [
    "df = pd.read_excel('Admission.xlsx')"
   ]
  },
  {
   "cell_type": "code",
   "execution_count": 365,
   "metadata": {},
   "outputs": [],
   "source": [
    "df.head()\n",
    "df = df[df['Placement'] == 'Placed']"
   ]
  },
  {
   "cell_type": "code",
   "execution_count": 366,
   "metadata": {},
   "outputs": [],
   "source": [
    "df.drop('Placement', axis=1, inplace =True)"
   ]
  },
  {
   "cell_type": "code",
   "execution_count": 367,
   "metadata": {},
   "outputs": [
    {
     "data": {
      "text/plain": [
       "SlNo                    0\n",
       "Gender                  0\n",
       "Percent_SSC             0\n",
       "Board_SSC               0\n",
       "Percent_HSC             0\n",
       "Board_HSC               0\n",
       "Stream_HSC              0\n",
       "Percent_Degree          0\n",
       "Course_Degree           0\n",
       "Experience_Yrs          0\n",
       "Entrance_Test          51\n",
       "Percentile_ET           0\n",
       "Percent_MBA             0\n",
       "Specialization_MBA      0\n",
       "Marks_Communication     0\n",
       "Marks_Projectwork       0\n",
       "Marks_BOCA              0\n",
       "Salary                  0\n",
       "dtype: int64"
      ]
     },
     "execution_count": 367,
     "metadata": {},
     "output_type": "execute_result"
    }
   ],
   "source": [
    "df.isnull().sum()"
   ]
  },
  {
   "cell_type": "code",
   "execution_count": 368,
   "metadata": {},
   "outputs": [],
   "source": [
    "df['Entrance_Test'].fillna('NA',inplace=True)"
   ]
  },
  {
   "cell_type": "markdown",
   "metadata": {},
   "source": [
    "# Get Dummies for categorical Data"
   ]
  },
  {
   "cell_type": "code",
   "execution_count": null,
   "metadata": {},
   "outputs": [],
   "source": []
  },
  {
   "cell_type": "code",
   "execution_count": 369,
   "metadata": {},
   "outputs": [],
   "source": [
    "cat_cols = ['Gender', 'Board_SSC', 'Entrance_Test','Board_HSC','Stream_HSC','Course_Degree','Experience_Yrs','Specialization_MBA']\n",
    "df = pd.get_dummies(df, columns= cat_cols, drop_first = True)"
   ]
  },
  {
   "cell_type": "code",
   "execution_count": 370,
   "metadata": {},
   "outputs": [
    {
     "name": "stdout",
     "output_type": "stream",
     "text": [
      "Shape of the X_train:  (218, 23) \n",
      " Shape of X_Test (94, 23)\n"
     ]
    }
   ],
   "source": [
    "X_train, X_test, y_train, y_test = train_test_split(X, y, test_size=0.30, random_state=0)\n",
    "print(\"Shape of the X_train: \", X_train.shape,'\\n' ,'Shape of X_Test',X_test.shape)"
   ]
  },
  {
   "cell_type": "code",
   "execution_count": 371,
   "metadata": {},
   "outputs": [],
   "source": [
    "from sklearn.feature_selection import RFE"
   ]
  },
  {
   "cell_type": "code",
   "execution_count": 372,
   "metadata": {},
   "outputs": [],
   "source": [
    "model = LinearRegression()\n",
    "rfe = RFE(model,10)"
   ]
  },
  {
   "cell_type": "code",
   "execution_count": 373,
   "metadata": {},
   "outputs": [
    {
     "data": {
      "text/plain": [
       "LinearRegression(copy_X=True, fit_intercept=True, n_jobs=None, normalize=False)"
      ]
     },
     "execution_count": 373,
     "metadata": {},
     "output_type": "execute_result"
    }
   ],
   "source": [
    "X_rfe = rfe.fit_transform(X_train, y_train)\n",
    "model.fit(X_rfe, y_train)"
   ]
  },
  {
   "cell_type": "code",
   "execution_count": 374,
   "metadata": {},
   "outputs": [
    {
     "data": {
      "text/plain": [
       "array([False, False, False, False, False, False, False,  True,  True,\n",
       "       False,  True,  True, False, False, False, False,  True,  True,\n",
       "        True, False,  True,  True,  True])"
      ]
     },
     "execution_count": 374,
     "metadata": {},
     "output_type": "execute_result"
    }
   ],
   "source": [
    "rfe.support_"
   ]
  },
  {
   "cell_type": "code",
   "execution_count": 375,
   "metadata": {},
   "outputs": [
    {
     "data": {
      "text/html": [
       "<div>\n",
       "<style scoped>\n",
       "    .dataframe tbody tr th:only-of-type {\n",
       "        vertical-align: middle;\n",
       "    }\n",
       "\n",
       "    .dataframe tbody tr th {\n",
       "        vertical-align: top;\n",
       "    }\n",
       "\n",
       "    .dataframe thead th {\n",
       "        text-align: right;\n",
       "    }\n",
       "</style>\n",
       "<table border=\"1\" class=\"dataframe\">\n",
       "  <thead>\n",
       "    <tr style=\"text-align: right;\">\n",
       "      <th></th>\n",
       "      <th>cols</th>\n",
       "      <th>select</th>\n",
       "    </tr>\n",
       "  </thead>\n",
       "  <tbody>\n",
       "    <tr>\n",
       "      <th>7</th>\n",
       "      <td>Gender_M</td>\n",
       "      <td>1</td>\n",
       "    </tr>\n",
       "    <tr>\n",
       "      <th>8</th>\n",
       "      <td>Board_SSC_ICSE</td>\n",
       "      <td>1</td>\n",
       "    </tr>\n",
       "    <tr>\n",
       "      <th>10</th>\n",
       "      <td>Entrance_Test_G-SAT</td>\n",
       "      <td>1</td>\n",
       "    </tr>\n",
       "    <tr>\n",
       "      <th>11</th>\n",
       "      <td>Entrance_Test_K-MAT</td>\n",
       "      <td>1</td>\n",
       "    </tr>\n",
       "    <tr>\n",
       "      <th>16</th>\n",
       "      <td>Course_Degree_Computer Applications</td>\n",
       "      <td>1</td>\n",
       "    </tr>\n",
       "    <tr>\n",
       "      <th>17</th>\n",
       "      <td>Course_Degree_Engineering</td>\n",
       "      <td>1</td>\n",
       "    </tr>\n",
       "    <tr>\n",
       "      <th>18</th>\n",
       "      <td>Course_Degree_Others</td>\n",
       "      <td>1</td>\n",
       "    </tr>\n",
       "    <tr>\n",
       "      <th>20</th>\n",
       "      <td>Experience_Yrs_2</td>\n",
       "      <td>1</td>\n",
       "    </tr>\n",
       "    <tr>\n",
       "      <th>21</th>\n",
       "      <td>Specialization_MBA_Marketing &amp; HR</td>\n",
       "      <td>1</td>\n",
       "    </tr>\n",
       "    <tr>\n",
       "      <th>22</th>\n",
       "      <td>Specialization_MBA_Marketing &amp; IB</td>\n",
       "      <td>1</td>\n",
       "    </tr>\n",
       "  </tbody>\n",
       "</table>\n",
       "</div>"
      ],
      "text/plain": [
       "                                   cols select\n",
       "7                              Gender_M      1\n",
       "8                        Board_SSC_ICSE      1\n",
       "10                  Entrance_Test_G-SAT      1\n",
       "11                  Entrance_Test_K-MAT      1\n",
       "16  Course_Degree_Computer Applications      1\n",
       "17            Course_Degree_Engineering      1\n",
       "18                 Course_Degree_Others      1\n",
       "20                     Experience_Yrs_2      1\n",
       "21    Specialization_MBA_Marketing & HR      1\n",
       "22    Specialization_MBA_Marketing & IB      1"
      ]
     },
     "execution_count": 375,
     "metadata": {},
     "output_type": "execute_result"
    }
   ],
   "source": [
    "sel= pd.DataFrame([X_train.columns, rfe.ranking_]).T\n",
    "sel.columns = ['cols', 'select']\n",
    "sel = sel[sel['select']==1]\n",
    "sel"
   ]
  },
  {
   "cell_type": "code",
   "execution_count": 376,
   "metadata": {},
   "outputs": [
    {
     "data": {
      "text/plain": [
       "['Gender_M',\n",
       " 'Board_SSC_ICSE',\n",
       " 'Entrance_Test_G-SAT',\n",
       " 'Entrance_Test_K-MAT',\n",
       " 'Course_Degree_Computer Applications',\n",
       " 'Course_Degree_Engineering',\n",
       " 'Course_Degree_Others',\n",
       " 'Experience_Yrs_2',\n",
       " 'Specialization_MBA_Marketing & HR',\n",
       " 'Specialization_MBA_Marketing & IB']"
      ]
     },
     "execution_count": 376,
     "metadata": {},
     "output_type": "execute_result"
    }
   ],
   "source": [
    "selected_columns = sel['cols'].tolist()\n",
    "selected_columns"
   ]
  },
  {
   "cell_type": "code",
   "execution_count": 377,
   "metadata": {},
   "outputs": [],
   "source": [
    "X_train = X_train.loc[:,selected_columns]\n",
    "X_test = X_test.loc[:,selected_columns]"
   ]
  },
  {
   "cell_type": "code",
   "execution_count": 378,
   "metadata": {},
   "outputs": [
    {
     "data": {
      "text/plain": [
       "(94, 10)"
      ]
     },
     "execution_count": 378,
     "metadata": {},
     "output_type": "execute_result"
    }
   ],
   "source": [
    "X_test.shape"
   ]
  },
  {
   "cell_type": "code",
   "execution_count": 379,
   "metadata": {},
   "outputs": [
    {
     "data": {
      "text/plain": [
       "(218, 10)"
      ]
     },
     "execution_count": 379,
     "metadata": {},
     "output_type": "execute_result"
    }
   ],
   "source": [
    "X_train.shape"
   ]
  },
  {
   "cell_type": "code",
   "execution_count": 380,
   "metadata": {},
   "outputs": [],
   "source": [
    "lr  = LinearRegression()\n",
    "lr.fit(X_train.loc[:,selected_columns], y_train)\n",
    "y_train_pred = lr.predict(X_train.loc[:,selected_columns])"
   ]
  },
  {
   "cell_type": "code",
   "execution_count": 381,
   "metadata": {},
   "outputs": [
    {
     "name": "stdout",
     "output_type": "stream",
     "text": [
      "train data score: 0.1465052658608067\n"
     ]
    }
   ],
   "source": [
    "print('train data score:',r2_score(y_train, y_train_pred))"
   ]
  },
  {
   "cell_type": "code",
   "execution_count": null,
   "metadata": {},
   "outputs": [],
   "source": []
  },
  {
   "cell_type": "code",
   "execution_count": null,
   "metadata": {},
   "outputs": [],
   "source": []
  },
  {
   "cell_type": "code",
   "execution_count": null,
   "metadata": {},
   "outputs": [],
   "source": []
  },
  {
   "cell_type": "code",
   "execution_count": null,
   "metadata": {},
   "outputs": [],
   "source": []
  },
  {
   "cell_type": "code",
   "execution_count": null,
   "metadata": {},
   "outputs": [],
   "source": []
  },
  {
   "cell_type": "code",
   "execution_count": 363,
   "metadata": {},
   "outputs": [
    {
     "data": {
      "text/plain": [
       "SlNo                                   0\n",
       "Percent_SSC                            0\n",
       "Percent_HSC                            0\n",
       "Percent_Degree                         0\n",
       "Percentile_ET                          0\n",
       "Percent_MBA                            0\n",
       "Marks_Communication                    0\n",
       "Marks_Projectwork                      0\n",
       "Marks_BOCA                             0\n",
       "Salary                                 0\n",
       "Gender_M                               0\n",
       "Board_SSC_ICSE                         0\n",
       "Board_SSC_Others                       0\n",
       "Entrance_Test_G-MAT                    0\n",
       "Entrance_Test_G-SAT                    0\n",
       "Entrance_Test_GCET                     0\n",
       "Entrance_Test_K-MAT                    0\n",
       "Entrance_Test_MAT                      0\n",
       "Entrance_Test_PGCET                    0\n",
       "Entrance_Test_XAT                      0\n",
       "Board_HSC_ISC                          0\n",
       "Board_HSC_Others                       0\n",
       "Stream_HSC_Commerce                    0\n",
       "Stream_HSC_Science                     0\n",
       "Course_Degree_Commerce                 0\n",
       "Course_Degree_Computer Applications    0\n",
       "Course_Degree_Engineering              0\n",
       "Course_Degree_Management               0\n",
       "Course_Degree_Others                   0\n",
       "Course_Degree_Science                  0\n",
       "Experience_Yrs_1                       0\n",
       "Experience_Yrs_2                       0\n",
       "Experience_Yrs_3                       0\n",
       "Specialization_MBA_Marketing & HR      0\n",
       "Specialization_MBA_Marketing & IB      0\n",
       "dtype: int64"
      ]
     },
     "execution_count": 363,
     "metadata": {},
     "output_type": "execute_result"
    }
   ],
   "source": [
    "df.isnull().sum()"
   ]
  },
  {
   "cell_type": "code",
   "execution_count": 286,
   "metadata": {},
   "outputs": [
    {
     "data": {
      "text/html": [
       "<div>\n",
       "<style scoped>\n",
       "    .dataframe tbody tr th:only-of-type {\n",
       "        vertical-align: middle;\n",
       "    }\n",
       "\n",
       "    .dataframe tbody tr th {\n",
       "        vertical-align: top;\n",
       "    }\n",
       "\n",
       "    .dataframe thead th {\n",
       "        text-align: right;\n",
       "    }\n",
       "</style>\n",
       "<table border=\"1\" class=\"dataframe\">\n",
       "  <thead>\n",
       "    <tr style=\"text-align: right;\">\n",
       "      <th></th>\n",
       "      <th>Percent_SSC</th>\n",
       "      <th>Percent_Degree</th>\n",
       "      <th>Percentile_ET</th>\n",
       "      <th>Percent_MBA</th>\n",
       "      <th>Marks_Communication</th>\n",
       "      <th>Marks_Projectwork</th>\n",
       "      <th>Marks_BOCA</th>\n",
       "      <th>Salary</th>\n",
       "      <th>Gender_M</th>\n",
       "      <th>Board_SSC_ICSE</th>\n",
       "      <th>...</th>\n",
       "      <th>Entrance_Test_XAT</th>\n",
       "      <th>Board_HSC_ISC</th>\n",
       "      <th>Stream_HSC_Commerce</th>\n",
       "      <th>Course_Degree_Computer Applications</th>\n",
       "      <th>Course_Degree_Engineering</th>\n",
       "      <th>Course_Degree_Others</th>\n",
       "      <th>Experience_Yrs_1</th>\n",
       "      <th>Experience_Yrs_2</th>\n",
       "      <th>Specialization_MBA_Marketing &amp; HR</th>\n",
       "      <th>Specialization_MBA_Marketing &amp; IB</th>\n",
       "    </tr>\n",
       "  </thead>\n",
       "  <tbody>\n",
       "    <tr>\n",
       "      <th>0</th>\n",
       "      <td>62.00</td>\n",
       "      <td>52.00</td>\n",
       "      <td>55.0</td>\n",
       "      <td>58.80</td>\n",
       "      <td>50</td>\n",
       "      <td>65</td>\n",
       "      <td>74</td>\n",
       "      <td>270000</td>\n",
       "      <td>1</td>\n",
       "      <td>0</td>\n",
       "      <td>...</td>\n",
       "      <td>0</td>\n",
       "      <td>0</td>\n",
       "      <td>1</td>\n",
       "      <td>0</td>\n",
       "      <td>0</td>\n",
       "      <td>0</td>\n",
       "      <td>0</td>\n",
       "      <td>0</td>\n",
       "      <td>1</td>\n",
       "      <td>0</td>\n",
       "    </tr>\n",
       "    <tr>\n",
       "      <th>1</th>\n",
       "      <td>76.33</td>\n",
       "      <td>75.48</td>\n",
       "      <td>86.5</td>\n",
       "      <td>66.28</td>\n",
       "      <td>69</td>\n",
       "      <td>70</td>\n",
       "      <td>75</td>\n",
       "      <td>200000</td>\n",
       "      <td>1</td>\n",
       "      <td>1</td>\n",
       "      <td>...</td>\n",
       "      <td>0</td>\n",
       "      <td>0</td>\n",
       "      <td>0</td>\n",
       "      <td>1</td>\n",
       "      <td>0</td>\n",
       "      <td>0</td>\n",
       "      <td>1</td>\n",
       "      <td>0</td>\n",
       "      <td>0</td>\n",
       "      <td>0</td>\n",
       "    </tr>\n",
       "    <tr>\n",
       "      <th>2</th>\n",
       "      <td>72.00</td>\n",
       "      <td>66.63</td>\n",
       "      <td>0.0</td>\n",
       "      <td>52.91</td>\n",
       "      <td>50</td>\n",
       "      <td>61</td>\n",
       "      <td>59</td>\n",
       "      <td>240000</td>\n",
       "      <td>1</td>\n",
       "      <td>0</td>\n",
       "      <td>...</td>\n",
       "      <td>0</td>\n",
       "      <td>0</td>\n",
       "      <td>1</td>\n",
       "      <td>0</td>\n",
       "      <td>1</td>\n",
       "      <td>0</td>\n",
       "      <td>0</td>\n",
       "      <td>0</td>\n",
       "      <td>0</td>\n",
       "      <td>0</td>\n",
       "    </tr>\n",
       "    <tr>\n",
       "      <th>3</th>\n",
       "      <td>60.00</td>\n",
       "      <td>58.00</td>\n",
       "      <td>75.0</td>\n",
       "      <td>57.80</td>\n",
       "      <td>54</td>\n",
       "      <td>66</td>\n",
       "      <td>62</td>\n",
       "      <td>250000</td>\n",
       "      <td>1</td>\n",
       "      <td>0</td>\n",
       "      <td>...</td>\n",
       "      <td>0</td>\n",
       "      <td>0</td>\n",
       "      <td>0</td>\n",
       "      <td>0</td>\n",
       "      <td>0</td>\n",
       "      <td>0</td>\n",
       "      <td>0</td>\n",
       "      <td>0</td>\n",
       "      <td>0</td>\n",
       "      <td>0</td>\n",
       "    </tr>\n",
       "    <tr>\n",
       "      <th>4</th>\n",
       "      <td>61.00</td>\n",
       "      <td>54.00</td>\n",
       "      <td>66.0</td>\n",
       "      <td>59.43</td>\n",
       "      <td>52</td>\n",
       "      <td>65</td>\n",
       "      <td>67</td>\n",
       "      <td>180000</td>\n",
       "      <td>1</td>\n",
       "      <td>0</td>\n",
       "      <td>...</td>\n",
       "      <td>0</td>\n",
       "      <td>1</td>\n",
       "      <td>0</td>\n",
       "      <td>0</td>\n",
       "      <td>1</td>\n",
       "      <td>0</td>\n",
       "      <td>1</td>\n",
       "      <td>0</td>\n",
       "      <td>1</td>\n",
       "      <td>0</td>\n",
       "    </tr>\n",
       "  </tbody>\n",
       "</table>\n",
       "<p>5 rows × 24 columns</p>\n",
       "</div>"
      ],
      "text/plain": [
       "   Percent_SSC  Percent_Degree  Percentile_ET  Percent_MBA  \\\n",
       "0        62.00           52.00           55.0        58.80   \n",
       "1        76.33           75.48           86.5        66.28   \n",
       "2        72.00           66.63            0.0        52.91   \n",
       "3        60.00           58.00           75.0        57.80   \n",
       "4        61.00           54.00           66.0        59.43   \n",
       "\n",
       "   Marks_Communication  Marks_Projectwork  Marks_BOCA  Salary  Gender_M  \\\n",
       "0                   50                 65          74  270000         1   \n",
       "1                   69                 70          75  200000         1   \n",
       "2                   50                 61          59  240000         1   \n",
       "3                   54                 66          62  250000         1   \n",
       "4                   52                 65          67  180000         1   \n",
       "\n",
       "   Board_SSC_ICSE  ...  Entrance_Test_XAT  Board_HSC_ISC  Stream_HSC_Commerce  \\\n",
       "0               0  ...                  0              0                    1   \n",
       "1               1  ...                  0              0                    0   \n",
       "2               0  ...                  0              0                    1   \n",
       "3               0  ...                  0              0                    0   \n",
       "4               0  ...                  0              1                    0   \n",
       "\n",
       "   Course_Degree_Computer Applications  Course_Degree_Engineering  \\\n",
       "0                                    0                          0   \n",
       "1                                    1                          0   \n",
       "2                                    0                          1   \n",
       "3                                    0                          0   \n",
       "4                                    0                          1   \n",
       "\n",
       "   Course_Degree_Others  Experience_Yrs_1  Experience_Yrs_2  \\\n",
       "0                     0                 0                 0   \n",
       "1                     0                 1                 0   \n",
       "2                     0                 0                 0   \n",
       "3                     0                 0                 0   \n",
       "4                     0                 1                 0   \n",
       "\n",
       "   Specialization_MBA_Marketing & HR  Specialization_MBA_Marketing & IB  \n",
       "0                                  1                                  0  \n",
       "1                                  0                                  0  \n",
       "2                                  0                                  0  \n",
       "3                                  0                                  0  \n",
       "4                                  1                                  0  \n",
       "\n",
       "[5 rows x 24 columns]"
      ]
     },
     "execution_count": 286,
     "metadata": {},
     "output_type": "execute_result"
    }
   ],
   "source": [
    "df.head()"
   ]
  },
  {
   "cell_type": "code",
   "execution_count": 287,
   "metadata": {},
   "outputs": [],
   "source": [
    "X = df.drop('Salary', axis=1)\n",
    "y = df['Salary']"
   ]
  },
  {
   "cell_type": "code",
   "execution_count": 288,
   "metadata": {},
   "outputs": [
    {
     "name": "stdout",
     "output_type": "stream",
     "text": [
      "Shape of the X_train:  (218, 23) \n",
      " Shape of X_Test (94, 23)\n"
     ]
    }
   ],
   "source": [
    "X_train, X_test, y_train, y_test = train_test_split(X, y, test_size=0.30, random_state=0)\n",
    "print(\"Shape of the X_train: \", X_train.shape,'\\n' ,'Shape of X_Test',X_test.shape)"
   ]
  },
  {
   "cell_type": "code",
   "execution_count": 289,
   "metadata": {},
   "outputs": [],
   "source": [
    "lr  = LinearRegression()\n",
    "lr.fit(X_train, y_train)\n",
    "y_train_pred = lr.predict(X_train)"
   ]
  },
  {
   "cell_type": "code",
   "execution_count": 290,
   "metadata": {},
   "outputs": [
    {
     "name": "stdout",
     "output_type": "stream",
     "text": [
      "train data score: 0.21141347748727812\n"
     ]
    }
   ],
   "source": [
    "print('train data score:',r2_score(y_train, y_train_pred))"
   ]
  },
  {
   "cell_type": "code",
   "execution_count": 291,
   "metadata": {},
   "outputs": [],
   "source": [
    "y_test_pred = lr.predict(X_test)"
   ]
  },
  {
   "cell_type": "code",
   "execution_count": 292,
   "metadata": {},
   "outputs": [
    {
     "name": "stdout",
     "output_type": "stream",
     "text": [
      "test data score: 0.2579760955588012\n"
     ]
    }
   ],
   "source": [
    "print('test data score:',r2_score( y_test, y_test_pred))"
   ]
  },
  {
   "cell_type": "code",
   "execution_count": 351,
   "metadata": {},
   "outputs": [],
   "source": [
    "from sklearn.preprocessing import PolynomialFeatures\n",
    "\n",
    "poly = PolynomialFeatures()\n",
    "Xp  = poly.fit_transform(X)"
   ]
  },
  {
   "cell_type": "code",
   "execution_count": 361,
   "metadata": {},
   "outputs": [],
   "source": [
    "Xp.drop('1', axis=1, inplace=True)"
   ]
  },
  {
   "cell_type": "code",
   "execution_count": 362,
   "metadata": {},
   "outputs": [
    {
     "data": {
      "text/plain": [
       "Percent_SSC                                                              0\n",
       "Percent_Degree                                                           0\n",
       "Percentile_ET                                                            0\n",
       "Percent_MBA                                                              0\n",
       "Marks_Communication                                                      0\n",
       "                                                                      ... \n",
       "Experience_Yrs_2 Specialization_MBA_Marketing & HR                     312\n",
       "Experience_Yrs_2 Specialization_MBA_Marketing & IB                     312\n",
       "Specialization_MBA_Marketing & HR^2                                    312\n",
       "Specialization_MBA_Marketing & HR Specialization_MBA_Marketing & IB    312\n",
       "Specialization_MBA_Marketing & IB^2                                    312\n",
       "Length: 299, dtype: int64"
      ]
     },
     "execution_count": 362,
     "metadata": {},
     "output_type": "execute_result"
    }
   ],
   "source": [
    "Xp.isnull().sum()"
   ]
  },
  {
   "cell_type": "code",
   "execution_count": null,
   "metadata": {},
   "outputs": [],
   "source": []
  },
  {
   "cell_type": "code",
   "execution_count": null,
   "metadata": {},
   "outputs": [],
   "source": []
  },
  {
   "cell_type": "code",
   "execution_count": null,
   "metadata": {},
   "outputs": [],
   "source": []
  },
  {
   "cell_type": "code",
   "execution_count": null,
   "metadata": {},
   "outputs": [],
   "source": []
  },
  {
   "cell_type": "code",
   "execution_count": null,
   "metadata": {},
   "outputs": [],
   "source": []
  },
  {
   "cell_type": "code",
   "execution_count": null,
   "metadata": {},
   "outputs": [],
   "source": []
  },
  {
   "cell_type": "code",
   "execution_count": null,
   "metadata": {},
   "outputs": [],
   "source": []
  },
  {
   "cell_type": "code",
   "execution_count": null,
   "metadata": {},
   "outputs": [],
   "source": []
  },
  {
   "cell_type": "code",
   "execution_count": null,
   "metadata": {},
   "outputs": [],
   "source": []
  },
  {
   "cell_type": "code",
   "execution_count": null,
   "metadata": {},
   "outputs": [],
   "source": []
  }
 ],
 "metadata": {
  "kernelspec": {
   "display_name": "Python 3",
   "language": "python",
   "name": "python3"
  },
  "language_info": {
   "codemirror_mode": {
    "name": "ipython",
    "version": 3
   },
   "file_extension": ".py",
   "mimetype": "text/x-python",
   "name": "python",
   "nbconvert_exporter": "python",
   "pygments_lexer": "ipython3",
   "version": "3.7.3"
  }
 },
 "nbformat": 4,
 "nbformat_minor": 2
}
